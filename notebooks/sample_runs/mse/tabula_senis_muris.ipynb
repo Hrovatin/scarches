{
 "cells": [
  {
   "cell_type": "code",
   "execution_count": 1,
   "metadata": {},
   "outputs": [],
   "source": [
    "import os\n",
    "os.chdir(\"../../../\")"
   ]
  },
  {
   "cell_type": "code",
   "execution_count": 2,
   "metadata": {},
   "outputs": [],
   "source": [
    "import warnings\n",
    "warnings.filterwarnings('ignore')"
   ]
  },
  {
   "cell_type": "code",
   "execution_count": 55,
   "metadata": {
    "ExecuteTime": {
     "end_time": "2019-08-13T10:50:04.117605Z",
     "start_time": "2019-08-13T10:49:56.149959Z"
    }
   },
   "outputs": [],
   "source": [
    "import scanpy as sc\n",
    "import surgeon\n",
    "import numpy as np\n",
    "import pandas as pd\n",
    "import seaborn as sns\n",
    "from matplotlib import pyplot as plt\n",
    "from sklearn.metrics import accuracy_score"
   ]
  },
  {
   "cell_type": "code",
   "execution_count": 4,
   "metadata": {},
   "outputs": [],
   "source": [
    "os.environ['CUDA_VISIBLE_DEVICES'] = '1'"
   ]
  },
  {
   "cell_type": "code",
   "execution_count": 5,
   "metadata": {},
   "outputs": [],
   "source": [
    "sc.settings.set_figure_params(dpi=250)\n",
    "sc.settings.figdir = \"./results/integration/tabula_senis_muris/\""
   ]
  },
  {
   "cell_type": "code",
   "execution_count": 6,
   "metadata": {
    "ExecuteTime": {
     "end_time": "2019-08-13T10:50:29.028479Z",
     "start_time": "2019-08-13T10:50:29.024123Z"
    }
   },
   "outputs": [],
   "source": [
    "condition_key = \"method_age\"\n",
    "cell_type_key = 'cell_ontology_class'\n",
    "target_conditions = [\"droplet - 3m\", \"facs - 3m\"]"
   ]
  },
  {
   "cell_type": "markdown",
   "metadata": {},
   "source": [
    "# Loading mouse brain datasets and data preparation"
   ]
  },
  {
   "cell_type": "code",
   "execution_count": 7,
   "metadata": {
    "ExecuteTime": {
     "end_time": "2019-08-13T10:50:44.787739Z",
     "start_time": "2019-08-13T10:50:39.933471Z"
    }
   },
   "outputs": [
    {
     "data": {
      "text/plain": [
       "AnnData object with n_obs × n_vars = 196548 × 2000 \n",
       "    obs: 'FACS.selection', 'age', 'batch', 'cell', 'cell_ontology_class', 'cell_ontology_id', 'free_annotation', 'method', 'method_age', 'method_tissue', 'mouse.id', 'n_counts', 'n_genes', 'sex', 'subtissue', 'tissue', 'tissue_free_annotation'\n",
       "    var: 'n_cells-0', 'n_cells-1', 'highly_variable', 'means', 'dispersions', 'dispersions_norm', 'highly_variable_nbatches', 'highly_variable_intersection'"
      ]
     },
     "execution_count": 7,
     "metadata": {},
     "output_type": "execute_result"
    }
   ],
   "source": [
    "adata = sc.read(\"./data/tabula_senis_muris/tabula_senis_muris_normalized_hvg_subsampled.h5ad\")\n",
    "adata"
   ]
  },
  {
   "cell_type": "code",
   "execution_count": 8,
   "metadata": {},
   "outputs": [
    {
     "data": {
      "text/plain": [
       "View of AnnData object with n_obs × n_vars = 103070 × 2000 \n",
       "    obs: 'FACS.selection', 'age', 'batch', 'cell', 'cell_ontology_class', 'cell_ontology_id', 'free_annotation', 'method', 'method_age', 'method_tissue', 'mouse.id', 'n_counts', 'n_genes', 'sex', 'subtissue', 'tissue', 'tissue_free_annotation'\n",
       "    var: 'n_cells-0', 'n_cells-1', 'highly_variable', 'means', 'dispersions', 'dispersions_norm', 'highly_variable_nbatches', 'highly_variable_intersection'"
      ]
     },
     "execution_count": 8,
     "metadata": {},
     "output_type": "execute_result"
    }
   ],
   "source": [
    "adata_for_training = adata[~adata.obs['tissue'].isin(['Liver'])]\n",
    "adata_for_training = adata_for_training[~adata_for_training.obs[condition_key].isin(target_conditions)]\n",
    "adata_for_training"
   ]
  },
  {
   "cell_type": "code",
   "execution_count": 9,
   "metadata": {
    "ExecuteTime": {
     "end_time": "2019-08-13T10:50:32.552278Z",
     "start_time": "2019-08-13T10:50:32.370600Z"
    }
   },
   "outputs": [
    {
     "data": {
      "text/plain": [
       "View of AnnData object with n_obs × n_vars = 90120 × 2000 \n",
       "    obs: 'FACS.selection', 'age', 'batch', 'cell', 'cell_ontology_class', 'cell_ontology_id', 'free_annotation', 'method', 'method_age', 'method_tissue', 'mouse.id', 'n_counts', 'n_genes', 'sex', 'subtissue', 'tissue', 'tissue_free_annotation'\n",
       "    var: 'n_cells-0', 'n_cells-1', 'highly_variable', 'means', 'dispersions', 'dispersions_norm', 'highly_variable_nbatches', 'highly_variable_intersection'"
      ]
     },
     "execution_count": 9,
     "metadata": {},
     "output_type": "execute_result"
    }
   ],
   "source": [
    "adata_out_of_sample = adata[adata.obs[condition_key].isin(target_conditions)]\n",
    "adata_out_of_sample"
   ]
  },
  {
   "cell_type": "code",
   "execution_count": null,
   "metadata": {},
   "outputs": [],
   "source": [
    "adata_for_training.obs['Tech'] = 'Tabula Senis'\n",
    "adata_out_of_sample.obs['Tech'] = 'Tabula Muris'"
   ]
  },
  {
   "cell_type": "markdown",
   "metadata": {},
   "source": [
    "## Train/Test Split"
   ]
  },
  {
   "cell_type": "code",
   "execution_count": 10,
   "metadata": {
    "ExecuteTime": {
     "end_time": "2019-08-13T10:50:52.902589Z",
     "start_time": "2019-08-13T10:50:52.540384Z"
    }
   },
   "outputs": [],
   "source": [
    "train_adata, valid_adata = surgeon.utils.train_test_split(adata_for_training, 0.80)"
   ]
  },
  {
   "cell_type": "code",
   "execution_count": 11,
   "metadata": {
    "ExecuteTime": {
     "end_time": "2019-08-13T10:52:40.098344Z",
     "start_time": "2019-08-13T10:52:40.091959Z"
    }
   },
   "outputs": [
    {
     "data": {
      "text/plain": [
       "((82456, 2000), (20614, 2000))"
      ]
     },
     "execution_count": 11,
     "metadata": {},
     "output_type": "execute_result"
    }
   ],
   "source": [
    "train_adata.shape, valid_adata.shape"
   ]
  },
  {
   "cell_type": "code",
   "execution_count": 12,
   "metadata": {
    "ExecuteTime": {
     "end_time": "2019-08-13T10:52:41.743462Z",
     "start_time": "2019-08-13T10:52:41.737308Z"
    }
   },
   "outputs": [
    {
     "data": {
      "text/plain": [
       "8"
      ]
     },
     "execution_count": 12,
     "metadata": {},
     "output_type": "execute_result"
    }
   ],
   "source": [
    "n_conditions = len(train_adata.obs[condition_key].unique().tolist())\n",
    "n_conditions"
   ]
  },
  {
   "cell_type": "markdown",
   "metadata": {},
   "source": [
    "# Create & Train model with training data"
   ]
  },
  {
   "cell_type": "code",
   "execution_count": 13,
   "metadata": {
    "ExecuteTime": {
     "end_time": "2019-08-13T10:52:58.145145Z",
     "start_time": "2019-08-13T10:52:57.039326Z"
    }
   },
   "outputs": [
    {
     "name": "stdout",
     "output_type": "stream",
     "text": [
      "WARNING:tensorflow:From /home/mohsen/anaconda3/envs/mohsen/lib/python3.7/site-packages/tensorflow/python/framework/op_def_library.py:263: colocate_with (from tensorflow.python.framework.ops) is deprecated and will be removed in a future version.\n",
      "Instructions for updating:\n",
      "Colocations handled automatically by placer.\n",
      "WARNING:tensorflow:From /home/mohsen/anaconda3/envs/mohsen/lib/python3.7/site-packages/keras/backend/tensorflow_backend.py:3445: calling dropout (from tensorflow.python.ops.nn_ops) with keep_prob is deprecated and will be removed in a future version.\n",
      "Instructions for updating:\n",
      "Please use `rate` instead of `keep_prob`. Rate should be set to `rate = 1 - keep_prob`.\n",
      "__________________________________________________________________________________________________\n",
      "Layer (type)                    Output Shape         Param #     Connected to                     \n",
      "==================================================================================================\n",
      "data (InputLayer)               (None, 2000)         0                                            \n",
      "__________________________________________________________________________________________________\n",
      "encoder_labels (InputLayer)     (None, 8)            0                                            \n",
      "__________________________________________________________________________________________________\n",
      "first_layer (FirstLayer)        (None, 1024)         2056192     data[0][0]                       \n",
      "                                                                 encoder_labels[0][0]             \n",
      "__________________________________________________________________________________________________\n",
      "leaky_re_lu_1 (LeakyReLU)       (None, 1024)         0           first_layer[0][0]                \n",
      "__________________________________________________________________________________________________\n",
      "dropout_1 (Dropout)             (None, 1024)         0           leaky_re_lu_1[0][0]              \n",
      "__________________________________________________________________________________________________\n",
      "dense_1 (Dense)                 (None, 256)          262144      dropout_1[0][0]                  \n",
      "__________________________________________________________________________________________________\n",
      "leaky_re_lu_2 (LeakyReLU)       (None, 256)          0           dense_1[0][0]                    \n",
      "__________________________________________________________________________________________________\n",
      "dropout_2 (Dropout)             (None, 256)          0           leaky_re_lu_2[0][0]              \n",
      "__________________________________________________________________________________________________\n",
      "dense_2 (Dense)                 (None, 128)          32768       dropout_2[0][0]                  \n",
      "__________________________________________________________________________________________________\n",
      "leaky_re_lu_3 (LeakyReLU)       (None, 128)          0           dense_2[0][0]                    \n",
      "__________________________________________________________________________________________________\n",
      "dropout_3 (Dropout)             (None, 128)          0           leaky_re_lu_3[0][0]              \n",
      "__________________________________________________________________________________________________\n",
      "dense_3 (Dense)                 (None, 32)           4096        dropout_3[0][0]                  \n",
      "__________________________________________________________________________________________________\n",
      "leaky_re_lu_4 (LeakyReLU)       (None, 32)           0           dense_3[0][0]                    \n",
      "__________________________________________________________________________________________________\n",
      "dropout_4 (Dropout)             (None, 32)           0           leaky_re_lu_4[0][0]              \n",
      "__________________________________________________________________________________________________\n",
      "dense_4 (Dense)                 (None, 15)           495         dropout_4[0][0]                  \n",
      "__________________________________________________________________________________________________\n",
      "dense_5 (Dense)                 (None, 15)           495         dropout_4[0][0]                  \n",
      "__________________________________________________________________________________________________\n",
      "lambda_1 (Lambda)               (None, 15)           0           dense_4[0][0]                    \n",
      "                                                                 dense_5[0][0]                    \n",
      "==================================================================================================\n",
      "Total params: 2,356,190\n",
      "Trainable params: 2,356,190\n",
      "Non-trainable params: 0\n",
      "__________________________________________________________________________________________________\n",
      "__________________________________________________________________________________________________\n",
      "Layer (type)                    Output Shape         Param #     Connected to                     \n",
      "==================================================================================================\n",
      "latent_data (InputLayer)        (None, 15)           0                                            \n",
      "__________________________________________________________________________________________________\n",
      "decoder_labels (InputLayer)     (None, 8)            0                                            \n",
      "__________________________________________________________________________________________________\n",
      "first_layer (FirstLayer)        (None, 32)           736         latent_data[0][0]                \n",
      "                                                                 decoder_labels[0][0]             \n",
      "__________________________________________________________________________________________________\n",
      "leaky_re_lu_5 (LeakyReLU)       (None, 32)           0           first_layer[0][0]                \n",
      "__________________________________________________________________________________________________\n",
      "dropout_5 (Dropout)             (None, 32)           0           leaky_re_lu_5[0][0]              \n",
      "__________________________________________________________________________________________________\n",
      "dense_6 (Dense)                 (None, 128)          4096        dropout_5[0][0]                  \n",
      "__________________________________________________________________________________________________\n",
      "leaky_re_lu_6 (LeakyReLU)       (None, 128)          0           dense_6[0][0]                    \n",
      "__________________________________________________________________________________________________\n",
      "dropout_6 (Dropout)             (None, 128)          0           leaky_re_lu_6[0][0]              \n",
      "__________________________________________________________________________________________________\n",
      "dense_7 (Dense)                 (None, 256)          32768       dropout_6[0][0]                  \n",
      "__________________________________________________________________________________________________\n",
      "leaky_re_lu_7 (LeakyReLU)       (None, 256)          0           dense_7[0][0]                    \n",
      "__________________________________________________________________________________________________\n",
      "dropout_7 (Dropout)             (None, 256)          0           leaky_re_lu_7[0][0]              \n",
      "__________________________________________________________________________________________________\n",
      "dense_8 (Dense)                 (None, 1024)         262144      dropout_7[0][0]                  \n",
      "__________________________________________________________________________________________________\n",
      "leaky_re_lu_8 (LeakyReLU)       (None, 1024)         0           dense_8[0][0]                    \n",
      "__________________________________________________________________________________________________\n",
      "dropout_8 (Dropout)             (None, 1024)         0           leaky_re_lu_8[0][0]              \n",
      "__________________________________________________________________________________________________\n",
      "dense_9 (Dense)                 (None, 2000)         2050000     dropout_8[0][0]                  \n",
      "__________________________________________________________________________________________________\n",
      "reconstruction_output (Activati (None, 2000)         0           dense_9[0][0]                    \n",
      "==================================================================================================\n",
      "Total params: 2,349,744\n",
      "Trainable params: 2,349,744\n",
      "Non-trainable params: 0\n",
      "__________________________________________________________________________________________________\n",
      "__________________________________________________________________________________________________\n",
      "Layer (type)                    Output Shape         Param #     Connected to                     \n",
      "==================================================================================================\n",
      "data (InputLayer)               (None, 2000)         0                                            \n",
      "__________________________________________________________________________________________________\n",
      "encoder_labels (InputLayer)     (None, 8)            0                                            \n",
      "__________________________________________________________________________________________________\n",
      "encoder (Model)                 [(None, 15), (None,  2356190     data[0][0]                       \n",
      "                                                                 encoder_labels[0][0]             \n",
      "__________________________________________________________________________________________________\n",
      "decoder_labels (InputLayer)     (None, 8)            0                                            \n",
      "__________________________________________________________________________________________________\n",
      "decoder (Model)                 (None, 2000)         2349744     encoder[1][2]                    \n",
      "                                                                 decoder_labels[0][0]             \n",
      "__________________________________________________________________________________________________\n",
      "mmd_decoder (Model)             (None, 32)           736         encoder[1][2]                    \n",
      "                                                                 decoder_labels[0][0]             \n",
      "__________________________________________________________________________________________________\n",
      "reconstruction (Lambda)         (None, 2000)         0           decoder[1][0]                    \n",
      "__________________________________________________________________________________________________\n",
      "mmd (Lambda)                    (None, 32)           0           mmd_decoder[1][0]                \n",
      "==================================================================================================\n",
      "Total params: 4,705,934\n",
      "Trainable params: 4,705,934\n",
      "Non-trainable params: 0\n",
      "__________________________________________________________________________________________________\n"
     ]
    }
   ],
   "source": [
    "network = surgeon.archs.CVAE(x_dimension=train_adata.shape[1], \n",
    "                             z_dimension=15,\n",
    "                             architecture=[1024, 256, 128, 32],\n",
    "                             n_conditions=n_conditions,\n",
    "                             use_batchnorm=False,\n",
    "                             lr=0.001,\n",
    "                             alpha=0.001,\n",
    "                             beta=1000,\n",
    "                             eta=10,\n",
    "                             clip_value=10.0,\n",
    "                             loss_fn='mse',\n",
    "                             mmd_computation_method='5',\n",
    "                             model_path=\"./models/CVAE/tabula_senis/before/\",\n",
    "                             dropout_rate=0.05,\n",
    "                             output_activation='relu')"
   ]
  },
  {
   "cell_type": "markdown",
   "metadata": {},
   "source": [
    "## We assign each study to a numerical label "
   ]
  },
  {
   "cell_type": "code",
   "execution_count": 14,
   "metadata": {},
   "outputs": [
    {
     "data": {
      "text/plain": [
       "droplet - 30m    17070\n",
       "droplet - 18m    14201\n",
       "droplet - 24m    11878\n",
       "droplet - 21m    11331\n",
       "facs - 18m       10595\n",
       "facs - 24m        9714\n",
       "droplet - 1m      7436\n",
       "facs - 21m         231\n",
       "Name: method_age, dtype: int64"
      ]
     },
     "execution_count": 14,
     "metadata": {},
     "output_type": "execute_result"
    }
   ],
   "source": [
    "train_adata.obs[condition_key].value_counts()"
   ]
  },
  {
   "cell_type": "code",
   "execution_count": 15,
   "metadata": {
    "ExecuteTime": {
     "end_time": "2019-08-13T10:53:00.970732Z",
     "start_time": "2019-08-13T10:53:00.966486Z"
    }
   },
   "outputs": [
    {
     "data": {
      "text/plain": [
       "{'droplet - 18m': 0,\n",
       " 'droplet - 1m': 1,\n",
       " 'droplet - 21m': 2,\n",
       " 'droplet - 24m': 3,\n",
       " 'droplet - 30m': 4,\n",
       " 'facs - 18m': 5,\n",
       " 'facs - 21m': 6,\n",
       " 'facs - 24m': 7}"
      ]
     },
     "execution_count": 15,
     "metadata": {},
     "output_type": "execute_result"
    }
   ],
   "source": [
    "conditions = adata.obs[condition_key].unique().tolist()\n",
    "condition_encoder = surgeon.utils.create_dictionary(sorted(conditions), target_conditions)\n",
    "condition_encoder"
   ]
  },
  {
   "cell_type": "markdown",
   "metadata": {
    "ExecuteTime": {
     "end_time": "2019-08-13T09:14:27.812699Z",
     "start_time": "2019-08-13T09:14:27.808601Z"
    }
   },
   "source": [
    "## Training the network"
   ]
  },
  {
   "cell_type": "code",
   "execution_count": 16,
   "metadata": {
    "ExecuteTime": {
     "end_time": "2019-08-13T11:01:55.484453Z",
     "start_time": "2019-08-13T10:53:40.232087Z"
    }
   },
   "outputs": [
    {
     "name": "stdout",
     "output_type": "stream",
     "text": [
      "Model has been successfully restored!\n"
     ]
    }
   ],
   "source": [
    "network.train(train_adata,\n",
    "              valid_adata, \n",
    "              condition_key=condition_key,\n",
    "              le=condition_encoder, \n",
    "              n_epochs=1000,\n",
    "              n_per_epoch=0,\n",
    "              batch_size=1024, \n",
    "              early_stop_limit=50,\n",
    "              lr_reducer=40, \n",
    "              save=True, \n",
    "              retrain=False,\n",
    "              verbose=5)"
   ]
  },
  {
   "cell_type": "code",
   "execution_count": 17,
   "metadata": {
    "ExecuteTime": {
     "end_time": "2019-08-13T11:01:55.532409Z",
     "start_time": "2019-08-13T10:53:40.725Z"
    }
   },
   "outputs": [
    {
     "data": {
      "text/plain": [
       "{'droplet - 18m': 0,\n",
       " 'droplet - 1m': 1,\n",
       " 'droplet - 21m': 2,\n",
       " 'droplet - 24m': 3,\n",
       " 'droplet - 30m': 4,\n",
       " 'facs - 18m': 5,\n",
       " 'facs - 21m': 6,\n",
       " 'facs - 24m': 7}"
      ]
     },
     "execution_count": 17,
     "metadata": {},
     "output_type": "execute_result"
    }
   ],
   "source": [
    "network.condition_encoder"
   ]
  },
  {
   "cell_type": "code",
   "execution_count": 18,
   "metadata": {
    "ExecuteTime": {
     "end_time": "2019-08-13T10:33:14.852156Z",
     "start_time": "2019-08-13T10:33:14.844873Z"
    }
   },
   "outputs": [],
   "source": [
    "# encoder_labels, _ = surgeon.utils.label_encoder(\n",
    "#     adata_for_training, label_encoder=network.condition_encoder, condition_key=condition_key)"
   ]
  },
  {
   "cell_type": "code",
   "execution_count": 19,
   "metadata": {
    "ExecuteTime": {
     "end_time": "2019-08-13T10:33:16.691071Z",
     "start_time": "2019-08-13T10:33:15.644281Z"
    }
   },
   "outputs": [],
   "source": [
    "# latent_adata = network.to_mmd_layer(adata_for_training, encoder_labels, encoder_labels)\n",
    "# latent_adata"
   ]
  },
  {
   "cell_type": "code",
   "execution_count": 20,
   "metadata": {
    "ExecuteTime": {
     "end_time": "2019-08-13T10:33:40.226789Z",
     "start_time": "2019-08-13T10:33:17.491445Z"
    }
   },
   "outputs": [],
   "source": [
    "# sc.pp.neighbors(latent_adata)\n",
    "# sc.tl.umap(latent_adata)"
   ]
  },
  {
   "cell_type": "code",
   "execution_count": 21,
   "metadata": {},
   "outputs": [],
   "source": [
    "# sc.pl.umap(latent_adata, color='method', frameon=False, save='_pretrain_method.pdf')\n",
    "# sc.pl.umap(latent_adata, color='tissue', frameon=False, save='_pretrain_tissue.pdf', palette=sc.pl.palettes.godsnot_102)\n",
    "# sc.pl.umap(latent_adata, color='age', frameon=False, save='_pretrain_age.pdf', palette=sc.pl.palettes.zeileis_28)\n",
    "# sc.pl.umap(latent_adata, color=condition_key, frameon=False, save=f'_pretrain_{condition_key}.pdf', palette=sc.pl.palettes.godsnot_102)\n",
    "# sc.pl.umap(latent_adata, color='Tech', frameon=False, save=f'_pretrain_Tech.pdf', palette=sc.pl.palettes.godsnot_102)"
   ]
  },
  {
   "cell_type": "markdown",
   "metadata": {},
   "source": [
    "# Perfroming architecture Surgery"
   ]
  },
  {
   "cell_type": "code",
   "execution_count": 22,
   "metadata": {
    "ExecuteTime": {
     "end_time": "2019-08-13T10:35:12.346781Z",
     "start_time": "2019-08-13T10:35:08.548000Z"
    }
   },
   "outputs": [
    {
     "name": "stdout",
     "output_type": "stream",
     "text": [
      "__________________________________________________________________________________________________\n",
      "Layer (type)                    Output Shape         Param #     Connected to                     \n",
      "==================================================================================================\n",
      "data (InputLayer)               (None, 2000)         0                                            \n",
      "__________________________________________________________________________________________________\n",
      "encoder_labels (InputLayer)     (None, 10)           0                                            \n",
      "__________________________________________________________________________________________________\n",
      "first_layer (FirstLayer)        (None, 1024)         2058240     data[0][0]                       \n",
      "                                                                 encoder_labels[0][0]             \n",
      "__________________________________________________________________________________________________\n",
      "leaky_re_lu_9 (LeakyReLU)       (None, 1024)         0           first_layer[0][0]                \n",
      "__________________________________________________________________________________________________\n",
      "dropout_9 (Dropout)             (None, 1024)         0           leaky_re_lu_9[0][0]              \n",
      "__________________________________________________________________________________________________\n",
      "dense_10 (Dense)                (None, 256)          262144      dropout_9[0][0]                  \n",
      "__________________________________________________________________________________________________\n",
      "leaky_re_lu_10 (LeakyReLU)      (None, 256)          0           dense_10[0][0]                   \n",
      "__________________________________________________________________________________________________\n",
      "dropout_10 (Dropout)            (None, 256)          0           leaky_re_lu_10[0][0]             \n",
      "__________________________________________________________________________________________________\n",
      "dense_11 (Dense)                (None, 128)          32768       dropout_10[0][0]                 \n",
      "__________________________________________________________________________________________________\n",
      "leaky_re_lu_11 (LeakyReLU)      (None, 128)          0           dense_11[0][0]                   \n",
      "__________________________________________________________________________________________________\n",
      "dropout_11 (Dropout)            (None, 128)          0           leaky_re_lu_11[0][0]             \n",
      "__________________________________________________________________________________________________\n",
      "dense_12 (Dense)                (None, 32)           4096        dropout_11[0][0]                 \n",
      "__________________________________________________________________________________________________\n",
      "leaky_re_lu_12 (LeakyReLU)      (None, 32)           0           dense_12[0][0]                   \n",
      "__________________________________________________________________________________________________\n",
      "dropout_12 (Dropout)            (None, 32)           0           leaky_re_lu_12[0][0]             \n",
      "__________________________________________________________________________________________________\n",
      "dense_13 (Dense)                (None, 15)           495         dropout_12[0][0]                 \n",
      "__________________________________________________________________________________________________\n",
      "dense_14 (Dense)                (None, 15)           495         dropout_12[0][0]                 \n",
      "__________________________________________________________________________________________________\n",
      "lambda_2 (Lambda)               (None, 15)           0           dense_13[0][0]                   \n",
      "                                                                 dense_14[0][0]                   \n",
      "==================================================================================================\n",
      "Total params: 2,358,238\n",
      "Trainable params: 10,240\n",
      "Non-trainable params: 2,347,998\n",
      "__________________________________________________________________________________________________\n",
      "__________________________________________________________________________________________________\n",
      "Layer (type)                    Output Shape         Param #     Connected to                     \n",
      "==================================================================================================\n",
      "latent_data (InputLayer)        (None, 15)           0                                            \n",
      "__________________________________________________________________________________________________\n",
      "decoder_labels (InputLayer)     (None, 10)           0                                            \n",
      "__________________________________________________________________________________________________\n",
      "first_layer (FirstLayer)        (None, 32)           800         latent_data[0][0]                \n",
      "                                                                 decoder_labels[0][0]             \n",
      "__________________________________________________________________________________________________\n",
      "leaky_re_lu_13 (LeakyReLU)      (None, 32)           0           first_layer[0][0]                \n",
      "__________________________________________________________________________________________________\n",
      "dropout_13 (Dropout)            (None, 32)           0           leaky_re_lu_13[0][0]             \n",
      "__________________________________________________________________________________________________\n",
      "dense_15 (Dense)                (None, 128)          4096        dropout_13[0][0]                 \n",
      "__________________________________________________________________________________________________\n",
      "leaky_re_lu_14 (LeakyReLU)      (None, 128)          0           dense_15[0][0]                   \n",
      "__________________________________________________________________________________________________\n",
      "dropout_14 (Dropout)            (None, 128)          0           leaky_re_lu_14[0][0]             \n",
      "__________________________________________________________________________________________________\n",
      "dense_16 (Dense)                (None, 256)          32768       dropout_14[0][0]                 \n",
      "__________________________________________________________________________________________________\n",
      "leaky_re_lu_15 (LeakyReLU)      (None, 256)          0           dense_16[0][0]                   \n",
      "__________________________________________________________________________________________________\n",
      "dropout_15 (Dropout)            (None, 256)          0           leaky_re_lu_15[0][0]             \n",
      "__________________________________________________________________________________________________\n",
      "dense_17 (Dense)                (None, 1024)         262144      dropout_15[0][0]                 \n",
      "__________________________________________________________________________________________________\n",
      "leaky_re_lu_16 (LeakyReLU)      (None, 1024)         0           dense_17[0][0]                   \n",
      "__________________________________________________________________________________________________\n",
      "dropout_16 (Dropout)            (None, 1024)         0           leaky_re_lu_16[0][0]             \n",
      "__________________________________________________________________________________________________\n",
      "dense_18 (Dense)                (None, 2000)         2050000     dropout_16[0][0]                 \n",
      "__________________________________________________________________________________________________\n",
      "reconstruction_output (Activati (None, 2000)         0           dense_18[0][0]                   \n",
      "==================================================================================================\n",
      "Total params: 2,349,808\n",
      "Trainable params: 320\n",
      "Non-trainable params: 2,349,488\n",
      "__________________________________________________________________________________________________\n",
      "__________________________________________________________________________________________________\n",
      "Layer (type)                    Output Shape         Param #     Connected to                     \n",
      "==================================================================================================\n",
      "data (InputLayer)               (None, 2000)         0                                            \n",
      "__________________________________________________________________________________________________\n",
      "encoder_labels (InputLayer)     (None, 10)           0                                            \n",
      "__________________________________________________________________________________________________\n",
      "encoder (Model)                 [(None, 15), (None,  2358238     data[0][0]                       \n",
      "                                                                 encoder_labels[0][0]             \n",
      "__________________________________________________________________________________________________\n",
      "decoder_labels (InputLayer)     (None, 10)           0                                            \n",
      "__________________________________________________________________________________________________\n",
      "decoder (Model)                 (None, 2000)         2349808     encoder[1][2]                    \n",
      "                                                                 decoder_labels[0][0]             \n",
      "__________________________________________________________________________________________________\n",
      "mmd_decoder (Model)             (None, 32)           800         encoder[1][2]                    \n",
      "                                                                 decoder_labels[0][0]             \n",
      "__________________________________________________________________________________________________\n",
      "reconstruction (Lambda)         (None, 2000)         0           decoder[1][0]                    \n",
      "__________________________________________________________________________________________________\n",
      "mmd (Lambda)                    (None, 32)           0           mmd_decoder[1][0]                \n",
      "==================================================================================================\n",
      "Total params: 4,708,046\n",
      "Trainable params: 10,560\n",
      "Non-trainable params: 4,697,486\n",
      "__________________________________________________________________________________________________\n"
     ]
    }
   ],
   "source": [
    "new_network = surgeon.operate(network, \n",
    "                              new_conditions=target_conditions,\n",
    "                              init='Xavier', \n",
    "                              freeze=True,\n",
    "                              freeze_expression_input=True,\n",
    "                              remove_dropout=False,\n",
    "                              new_training_kwargs={\"beta\": 1000},\n",
    "                              new_network_kwargs={\"mmd_computation_method\": \"general\"}\n",
    "                             )"
   ]
  },
  {
   "cell_type": "code",
   "execution_count": 23,
   "metadata": {
    "ExecuteTime": {
     "end_time": "2019-08-13T10:35:40.342869Z",
     "start_time": "2019-08-13T10:35:40.336300Z"
    }
   },
   "outputs": [
    {
     "data": {
      "text/plain": [
       "{'droplet - 18m': 0,\n",
       " 'droplet - 1m': 1,\n",
       " 'droplet - 21m': 2,\n",
       " 'droplet - 24m': 3,\n",
       " 'droplet - 30m': 4,\n",
       " 'facs - 18m': 5,\n",
       " 'facs - 21m': 6,\n",
       " 'facs - 24m': 7,\n",
       " 'droplet - 3m': 8,\n",
       " 'facs - 3m': 9}"
      ]
     },
     "execution_count": 23,
     "metadata": {},
     "output_type": "execute_result"
    }
   ],
   "source": [
    "new_network.condition_encoder"
   ]
  },
  {
   "cell_type": "markdown",
   "metadata": {},
   "source": [
    "## Train with small new dataset containing out-of-sample condition"
   ]
  },
  {
   "cell_type": "code",
   "execution_count": 24,
   "metadata": {
    "ExecuteTime": {
     "end_time": "2019-08-13T10:35:58.207181Z",
     "start_time": "2019-08-13T10:35:58.025557Z"
    }
   },
   "outputs": [],
   "source": [
    "train_adata, valid_adata = surgeon.utils.train_test_split(adata_out_of_sample, 0.80)"
   ]
  },
  {
   "cell_type": "code",
   "execution_count": 25,
   "metadata": {
    "ExecuteTime": {
     "end_time": "2019-08-13T10:36:00.820047Z",
     "start_time": "2019-08-13T10:36:00.812119Z"
    }
   },
   "outputs": [
    {
     "data": {
      "text/plain": [
       "((72096, 2000), (18024, 2000))"
      ]
     },
     "execution_count": 25,
     "metadata": {},
     "output_type": "execute_result"
    }
   ],
   "source": [
    "train_adata.shape, valid_adata.shape"
   ]
  },
  {
   "cell_type": "code",
   "execution_count": 26,
   "metadata": {},
   "outputs": [],
   "source": [
    "new_network.model_path = \"./models/CVAE/tabula_senis/after/\""
   ]
  },
  {
   "cell_type": "code",
   "execution_count": 27,
   "metadata": {
    "ExecuteTime": {
     "end_time": "2019-08-13T10:39:00.665321Z",
     "start_time": "2019-08-13T10:37:40.065382Z"
    }
   },
   "outputs": [
    {
     "name": "stdout",
     "output_type": "stream",
     "text": [
      "Model has been successfully restored!\n"
     ]
    }
   ],
   "source": [
    "new_network.train(train_adata,\n",
    "                  valid_adata, \n",
    "                  condition_key=condition_key,\n",
    "                  le=new_network.condition_encoder, \n",
    "                  n_epochs=10000,\n",
    "                  batch_size=1024, \n",
    "                  early_stop_limit=50,\n",
    "                  lr_reducer=40, \n",
    "                  n_per_epoch=0,\n",
    "                  save=True,\n",
    "                  retrain=False,\n",
    "                  verbose=5)"
   ]
  },
  {
   "cell_type": "markdown",
   "metadata": {},
   "source": [
    "# Muris Latent Visualization"
   ]
  },
  {
   "cell_type": "code",
   "execution_count": 29,
   "metadata": {
    "ExecuteTime": {
     "end_time": "2019-08-13T10:42:54.510961Z",
     "start_time": "2019-08-13T10:42:54.502734Z"
    }
   },
   "outputs": [],
   "source": [
    "# encoder_labels, _ = surgeon.utils.label_encoder(adata_out_of_sample, label_encoder=new_network.condition_encoder, condition_key=condition_key)"
   ]
  },
  {
   "cell_type": "code",
   "execution_count": 31,
   "metadata": {
    "ExecuteTime": {
     "end_time": "2019-08-13T10:42:57.809007Z",
     "start_time": "2019-08-13T10:42:56.286130Z"
    }
   },
   "outputs": [],
   "source": [
    "# latent_adata = new_network.to_mmd_layer(adata_out_of_sample, encoder_labels, encoder_labels)\n",
    "# latent_adata"
   ]
  },
  {
   "cell_type": "code",
   "execution_count": 32,
   "metadata": {
    "ExecuteTime": {
     "end_time": "2019-08-13T10:43:14.391875Z",
     "start_time": "2019-08-13T10:42:58.514894Z"
    }
   },
   "outputs": [],
   "source": [
    "# sc.pp.neighbors(latent_adata)\n",
    "# sc.tl.umap(latent_adata)"
   ]
  },
  {
   "cell_type": "code",
   "execution_count": 33,
   "metadata": {
    "ExecuteTime": {
     "end_time": "2019-08-13T10:43:16.000817Z",
     "start_time": "2019-08-13T10:43:15.146241Z"
    }
   },
   "outputs": [],
   "source": [
    "# sc.pl.umap(latent_adata, color='method', frameon=False, save='_after_surgery_muris_method.pdf')\n",
    "# sc.pl.umap(latent_adata, color='tissue', frameon=False, save='_after_surgery_muris_tissue.pdf', palette=sc.pl.palettes.godsnot_102)\n",
    "# sc.pl.umap(latent_adata, color='age', frameon=False, save='_after_surgery_muris_age.pdf', palette=sc.pl.palettes.zeileis_28)\n",
    "# sc.pl.umap(latent_adata, color='Tech', frameon=False, save='_after_surgery_muris_Tech.pdf', palette=sc.pl.palettes.godsnot_102)\n",
    "# sc.pl.umap(latent_adata, color=condition_key, frameon=False, save=f'_after_surgery_muris_{condition_key}.pdf', palette=sc.pl.palettes.godsnot_102)"
   ]
  },
  {
   "cell_type": "markdown",
   "metadata": {},
   "source": [
    "# Muris + Senis Latent Visualization"
   ]
  },
  {
   "cell_type": "code",
   "execution_count": 34,
   "metadata": {},
   "outputs": [],
   "source": [
    "# encoder_labels, _ = surgeon.utils.label_encoder(adata_for_training.concatenate(adata_out_of_sample), label_encoder=new_network.condition_encoder, condition_key=condition_key)"
   ]
  },
  {
   "cell_type": "code",
   "execution_count": 35,
   "metadata": {},
   "outputs": [],
   "source": [
    "# latent_adata = new_network.to_mmd_layer(adata_for_training.concatenate(adata_out_of_sample), encoder_labels, encoder_labels)\n",
    "# latent_adata"
   ]
  },
  {
   "cell_type": "code",
   "execution_count": 36,
   "metadata": {},
   "outputs": [],
   "source": [
    "# sc.pp.neighbors(latent_adata)\n",
    "# sc.tl.umap(latent_adata)"
   ]
  },
  {
   "cell_type": "code",
   "execution_count": 37,
   "metadata": {},
   "outputs": [],
   "source": [
    "# sc.pl.umap(latent_adata, color='method', frameon=False, save='_after_surgery_senis+muris_method.pdf')\n",
    "# sc.pl.umap(latent_adata, color='tissue', frameon=False, save='_after_surgery_senis+muris_tissue.pdf', palette=sc.pl.palettes.godsnot_102)\n",
    "# sc.pl.umap(latent_adata, color='age', frameon=False, save='_after_surgery_senis+muris_age.pdf', palette=sc.pl.palettes.zeileis_28)\n",
    "# sc.pl.umap(latent_adata, color='Tech', frameon=False, save='_after_surgery_senis+muris_Tech.pdf', palette=sc.pl.palettes.godsnot_102)\n",
    "# sc.pl.umap(latent_adata, color=condition_key, frameon=False, save=f'_after_surgery_senis+muris_{condition_key}.pdf', palette=sc.pl.palettes.godsnot_102)"
   ]
  },
  {
   "cell_type": "markdown",
   "metadata": {},
   "source": [
    "# Weighted KNN"
   ]
  },
  {
   "cell_type": "code",
   "execution_count": 38,
   "metadata": {},
   "outputs": [],
   "source": [
    "adata_out_of_sample = surgeon.utils.remove_sparsity(adata_out_of_sample)"
   ]
  },
  {
   "cell_type": "code",
   "execution_count": 39,
   "metadata": {},
   "outputs": [],
   "source": [
    "n_neighbors = [50, 80]\n",
    "thresholds = [0.2, 0.25, 0.3, 0.35, 0.4, 0.45, 0.5]"
   ]
  },
  {
   "cell_type": "markdown",
   "metadata": {},
   "source": [
    "### 1. Compute Latents for Tabula Senis and Muris"
   ]
  },
  {
   "cell_type": "code",
   "execution_count": 40,
   "metadata": {},
   "outputs": [],
   "source": [
    "encoder_labels, _ = surgeon.utils.label_encoder(adata_for_training, label_encoder=new_network.condition_encoder, condition_key=condition_key)"
   ]
  },
  {
   "cell_type": "code",
   "execution_count": 41,
   "metadata": {},
   "outputs": [
    {
     "data": {
      "text/plain": [
       "AnnData object with n_obs × n_vars = 103070 × 32 \n",
       "    obs: 'FACS.selection', 'age', 'batch', 'cell', 'cell_ontology_class', 'cell_ontology_id', 'free_annotation', 'method', 'method_age', 'method_tissue', 'mouse.id', 'n_counts', 'n_genes', 'sex', 'subtissue', 'tissue', 'tissue_free_annotation'"
      ]
     },
     "execution_count": 41,
     "metadata": {},
     "output_type": "execute_result"
    }
   ],
   "source": [
    "latent_adata_for_training = new_network.to_mmd_layer(adata_for_training, encoder_labels, encoder_labels)\n",
    "latent_adata_for_training"
   ]
  },
  {
   "cell_type": "code",
   "execution_count": 42,
   "metadata": {},
   "outputs": [],
   "source": [
    "encoder_labels, _ = surgeon.utils.label_encoder(adata_out_of_sample, label_encoder=new_network.condition_encoder, condition_key=condition_key)"
   ]
  },
  {
   "cell_type": "code",
   "execution_count": 43,
   "metadata": {},
   "outputs": [
    {
     "data": {
      "text/plain": [
       "AnnData object with n_obs × n_vars = 90120 × 32 \n",
       "    obs: 'FACS.selection', 'age', 'batch', 'cell', 'cell_ontology_class', 'cell_ontology_id', 'free_annotation', 'method', 'method_age', 'method_tissue', 'mouse.id', 'n_counts', 'n_genes', 'sex', 'subtissue', 'tissue', 'tissue_free_annotation'"
      ]
     },
     "execution_count": 43,
     "metadata": {},
     "output_type": "execute_result"
    }
   ],
   "source": [
    "latent_adata_out_of_sample = new_network.to_mmd_layer(adata_out_of_sample, encoder_labels, encoder_labels)\n",
    "latent_adata_out_of_sample"
   ]
  },
  {
   "cell_type": "markdown",
   "metadata": {},
   "source": [
    "### 2. Compute Weighted KNN for all tissues of Tabula Muris"
   ]
  },
  {
   "cell_type": "code",
   "execution_count": 44,
   "metadata": {},
   "outputs": [],
   "source": [
    "tissues = latent_adata_out_of_sample.obs['tissue'].unique().tolist()"
   ]
  },
  {
   "cell_type": "code",
   "execution_count": null,
   "metadata": {},
   "outputs": [
    {
     "name": "stdout",
     "output_type": "stream",
     "text": [
      "Tongue - Weighted KNN with n_neighbors = 50 and threshold = 0.2 ... finished!\n",
      "Liver - Weighted KNN with n_neighbors = 50 and threshold = 0.2 ... finished!\n",
      "Bladder - Weighted KNN with n_neighbors = 50 and threshold = 0.2 ... finished!\n",
      "Kidney - Weighted KNN with n_neighbors = 50 and threshold = 0.2 ... finished!\n",
      "Spleen - Weighted KNN with n_neighbors = 50 and threshold = 0.2 ... finished!\n",
      "Thymus - Weighted KNN with n_neighbors = 50 and threshold = 0.2 ... finished!\n",
      "Mammary_Gland - Weighted KNN with n_neighbors = 50 and threshold = 0.2 ... finished!\n",
      "Limb_Muscle - Weighted KNN with n_neighbors = 50 and threshold = 0.2 ... "
     ]
    }
   ],
   "source": [
    "for n_neighbor in n_neighbors:\n",
    "    for threshold in thresholds:\n",
    "        for tissue in tissues:\n",
    "            print(f'{tissue} - ', end=\"\")\n",
    "            tissue_latent = latent_adata_out_of_sample[latent_adata_out_of_sample.obs['tissue'] == tissue]\n",
    "            pred_labels, uncertainties = surgeon.utils.weighted_knn(latent_adata_for_training, tissue_latent, \n",
    "                                                                    cell_type_key, \n",
    "                                                                    n_neighbors=n_neighbor, threshold=threshold, \n",
    "                                                                    pred_unknown=True, return_uncertainty=True\n",
    "                                                  )\n",
    "            \n",
    "            true_labels = np.array(tissue_latent.obs[cell_type_key].values).reshape(-1, 1)\n",
    "            plot_data = np.concatenate([true_labels, pred_labels], axis=1)\n",
    "            pred_df = pd.DataFrame(plot_data, columns=['True labels', 'Predicted labels'])\n",
    "            \n",
    "            cell_types = pred_df['True labels'].unique().tolist()\n",
    "            cell_type_accuracies = {\"cell_type\": [], \"accuracy\": []}\n",
    "            for cell_type in cell_types:\n",
    "                cell_df = pred_df[pred_df['True labels'] == cell_type]\n",
    "                cell_type_accuracies['cell_type'].append(f'{tissue} - {cell_type} ({len(cell_df)})')\n",
    "                cell_type_accuracies['accuracy'].append(accuracy_score(cell_df['True labels'], cell_df['Predicted labels']))\n",
    "            \n",
    "            plot_df = pd.DataFrame.from_dict(cell_type_accuracies)\n",
    "            \n",
    "            sns.barplot(x=\"cell_type\", y=\"accuracy\", data=plot_df)\n",
    "            plt.xticks(rotation=90)\n",
    "            plt.savefig(f\"./results/classification/tabula_senis_muris/barplot/barplot-{tissue}-n_neighbors={n_neighbor}-threshold={threshold}.pdf\", dpi=300, bbox_inches='tight')\n",
    "            os.makedirs(save_path, exist_ok=True)\n",
    "            plt.close()\n",
    "\n",
    "#             save_path = f'./results/classification/tabula_senis_muris/sankey/sankey-{tissue}-n_neighbors={n_neighbor}-threshold={threshold}.pdf'\n",
    "#             os.makedirs(save_path, exist_ok=True)\n",
    "#             surgeon.pl.sankey_diagram(plot_data, save_path=save_path)\n"
   ]
  },
  {
   "cell_type": "code",
   "execution_count": null,
   "metadata": {},
   "outputs": [],
   "source": []
  }
 ],
 "metadata": {
  "kernelspec": {
   "display_name": "Python 3",
   "language": "python",
   "name": "python3"
  },
  "language_info": {
   "codemirror_mode": {
    "name": "ipython",
    "version": 3
   },
   "file_extension": ".py",
   "mimetype": "text/x-python",
   "name": "python",
   "nbconvert_exporter": "python",
   "pygments_lexer": "ipython3",
   "version": "3.7.6"
  },
  "toc": {
   "base_numbering": 1,
   "nav_menu": {},
   "number_sections": true,
   "sideBar": true,
   "skip_h1_title": false,
   "title_cell": "Table of Contents",
   "title_sidebar": "Contents",
   "toc_cell": false,
   "toc_position": {},
   "toc_section_display": true,
   "toc_window_display": true
  },
  "varInspector": {
   "cols": {
    "lenName": 16,
    "lenType": 16,
    "lenVar": 40
   },
   "kernels_config": {
    "python": {
     "delete_cmd_postfix": "",
     "delete_cmd_prefix": "del ",
     "library": "var_list.py",
     "varRefreshCmd": "print(var_dic_list())"
    },
    "r": {
     "delete_cmd_postfix": ") ",
     "delete_cmd_prefix": "rm(",
     "library": "var_list.r",
     "varRefreshCmd": "cat(var_dic_list()) "
    }
   },
   "types_to_exclude": [
    "module",
    "function",
    "builtin_function_or_method",
    "instance",
    "_Feature"
   ],
   "window_display": false
  }
 },
 "nbformat": 4,
 "nbformat_minor": 4
}
