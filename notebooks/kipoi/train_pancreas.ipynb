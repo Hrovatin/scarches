{
 "cells": [
  {
   "cell_type": "code",
   "execution_count": 1,
   "metadata": {},
   "outputs": [],
   "source": [
    "import os\n",
    "os.chdir(\"../../\")"
   ]
  },
  {
   "cell_type": "code",
   "execution_count": 2,
   "metadata": {},
   "outputs": [],
   "source": [
    "os.environ['CUDA_VISIBLE_DEVICES'] = '1'"
   ]
  },
  {
   "cell_type": "code",
   "execution_count": 3,
   "metadata": {},
   "outputs": [],
   "source": [
    "import warnings\n",
    "warnings.filterwarnings('ignore')"
   ]
  },
  {
   "cell_type": "code",
   "execution_count": 4,
   "metadata": {},
   "outputs": [
    {
     "name": "stderr",
     "output_type": "stream",
     "text": [
      "Using TensorFlow backend.\n"
     ]
    }
   ],
   "source": [
    "import surgeon\n",
    "import scanpy as sc"
   ]
  },
  {
   "cell_type": "code",
   "execution_count": 5,
   "metadata": {},
   "outputs": [],
   "source": [
    "sc.settings.set_figure_params(dpi=200)"
   ]
  },
  {
   "cell_type": "code",
   "execution_count": 6,
   "metadata": {},
   "outputs": [],
   "source": [
    "condition_key = \"study\"\n",
    "cell_type_key = \"cell_type\"\n",
    "target_conditions = [\"Pancreas SS2\", \"Pancreas CelSeq2\"]"
   ]
  },
  {
   "cell_type": "code",
   "execution_count": 7,
   "metadata": {},
   "outputs": [
    {
     "data": {
      "text/plain": [
       "AnnData object with n_obs × n_vars = 15681 × 1000 \n",
       "    obs: 'batch', 'study', 'cell_type', 'size_factors'"
      ]
     },
     "execution_count": 7,
     "metadata": {},
     "output_type": "execute_result"
    }
   ],
   "source": [
    "adata = sc.read(\"./data/pancreas/pancreas_normalized.h5ad\")\n",
    "adata"
   ]
  },
  {
   "cell_type": "code",
   "execution_count": 9,
   "metadata": {},
   "outputs": [],
   "source": [
    "source_adata = adata[~adata.obs[condition_key].isin(target_conditions)]\n",
    "target_adata = adata[adata.obs[condition_key].isin(target_conditions)]"
   ]
  },
  {
   "cell_type": "code",
   "execution_count": 10,
   "metadata": {},
   "outputs": [
    {
     "data": {
      "text/plain": [
       "((8235, 1000), (2059, 1000))"
      ]
     },
     "execution_count": 10,
     "metadata": {},
     "output_type": "execute_result"
    }
   ],
   "source": [
    "train_adata, valid_adata = surgeon.tl.train_test_split(source_adata, 0.80)\n",
    "train_adata.shape, valid_adata.shape"
   ]
  },
  {
   "cell_type": "code",
   "execution_count": 12,
   "metadata": {},
   "outputs": [
    {
     "data": {
      "text/plain": [
       "3"
      ]
     },
     "execution_count": 12,
     "metadata": {},
     "output_type": "execute_result"
    }
   ],
   "source": [
    "n_conditions = len(train_adata.obs[condition_key].unique().tolist())\n",
    "n_conditions"
   ]
  },
  {
   "cell_type": "code",
   "execution_count": 13,
   "metadata": {},
   "outputs": [
    {
     "name": "stdout",
     "output_type": "stream",
     "text": [
      "WARNING:tensorflow:From /home/mohsen/anaconda3/envs/mohsen/lib/python3.7/site-packages/tensorflow/python/framework/op_def_library.py:263: colocate_with (from tensorflow.python.framework.ops) is deprecated and will be removed in a future version.\n",
      "Instructions for updating:\n",
      "Colocations handled automatically by placer.\n",
      "WARNING:tensorflow:From /home/mohsen/anaconda3/envs/mohsen/lib/python3.7/site-packages/keras/backend/tensorflow_backend.py:3445: calling dropout (from tensorflow.python.ops.nn_ops) with keep_prob is deprecated and will be removed in a future version.\n",
      "Instructions for updating:\n",
      "Please use `rate` instead of `keep_prob`. Rate should be set to `rate = 1 - keep_prob`.\n"
     ]
    }
   ],
   "source": [
    "network = surgeon.archs.CVAE(x_dimension=train_adata.shape[1], \n",
    "                             z_dimension=10,\n",
    "                             architecture=[128, 20],\n",
    "                             n_conditions=n_conditions,\n",
    "                             lr=0.001,\n",
    "                             alpha=0.0001,\n",
    "                             beta=100,\n",
    "                             eta=1.0,\n",
    "                             clip_value=100,\n",
    "                             use_batchnorm=False,\n",
    "                             loss_fn='mse',\n",
    "                             model_path=\"./models/CVAE/Kipoi/\",\n",
    "                             dropout_rate=0.05,\n",
    "                             )"
   ]
  },
  {
   "cell_type": "code",
   "execution_count": 16,
   "metadata": {},
   "outputs": [
    {
     "data": {
      "text/plain": [
       "{'Pancreas inDrop': 0, 'Pancreas CelSeq': 1, 'Pancreas Fluidigm C1': 2}"
      ]
     },
     "execution_count": 16,
     "metadata": {},
     "output_type": "execute_result"
    }
   ],
   "source": [
    "conditions = adata.obs[condition_key].unique().tolist()\n",
    "condition_encoder = surgeon.utils.create_dictionary(conditions, target_conditions)\n",
    "condition_encoder"
   ]
  },
  {
   "cell_type": "code",
   "execution_count": 17,
   "metadata": {},
   "outputs": [
    {
     "name": "stdout",
     "output_type": "stream",
     "text": [
      "WARNING:tensorflow:From /home/mohsen/anaconda3/envs/mohsen/lib/python3.7/site-packages/tensorflow/python/ops/math_ops.py:3066: to_int32 (from tensorflow.python.ops.math_ops) is deprecated and will be removed in a future version.\n",
      "Instructions for updating:\n",
      "Use tf.cast instead.\n",
      " |████----------------| 22.8%  - loss: 993.4934 - reconstruction_loss: 983.7499 - mmd_loss: 9.7435 - val_loss: 972.2976 - val_reconstruction_loss: 961.4778 - val_mmd_loss: 10.81991856"
     ]
    }
   ],
   "source": [
    "network.train(train_adata,\n",
    "              valid_adata, \n",
    "              condition_key=condition_key,\n",
    "              le=condition_encoder, \n",
    "              n_epochs=1000,\n",
    "              batch_size=512, \n",
    "              early_stop_limit=10,\n",
    "              lr_reducer=8, \n",
    "              n_per_epoch=0,\n",
    "              save=True, \n",
    "              retrain=True,\n",
    "              verbose=5)"
   ]
  },
  {
   "cell_type": "code",
   "execution_count": 18,
   "metadata": {},
   "outputs": [
    {
     "name": "stdout",
     "output_type": "stream",
     "text": [
      "Model YAML has been saved to /home/mohsen/projects/scnet/~/.kipoi/models/scNet-test\n",
      "DataLoader YAML has been saved to /home/mohsen/projects/scnet/~/.kipoi/models/scNet-test\n",
      "model is ready to submit!\n"
     ]
    }
   ],
   "source": [
    "surgeon.kp.create_kipoi_model(model=network,\n",
    "                              model_name=\"scNet-test\",\n",
    "                              upload=False,\n",
    "                              data_url=\"https://zenodo.org/api/files/e05bed73-aa9b-4526-af26-e85d183d3f4d/pancreas_normalized.h5ad?versionId=126440ea-3ca1-4135-bea3-83f1694946ec\",\n",
    "                              data_md5=\"64fb9996af90b73592a5cf3690bac2ae2\",\n",
    "                              model_url=\"https://zenodo.org/api/files/e05bed73-aa9b-4526-af26-e85d183d3f4d/cvae.h5?versionId=6ef84515-a969-4f65-bdf9-1a863f321875\",\n",
    "                              model_md5=\"6ead4a0dde64d3678458400d1428966b\"\n",
    "                              )"
   ]
  },
  {
   "cell_type": "code",
   "execution_count": null,
   "metadata": {},
   "outputs": [],
   "source": [
    "surgeon.kp.create_kipoi_model(model=network,\n",
    "                              model_name=\"scNet\",\n",
    "                              upload=True,\n",
    "                              data_path=\"https://zenodo.org/api/files/e05bed73-aa9b-4526-af26-e85d183d3f4d/pancreas_normalized.h5ad?versionId=126440ea-3ca1-4135-bea3-83f1694946ec\",\n",
    "                              access_token=\"\"\n",
    "                              )"
   ]
  },
  {
   "cell_type": "markdown",
   "metadata": {},
   "source": [
    "## Congrats! Your model is ready to be added to Kipoi!\n",
    "You have to fork this Github [__repository__](https://github.com/kipoi/models) before calling next function"
   ]
  },
  {
   "cell_type": "markdown",
   "metadata": {},
   "source": [
    "```bash\n",
    "git add MyModel/\n",
    "git commit -m \"Added <MyModel>\"\n",
    "\n",
    "git remote add fork https://github.com/<username>/models.git\n",
    "git push fork master\n",
    "```"
   ]
  },
  {
   "cell_type": "markdown",
   "metadata": {},
   "source": [
    "## Finally!\n",
    "Submit a pull-request on your forked repository"
   ]
  },
  {
   "cell_type": "code",
   "execution_count": null,
   "metadata": {},
   "outputs": [],
   "source": []
  },
  {
   "cell_type": "code",
   "execution_count": null,
   "metadata": {},
   "outputs": [],
   "source": []
  },
  {
   "cell_type": "code",
   "execution_count": null,
   "metadata": {},
   "outputs": [],
   "source": []
  },
  {
   "cell_type": "code",
   "execution_count": null,
   "metadata": {},
   "outputs": [],
   "source": []
  }
 ],
 "metadata": {
  "kernelspec": {
   "display_name": "Python 3",
   "language": "python",
   "name": "python3"
  },
  "language_info": {
   "codemirror_mode": {
    "name": "ipython",
    "version": 3
   },
   "file_extension": ".py",
   "mimetype": "text/x-python",
   "name": "python",
   "nbconvert_exporter": "python",
   "pygments_lexer": "ipython3",
   "version": "3.7.6"
  }
 },
 "nbformat": 4,
 "nbformat_minor": 4
}
