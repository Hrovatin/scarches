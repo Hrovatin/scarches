{
 "cells": [
  {
   "cell_type": "code",
   "execution_count": 1,
   "metadata": {},
   "outputs": [],
   "source": [
    "import os\n",
    "os.chdir(\"../../\")"
   ]
  },
  {
   "cell_type": "code",
   "execution_count": 2,
   "metadata": {},
   "outputs": [
    {
     "name": "stderr",
     "output_type": "stream",
     "text": [
      "Using TensorFlow backend.\n"
     ]
    }
   ],
   "source": [
    "import numpy as np\n",
    "import scanpy as sc\n",
    "import surgeon\n",
    "import os"
   ]
  },
  {
   "cell_type": "code",
   "execution_count": 3,
   "metadata": {},
   "outputs": [],
   "source": [
    "data_name = \"pbmc_subset\"\n",
    "condition_key = \"study\""
   ]
  },
  {
   "cell_type": "code",
   "execution_count": 4,
   "metadata": {},
   "outputs": [
    {
     "name": "stderr",
     "output_type": "stream",
     "text": [
      "Observation names are not unique. To make them unique, call `.obs_names_make_unique`.\n"
     ]
    },
    {
     "data": {
      "text/plain": [
       "AnnData object with n_obs × n_vars = 32170 × 1793 \n",
       "    obs: 'CBC', 'CellType', 'Experiment', 'Method', 'batch', 'bulk_labels', 'cell_type', 'louvain', 'method', 'n_counts', 'n_genes', 'percent_mito', 'study'\n",
       "    var: 'ENS-0', 'Name-0', 'gene_ids-1', 'n_counts-2', 'gene_ids-3', 'n_cells-3', 'highly_variable-3', 'means-3', 'dispersions-3', 'dispersions_norm-3'"
      ]
     },
     "execution_count": 4,
     "metadata": {},
     "output_type": "execute_result"
    }
   ],
   "source": [
    "adata = sc.read(f\"./data/{data_name}/{data_name}_count.h5ad\")\n",
    "adata"
   ]
  },
  {
   "cell_type": "code",
   "execution_count": 5,
   "metadata": {},
   "outputs": [
    {
     "data": {
      "text/plain": [
       "['10x Chromium V2 A',\n",
       " '10x Chromium V2 B',\n",
       " 'CEL-Seq2',\n",
       " 'Drop-seq',\n",
       " 'Smart-seq2',\n",
       " 'inDrops',\n",
       " '10X_5prime',\n",
       " '10X_3prime',\n",
       " '10x PBMC 68k',\n",
       " '10x PBMC 3k']"
      ]
     },
     "execution_count": 5,
     "metadata": {},
     "output_type": "execute_result"
    }
   ],
   "source": [
    "conditions = adata.obs[condition_key].unique().tolist()\n",
    "conditions"
   ]
  },
  {
   "cell_type": "code",
   "execution_count": 6,
   "metadata": {},
   "outputs": [],
   "source": [
    "for condition in conditions:\n",
    "    condition_adata = adata[adata.obs[condition_key] == condition]\n",
    "    n_samples = condition_adata.shape[0]\n",
    "    for subsample_frac in [1.0, 0.8, 0.6, 0.4, 0.2, 0.1]:\n",
    "        for i in range(5):\n",
    "            keep_idx = np.random.choice(n_samples, int(subsample_frac * n_samples), replace=False)\n",
    "            os.makedirs(f\"data/subsample/{data_name}/{condition}/{subsample_frac}/\", exist_ok=True)\n",
    "            np.savetxt(f\"data/subsample/{data_name}/{condition}/{subsample_frac}/{i}.csv\", keep_idx)"
   ]
  },
  {
   "cell_type": "code",
   "execution_count": null,
   "metadata": {},
   "outputs": [],
   "source": []
  }
 ],
 "metadata": {
  "kernelspec": {
   "display_name": "Python 3",
   "language": "python",
   "name": "python3"
  },
  "language_info": {
   "codemirror_mode": {
    "name": "ipython",
    "version": 3
   },
   "file_extension": ".py",
   "mimetype": "text/x-python",
   "name": "python",
   "nbconvert_exporter": "python",
   "pygments_lexer": "ipython3",
   "version": "3.6.8"
  }
 },
 "nbformat": 4,
 "nbformat_minor": 2
}
