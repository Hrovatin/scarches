{
 "cells": [
  {
   "cell_type": "code",
   "execution_count": 1,
   "metadata": {},
   "outputs": [],
   "source": [
    "import scanpy as sc \n",
    "import os\n",
    "from scipy.sparse import csr_matrix\n",
    "import numpy as np\n",
    "import pandas as pd"
   ]
  },
  {
   "cell_type": "code",
   "execution_count": 2,
   "metadata": {},
   "outputs": [
    {
     "data": {
      "text/plain": [
       "'/home/mohammad/Desktop/scnet'"
      ]
     },
     "execution_count": 2,
     "metadata": {},
     "output_type": "execute_result"
    }
   ],
   "source": [
    "os.getcwd()\n",
    "os.chdir(\"../../\")\n",
    "os.getcwd()\n"
   ]
  },
  {
   "cell_type": "code",
   "execution_count": 165,
   "metadata": {},
   "outputs": [],
   "source": [
    "from os import listdir\n",
    "from os.path import isfile, join\n",
    "path = \"data/dge_rmbatch_data/\"\n",
    "onlyfiles = [f for f in listdir(path) if isfile(join(path, f))]"
   ]
  },
  {
   "cell_type": "code",
   "execution_count": 166,
   "metadata": {},
   "outputs": [],
   "source": [
    "f_dic = {}\n",
    "for file in onlyfiles[:14]:\n",
    "    f_dic[file.split(\".\")[0]] = pd.read_csv(f\"./{path}/{file}\")"
   ]
  },
  {
   "cell_type": "code",
   "execution_count": 37,
   "metadata": {},
   "outputs": [],
   "source": [
    "path_anot = \"data/annotation_rmbatch_data/\"\n",
    "onlyfiles_anot = [f for f in listdir(path) if isfile(join(path, f))]\n",
    "f_file_anot = {}\n",
    "for file in onlyfiles_anot:\n",
    "    f_file_anot[file.split(\".\")[0]] = pd.read_csv(f\"./{path_anot}{file}\", encoding = \"ISO-8859-1\")    "
   ]
  },
  {
   "cell_type": "code",
   "execution_count": 194,
   "metadata": {},
   "outputs": [],
   "source": [
    "for i in list(f_dic.keys()):\n",
    "    f_dic[i] = f_dic[i].transpose()"
   ]
  },
  {
   "cell_type": "code",
   "execution_count": 187,
   "metadata": {},
   "outputs": [
    {
     "data": {
      "text/plain": [
       "Index(['A1BG', 'A1BG-AS1', 'A2M', 'A2M-AS1', 'A4GALT', 'AAAS', 'AACS', 'AADAC',\n",
       "       'AADACP1', 'AADAT',\n",
       "       ...\n",
       "       'ZXDA', 'ZXDB', 'ZXDC', 'ZYG11B', 'ZYX', 'ZZEF1', 'ZZZ3',\n",
       "       'hsa-mir-548c', 'hsa-mir-548d-1', 'snoR1'],\n",
       "      dtype='object', length=20989)"
      ]
     },
     "execution_count": 187,
     "metadata": {},
     "output_type": "execute_result"
    }
   ],
   "source": [
    "f_dic[i].columns"
   ]
  },
  {
   "cell_type": "code",
   "execution_count": 189,
   "metadata": {},
   "outputs": [
    {
     "data": {
      "text/plain": [
       "0       AdultPeripheralBlood_4.AAAACGAAAGTTTAGTCG1\n",
       "1       AdultPeripheralBlood_4.AAAACGAACCTACACAAG1\n",
       "2       AdultPeripheralBlood_4.AAAACGAACCTATCAAAG2\n",
       "3       AdultPeripheralBlood_4.AAAACGAAGTACGGGCGA2\n",
       "4       AdultPeripheralBlood_4.AAAACGACACCCCTTCTG2\n",
       "                           ...                    \n",
       "7155    AdultPeripheralBlood_4.TTGGACTGGATGACCTGA2\n",
       "7156    AdultPeripheralBlood_4.TTGGACTTAACTCAAAGT2\n",
       "7157    AdultPeripheralBlood_4.TTTAGGAGTTTACCTAGA1\n",
       "7158    AdultPeripheralBlood_4.TTTAGGGTCGGTGGACAT2\n",
       "7159    AdultPeripheralBlood_4.TTTAGGTAAGGGACTTAT2\n",
       "Name: Cell_id, Length: 7160, dtype: object"
      ]
     },
     "execution_count": 189,
     "metadata": {},
     "output_type": "execute_result"
    }
   ],
   "source": [
    "f_file_anot[i.split(\"_\")[0]+'_rmbatchAnno'][\"Cell_id\"]"
   ]
  },
  {
   "cell_type": "code",
   "execution_count": 190,
   "metadata": {},
   "outputs": [
    {
     "data": {
      "text/plain": [
       "0       AdultPeripheralBlood_4.AAAACGAAAGTTTAGTCG1\n",
       "1       AdultPeripheralBlood_4.AAAACGAACCTACACAAG1\n",
       "2       AdultPeripheralBlood_4.AAAACGAACCTATCAAAG2\n",
       "3       AdultPeripheralBlood_4.AAAACGAAGTACGGGCGA2\n",
       "4       AdultPeripheralBlood_4.AAAACGACACCCCTTCTG2\n",
       "                           ...                    \n",
       "7155    AdultPeripheralBlood_4.TTGGACTGGATGACCTGA2\n",
       "7156    AdultPeripheralBlood_4.TTGGACTTAACTCAAAGT2\n",
       "7157    AdultPeripheralBlood_4.TTTAGGAGTTTACCTAGA1\n",
       "7158    AdultPeripheralBlood_4.TTTAGGGTCGGTGGACAT2\n",
       "7159    AdultPeripheralBlood_4.TTTAGGTAAGGGACTTAT2\n",
       "Name: Cell_id, Length: 7160, dtype: object"
      ]
     },
     "execution_count": 190,
     "metadata": {},
     "output_type": "execute_result"
    }
   ],
   "source": [
    "f_file_anot[i.split(\"_\")[0]+'_rmbatchAnno'][\"Cell_id\"]"
   ]
  },
  {
   "cell_type": "code",
   "execution_count": 192,
   "metadata": {},
   "outputs": [
    {
     "data": {
      "text/html": [
       "<div>\n",
       "<style scoped>\n",
       "    .dataframe tbody tr th:only-of-type {\n",
       "        vertical-align: middle;\n",
       "    }\n",
       "\n",
       "    .dataframe tbody tr th {\n",
       "        vertical-align: top;\n",
       "    }\n",
       "\n",
       "    .dataframe thead th {\n",
       "        text-align: right;\n",
       "    }\n",
       "</style>\n",
       "<table border=\"1\" class=\"dataframe\">\n",
       "  <thead>\n",
       "    <tr style=\"text-align: right;\">\n",
       "      <th></th>\n",
       "      <th>AdultPeripheralBlood_4.AACCTATCGTAACGCTTG1</th>\n",
       "      <th>AdultPeripheralBlood_4.AAGCGGGTATACTTAACT1</th>\n",
       "      <th>AdultPeripheralBlood_4.GGACATGCGAATTTCCGC1</th>\n",
       "      <th>AdultPeripheralBlood_4.TAGTCGCTGAAAGTTGCC1</th>\n",
       "      <th>AdultPeripheralBlood_4.AAAACGGCTGTGACGAGC1</th>\n",
       "      <th>AdultPeripheralBlood_4.AACCTACCTAGAGAGATC1</th>\n",
       "      <th>AdultPeripheralBlood_4.CTGTGTTTCCGCAAAGTT1</th>\n",
       "      <th>AdultPeripheralBlood_4.AACCTACTCGCATACTTC1</th>\n",
       "      <th>AdultPeripheralBlood_4.CTCGCACAACAAACCTGA1</th>\n",
       "      <th>AdultPeripheralBlood_4.CTGTGTGAGATCTATTGT1</th>\n",
       "      <th>...</th>\n",
       "      <th>AdultPeripheralBlood_4.ACAATAGTCGGTGAACGC3</th>\n",
       "      <th>AdultPeripheralBlood_4.ACACCCCATCCCTTCATA3</th>\n",
       "      <th>AdultPeripheralBlood_4.TGCGGAAGGGTCCACAAG3</th>\n",
       "      <th>AdultPeripheralBlood_4.AACGCCGCAGGAATCAAC3</th>\n",
       "      <th>AdultPeripheralBlood_4.ACGAGCCCTTTCTCGTAA3</th>\n",
       "      <th>AdultPeripheralBlood_4.CCGACGCATCCCATGCTT3</th>\n",
       "      <th>AdultPeripheralBlood_4.ACGTTGGTTGCCGTATAC3</th>\n",
       "      <th>AdultPeripheralBlood_4.GCGAATTGCAATCGCACC3</th>\n",
       "      <th>AdultPeripheralBlood_4.TGCAATGGACATGAGGAG3</th>\n",
       "      <th>AdultPeripheralBlood_4.ACGAGCGGCTGCATGCTT3</th>\n",
       "    </tr>\n",
       "  </thead>\n",
       "  <tbody>\n",
       "    <tr>\n",
       "      <th>A1BG</th>\n",
       "      <td>0</td>\n",
       "      <td>0</td>\n",
       "      <td>0</td>\n",
       "      <td>0</td>\n",
       "      <td>0</td>\n",
       "      <td>0</td>\n",
       "      <td>0</td>\n",
       "      <td>0</td>\n",
       "      <td>0</td>\n",
       "      <td>0</td>\n",
       "      <td>...</td>\n",
       "      <td>0</td>\n",
       "      <td>0</td>\n",
       "      <td>0</td>\n",
       "      <td>0</td>\n",
       "      <td>0</td>\n",
       "      <td>0</td>\n",
       "      <td>0</td>\n",
       "      <td>0</td>\n",
       "      <td>0</td>\n",
       "      <td>0</td>\n",
       "    </tr>\n",
       "    <tr>\n",
       "      <th>A1BG-AS1</th>\n",
       "      <td>0</td>\n",
       "      <td>0</td>\n",
       "      <td>0</td>\n",
       "      <td>0</td>\n",
       "      <td>0</td>\n",
       "      <td>0</td>\n",
       "      <td>0</td>\n",
       "      <td>0</td>\n",
       "      <td>0</td>\n",
       "      <td>0</td>\n",
       "      <td>...</td>\n",
       "      <td>0</td>\n",
       "      <td>0</td>\n",
       "      <td>0</td>\n",
       "      <td>0</td>\n",
       "      <td>0</td>\n",
       "      <td>0</td>\n",
       "      <td>0</td>\n",
       "      <td>0</td>\n",
       "      <td>0</td>\n",
       "      <td>0</td>\n",
       "    </tr>\n",
       "    <tr>\n",
       "      <th>A2M</th>\n",
       "      <td>0</td>\n",
       "      <td>0</td>\n",
       "      <td>0</td>\n",
       "      <td>0</td>\n",
       "      <td>0</td>\n",
       "      <td>0</td>\n",
       "      <td>0</td>\n",
       "      <td>0</td>\n",
       "      <td>0</td>\n",
       "      <td>0</td>\n",
       "      <td>...</td>\n",
       "      <td>0</td>\n",
       "      <td>0</td>\n",
       "      <td>0</td>\n",
       "      <td>0</td>\n",
       "      <td>0</td>\n",
       "      <td>0</td>\n",
       "      <td>0</td>\n",
       "      <td>0</td>\n",
       "      <td>0</td>\n",
       "      <td>0</td>\n",
       "    </tr>\n",
       "    <tr>\n",
       "      <th>A2M-AS1</th>\n",
       "      <td>0</td>\n",
       "      <td>0</td>\n",
       "      <td>0</td>\n",
       "      <td>0</td>\n",
       "      <td>0</td>\n",
       "      <td>0</td>\n",
       "      <td>0</td>\n",
       "      <td>0</td>\n",
       "      <td>0</td>\n",
       "      <td>0</td>\n",
       "      <td>...</td>\n",
       "      <td>0</td>\n",
       "      <td>0</td>\n",
       "      <td>0</td>\n",
       "      <td>0</td>\n",
       "      <td>0</td>\n",
       "      <td>0</td>\n",
       "      <td>0</td>\n",
       "      <td>0</td>\n",
       "      <td>0</td>\n",
       "      <td>0</td>\n",
       "    </tr>\n",
       "    <tr>\n",
       "      <th>A2MP1</th>\n",
       "      <td>0</td>\n",
       "      <td>0</td>\n",
       "      <td>0</td>\n",
       "      <td>0</td>\n",
       "      <td>0</td>\n",
       "      <td>0</td>\n",
       "      <td>0</td>\n",
       "      <td>0</td>\n",
       "      <td>0</td>\n",
       "      <td>0</td>\n",
       "      <td>...</td>\n",
       "      <td>0</td>\n",
       "      <td>0</td>\n",
       "      <td>0</td>\n",
       "      <td>0</td>\n",
       "      <td>0</td>\n",
       "      <td>0</td>\n",
       "      <td>0</td>\n",
       "      <td>0</td>\n",
       "      <td>0</td>\n",
       "      <td>0</td>\n",
       "    </tr>\n",
       "    <tr>\n",
       "      <th>...</th>\n",
       "      <td>...</td>\n",
       "      <td>...</td>\n",
       "      <td>...</td>\n",
       "      <td>...</td>\n",
       "      <td>...</td>\n",
       "      <td>...</td>\n",
       "      <td>...</td>\n",
       "      <td>...</td>\n",
       "      <td>...</td>\n",
       "      <td>...</td>\n",
       "      <td>...</td>\n",
       "      <td>...</td>\n",
       "      <td>...</td>\n",
       "      <td>...</td>\n",
       "      <td>...</td>\n",
       "      <td>...</td>\n",
       "      <td>...</td>\n",
       "      <td>...</td>\n",
       "      <td>...</td>\n",
       "      <td>...</td>\n",
       "      <td>...</td>\n",
       "    </tr>\n",
       "    <tr>\n",
       "      <th>ZXDC</th>\n",
       "      <td>0</td>\n",
       "      <td>0</td>\n",
       "      <td>0</td>\n",
       "      <td>0</td>\n",
       "      <td>0</td>\n",
       "      <td>0</td>\n",
       "      <td>0</td>\n",
       "      <td>0</td>\n",
       "      <td>0</td>\n",
       "      <td>0</td>\n",
       "      <td>...</td>\n",
       "      <td>0</td>\n",
       "      <td>0</td>\n",
       "      <td>0</td>\n",
       "      <td>0</td>\n",
       "      <td>0</td>\n",
       "      <td>0</td>\n",
       "      <td>0</td>\n",
       "      <td>0</td>\n",
       "      <td>0</td>\n",
       "      <td>0</td>\n",
       "    </tr>\n",
       "    <tr>\n",
       "      <th>ZYG11B</th>\n",
       "      <td>0</td>\n",
       "      <td>0</td>\n",
       "      <td>0</td>\n",
       "      <td>0</td>\n",
       "      <td>0</td>\n",
       "      <td>0</td>\n",
       "      <td>0</td>\n",
       "      <td>0</td>\n",
       "      <td>0</td>\n",
       "      <td>0</td>\n",
       "      <td>...</td>\n",
       "      <td>0</td>\n",
       "      <td>0</td>\n",
       "      <td>0</td>\n",
       "      <td>0</td>\n",
       "      <td>0</td>\n",
       "      <td>0</td>\n",
       "      <td>0</td>\n",
       "      <td>0</td>\n",
       "      <td>0</td>\n",
       "      <td>0</td>\n",
       "    </tr>\n",
       "    <tr>\n",
       "      <th>ZYX</th>\n",
       "      <td>0</td>\n",
       "      <td>0</td>\n",
       "      <td>2</td>\n",
       "      <td>0</td>\n",
       "      <td>0</td>\n",
       "      <td>0</td>\n",
       "      <td>2</td>\n",
       "      <td>0</td>\n",
       "      <td>1</td>\n",
       "      <td>1</td>\n",
       "      <td>...</td>\n",
       "      <td>0</td>\n",
       "      <td>0</td>\n",
       "      <td>0</td>\n",
       "      <td>0</td>\n",
       "      <td>0</td>\n",
       "      <td>0</td>\n",
       "      <td>0</td>\n",
       "      <td>0</td>\n",
       "      <td>0</td>\n",
       "      <td>0</td>\n",
       "    </tr>\n",
       "    <tr>\n",
       "      <th>ZZEF1</th>\n",
       "      <td>0</td>\n",
       "      <td>0</td>\n",
       "      <td>0</td>\n",
       "      <td>1</td>\n",
       "      <td>0</td>\n",
       "      <td>0</td>\n",
       "      <td>0</td>\n",
       "      <td>0</td>\n",
       "      <td>0</td>\n",
       "      <td>0</td>\n",
       "      <td>...</td>\n",
       "      <td>0</td>\n",
       "      <td>0</td>\n",
       "      <td>0</td>\n",
       "      <td>0</td>\n",
       "      <td>0</td>\n",
       "      <td>0</td>\n",
       "      <td>0</td>\n",
       "      <td>0</td>\n",
       "      <td>0</td>\n",
       "      <td>0</td>\n",
       "    </tr>\n",
       "    <tr>\n",
       "      <th>ZZZ3</th>\n",
       "      <td>0</td>\n",
       "      <td>1</td>\n",
       "      <td>0</td>\n",
       "      <td>0</td>\n",
       "      <td>0</td>\n",
       "      <td>0</td>\n",
       "      <td>0</td>\n",
       "      <td>0</td>\n",
       "      <td>0</td>\n",
       "      <td>0</td>\n",
       "      <td>...</td>\n",
       "      <td>0</td>\n",
       "      <td>0</td>\n",
       "      <td>0</td>\n",
       "      <td>0</td>\n",
       "      <td>0</td>\n",
       "      <td>0</td>\n",
       "      <td>0</td>\n",
       "      <td>0</td>\n",
       "      <td>0</td>\n",
       "      <td>0</td>\n",
       "    </tr>\n",
       "  </tbody>\n",
       "</table>\n",
       "<p>21267 rows × 7180 columns</p>\n",
       "</div>"
      ],
      "text/plain": [
       "          AdultPeripheralBlood_4.AACCTATCGTAACGCTTG1  \\\n",
       "A1BG                                               0   \n",
       "A1BG-AS1                                           0   \n",
       "A2M                                                0   \n",
       "A2M-AS1                                            0   \n",
       "A2MP1                                              0   \n",
       "...                                              ...   \n",
       "ZXDC                                               0   \n",
       "ZYG11B                                             0   \n",
       "ZYX                                                0   \n",
       "ZZEF1                                              0   \n",
       "ZZZ3                                               0   \n",
       "\n",
       "          AdultPeripheralBlood_4.AAGCGGGTATACTTAACT1  \\\n",
       "A1BG                                               0   \n",
       "A1BG-AS1                                           0   \n",
       "A2M                                                0   \n",
       "A2M-AS1                                            0   \n",
       "A2MP1                                              0   \n",
       "...                                              ...   \n",
       "ZXDC                                               0   \n",
       "ZYG11B                                             0   \n",
       "ZYX                                                0   \n",
       "ZZEF1                                              0   \n",
       "ZZZ3                                               1   \n",
       "\n",
       "          AdultPeripheralBlood_4.GGACATGCGAATTTCCGC1  \\\n",
       "A1BG                                               0   \n",
       "A1BG-AS1                                           0   \n",
       "A2M                                                0   \n",
       "A2M-AS1                                            0   \n",
       "A2MP1                                              0   \n",
       "...                                              ...   \n",
       "ZXDC                                               0   \n",
       "ZYG11B                                             0   \n",
       "ZYX                                                2   \n",
       "ZZEF1                                              0   \n",
       "ZZZ3                                               0   \n",
       "\n",
       "          AdultPeripheralBlood_4.TAGTCGCTGAAAGTTGCC1  \\\n",
       "A1BG                                               0   \n",
       "A1BG-AS1                                           0   \n",
       "A2M                                                0   \n",
       "A2M-AS1                                            0   \n",
       "A2MP1                                              0   \n",
       "...                                              ...   \n",
       "ZXDC                                               0   \n",
       "ZYG11B                                             0   \n",
       "ZYX                                                0   \n",
       "ZZEF1                                              1   \n",
       "ZZZ3                                               0   \n",
       "\n",
       "          AdultPeripheralBlood_4.AAAACGGCTGTGACGAGC1  \\\n",
       "A1BG                                               0   \n",
       "A1BG-AS1                                           0   \n",
       "A2M                                                0   \n",
       "A2M-AS1                                            0   \n",
       "A2MP1                                              0   \n",
       "...                                              ...   \n",
       "ZXDC                                               0   \n",
       "ZYG11B                                             0   \n",
       "ZYX                                                0   \n",
       "ZZEF1                                              0   \n",
       "ZZZ3                                               0   \n",
       "\n",
       "          AdultPeripheralBlood_4.AACCTACCTAGAGAGATC1  \\\n",
       "A1BG                                               0   \n",
       "A1BG-AS1                                           0   \n",
       "A2M                                                0   \n",
       "A2M-AS1                                            0   \n",
       "A2MP1                                              0   \n",
       "...                                              ...   \n",
       "ZXDC                                               0   \n",
       "ZYG11B                                             0   \n",
       "ZYX                                                0   \n",
       "ZZEF1                                              0   \n",
       "ZZZ3                                               0   \n",
       "\n",
       "          AdultPeripheralBlood_4.CTGTGTTTCCGCAAAGTT1  \\\n",
       "A1BG                                               0   \n",
       "A1BG-AS1                                           0   \n",
       "A2M                                                0   \n",
       "A2M-AS1                                            0   \n",
       "A2MP1                                              0   \n",
       "...                                              ...   \n",
       "ZXDC                                               0   \n",
       "ZYG11B                                             0   \n",
       "ZYX                                                2   \n",
       "ZZEF1                                              0   \n",
       "ZZZ3                                               0   \n",
       "\n",
       "          AdultPeripheralBlood_4.AACCTACTCGCATACTTC1  \\\n",
       "A1BG                                               0   \n",
       "A1BG-AS1                                           0   \n",
       "A2M                                                0   \n",
       "A2M-AS1                                            0   \n",
       "A2MP1                                              0   \n",
       "...                                              ...   \n",
       "ZXDC                                               0   \n",
       "ZYG11B                                             0   \n",
       "ZYX                                                0   \n",
       "ZZEF1                                              0   \n",
       "ZZZ3                                               0   \n",
       "\n",
       "          AdultPeripheralBlood_4.CTCGCACAACAAACCTGA1  \\\n",
       "A1BG                                               0   \n",
       "A1BG-AS1                                           0   \n",
       "A2M                                                0   \n",
       "A2M-AS1                                            0   \n",
       "A2MP1                                              0   \n",
       "...                                              ...   \n",
       "ZXDC                                               0   \n",
       "ZYG11B                                             0   \n",
       "ZYX                                                1   \n",
       "ZZEF1                                              0   \n",
       "ZZZ3                                               0   \n",
       "\n",
       "          AdultPeripheralBlood_4.CTGTGTGAGATCTATTGT1  ...  \\\n",
       "A1BG                                               0  ...   \n",
       "A1BG-AS1                                           0  ...   \n",
       "A2M                                                0  ...   \n",
       "A2M-AS1                                            0  ...   \n",
       "A2MP1                                              0  ...   \n",
       "...                                              ...  ...   \n",
       "ZXDC                                               0  ...   \n",
       "ZYG11B                                             0  ...   \n",
       "ZYX                                                1  ...   \n",
       "ZZEF1                                              0  ...   \n",
       "ZZZ3                                               0  ...   \n",
       "\n",
       "          AdultPeripheralBlood_4.ACAATAGTCGGTGAACGC3  \\\n",
       "A1BG                                               0   \n",
       "A1BG-AS1                                           0   \n",
       "A2M                                                0   \n",
       "A2M-AS1                                            0   \n",
       "A2MP1                                              0   \n",
       "...                                              ...   \n",
       "ZXDC                                               0   \n",
       "ZYG11B                                             0   \n",
       "ZYX                                                0   \n",
       "ZZEF1                                              0   \n",
       "ZZZ3                                               0   \n",
       "\n",
       "          AdultPeripheralBlood_4.ACACCCCATCCCTTCATA3  \\\n",
       "A1BG                                               0   \n",
       "A1BG-AS1                                           0   \n",
       "A2M                                                0   \n",
       "A2M-AS1                                            0   \n",
       "A2MP1                                              0   \n",
       "...                                              ...   \n",
       "ZXDC                                               0   \n",
       "ZYG11B                                             0   \n",
       "ZYX                                                0   \n",
       "ZZEF1                                              0   \n",
       "ZZZ3                                               0   \n",
       "\n",
       "          AdultPeripheralBlood_4.TGCGGAAGGGTCCACAAG3  \\\n",
       "A1BG                                               0   \n",
       "A1BG-AS1                                           0   \n",
       "A2M                                                0   \n",
       "A2M-AS1                                            0   \n",
       "A2MP1                                              0   \n",
       "...                                              ...   \n",
       "ZXDC                                               0   \n",
       "ZYG11B                                             0   \n",
       "ZYX                                                0   \n",
       "ZZEF1                                              0   \n",
       "ZZZ3                                               0   \n",
       "\n",
       "          AdultPeripheralBlood_4.AACGCCGCAGGAATCAAC3  \\\n",
       "A1BG                                               0   \n",
       "A1BG-AS1                                           0   \n",
       "A2M                                                0   \n",
       "A2M-AS1                                            0   \n",
       "A2MP1                                              0   \n",
       "...                                              ...   \n",
       "ZXDC                                               0   \n",
       "ZYG11B                                             0   \n",
       "ZYX                                                0   \n",
       "ZZEF1                                              0   \n",
       "ZZZ3                                               0   \n",
       "\n",
       "          AdultPeripheralBlood_4.ACGAGCCCTTTCTCGTAA3  \\\n",
       "A1BG                                               0   \n",
       "A1BG-AS1                                           0   \n",
       "A2M                                                0   \n",
       "A2M-AS1                                            0   \n",
       "A2MP1                                              0   \n",
       "...                                              ...   \n",
       "ZXDC                                               0   \n",
       "ZYG11B                                             0   \n",
       "ZYX                                                0   \n",
       "ZZEF1                                              0   \n",
       "ZZZ3                                               0   \n",
       "\n",
       "          AdultPeripheralBlood_4.CCGACGCATCCCATGCTT3  \\\n",
       "A1BG                                               0   \n",
       "A1BG-AS1                                           0   \n",
       "A2M                                                0   \n",
       "A2M-AS1                                            0   \n",
       "A2MP1                                              0   \n",
       "...                                              ...   \n",
       "ZXDC                                               0   \n",
       "ZYG11B                                             0   \n",
       "ZYX                                                0   \n",
       "ZZEF1                                              0   \n",
       "ZZZ3                                               0   \n",
       "\n",
       "          AdultPeripheralBlood_4.ACGTTGGTTGCCGTATAC3  \\\n",
       "A1BG                                               0   \n",
       "A1BG-AS1                                           0   \n",
       "A2M                                                0   \n",
       "A2M-AS1                                            0   \n",
       "A2MP1                                              0   \n",
       "...                                              ...   \n",
       "ZXDC                                               0   \n",
       "ZYG11B                                             0   \n",
       "ZYX                                                0   \n",
       "ZZEF1                                              0   \n",
       "ZZZ3                                               0   \n",
       "\n",
       "          AdultPeripheralBlood_4.GCGAATTGCAATCGCACC3  \\\n",
       "A1BG                                               0   \n",
       "A1BG-AS1                                           0   \n",
       "A2M                                                0   \n",
       "A2M-AS1                                            0   \n",
       "A2MP1                                              0   \n",
       "...                                              ...   \n",
       "ZXDC                                               0   \n",
       "ZYG11B                                             0   \n",
       "ZYX                                                0   \n",
       "ZZEF1                                              0   \n",
       "ZZZ3                                               0   \n",
       "\n",
       "          AdultPeripheralBlood_4.TGCAATGGACATGAGGAG3  \\\n",
       "A1BG                                               0   \n",
       "A1BG-AS1                                           0   \n",
       "A2M                                                0   \n",
       "A2M-AS1                                            0   \n",
       "A2MP1                                              0   \n",
       "...                                              ...   \n",
       "ZXDC                                               0   \n",
       "ZYG11B                                             0   \n",
       "ZYX                                                0   \n",
       "ZZEF1                                              0   \n",
       "ZZZ3                                               0   \n",
       "\n",
       "          AdultPeripheralBlood_4.ACGAGCGGCTGCATGCTT3  \n",
       "A1BG                                               0  \n",
       "A1BG-AS1                                           0  \n",
       "A2M                                                0  \n",
       "A2M-AS1                                            0  \n",
       "A2MP1                                              0  \n",
       "...                                              ...  \n",
       "ZXDC                                               0  \n",
       "ZYG11B                                             0  \n",
       "ZYX                                                0  \n",
       "ZZEF1                                              0  \n",
       "ZZZ3                                               0  \n",
       "\n",
       "[21267 rows x 7180 columns]"
      ]
     },
     "execution_count": 192,
     "metadata": {},
     "output_type": "execute_result"
    }
   ],
   "source": [
    "f_dic[i].loc"
   ]
  },
  {
   "cell_type": "code",
   "execution_count": null,
   "metadata": {},
   "outputs": [
    {
     "name": "stdout",
     "output_type": "stream",
     "text": [
      "Fetal-Pancreas1_rmbatchdge\n",
      "Fetal-Pancreas1_rmbatchdge is already adata\n",
      "Fetal-Calvaria1_rmbatchdge\n",
      "Fetal-Calvaria1_rmbatchdge is already adata\n",
      "Fetal-Eyes1_rmbatchdge\n",
      "Fetal-Eyes1_rmbatchdge is already adata\n",
      "Fetal-Kidney5_rmbatchdge\n",
      "Fetal-Kidney5_rmbatchdge is already adata\n",
      "Adult-Prostate1_rmbatchdge\n",
      "Adult-Prostate1_rmbatchdge is already adata\n",
      "Fetal-Stomach1_rmbatchdge\n",
      "Fetal-Stomach1_rmbatchdge is already adata\n",
      "Adult-Cerebellum1_rmbatchdge\n",
      "Adult-Cerebellum1_rmbatchdge is already adata\n",
      "Adult-Peripheral-Blood1_rmbatchdge\n",
      "Adult-Peripheral-Blood1_rmbatchdge is already adata\n",
      "Adult-Ileum2_rmbatchdge\n",
      "Adult-Ileum2_rmbatchdge is already adata\n",
      "\n",
      "Adult-Esophagus2_rmbatchdge\n",
      "Adult-Esophagus2_rmbatchdge is already adata\n",
      "Adult-Cervix1_rmbatchdge\n",
      "Adult-Cervix1_rmbatchdge is already adata\n",
      "Fetal-Adrenal-Gland2_rmbatchdge\n",
      "Fetal-Adrenal-Gland2_rmbatchdge is already adata\n",
      "Cord-Blood-CD34P1_rmbatchdge\n",
      "Cord-Blood-CD34P1_rmbatchdge is already adata\n",
      "Adult-Peripheral-Blood4_rmbatchdge\n"
     ]
    },
    {
     "name": "stderr",
     "output_type": "stream",
     "text": [
      "/home/mohammad/packages/anndata/anndata/_core/anndata.py:110: ImplicitModificationWarning: Transforming to str index.\n",
      "  warnings.warn(\"Transforming to str index.\", ImplicitModificationWarning)\n",
      "... storing 'Sample' as categorical\n",
      "... storing 'Batch' as categorical\n",
      "... storing 'Cluster_id' as categorical\n",
      "... storing 'Ages' as categorical\n",
      "... storing 'Development_stage' as categorical\n",
      "... storing 'Method' as categorical\n",
      "... storing 'Gender' as categorical\n",
      "... storing 'Source' as categorical\n",
      "... storing 'Biomaterial' as categorical\n",
      "... storing 'Name' as categorical\n",
      "... storing 'Celltype' as categorical\n"
     ]
    },
    {
     "name": "stdout",
     "output_type": "stream",
     "text": [
      "Adult-Omentum3_rmbatchdge\n"
     ]
    },
    {
     "name": "stderr",
     "output_type": "stream",
     "text": [
      "... storing 'Sample' as categorical\n",
      "... storing 'Batch' as categorical\n",
      "... storing 'Cluster_id' as categorical\n",
      "... storing 'Ages' as categorical\n",
      "... storing 'Development_stage' as categorical\n",
      "... storing 'Method' as categorical\n",
      "... storing 'Gender' as categorical\n",
      "... storing 'Source' as categorical\n",
      "... storing 'Biomaterial' as categorical\n",
      "... storing 'Name' as categorical\n",
      "... storing 'Celltype' as categorical\n"
     ]
    },
    {
     "name": "stdout",
     "output_type": "stream",
     "text": [
      "Fetal-Intestine2_rmbatchdge\n"
     ]
    },
    {
     "name": "stderr",
     "output_type": "stream",
     "text": [
      "... storing 'Sample' as categorical\n",
      "... storing 'Batch' as categorical\n",
      "... storing 'Cluster_id' as categorical\n",
      "... storing 'Ages' as categorical\n",
      "... storing 'Development_stage' as categorical\n",
      "... storing 'Method' as categorical\n",
      "... storing 'Gender' as categorical\n",
      "... storing 'Source' as categorical\n",
      "... storing 'Biomaterial' as categorical\n",
      "... storing 'Name' as categorical\n",
      "... storing 'Celltype' as categorical\n"
     ]
    },
    {
     "name": "stdout",
     "output_type": "stream",
     "text": [
      "Adult-Uterus1_rmbatchdge\n"
     ]
    },
    {
     "name": "stderr",
     "output_type": "stream",
     "text": [
      "... storing 'Sample' as categorical\n",
      "... storing 'Batch' as categorical\n",
      "... storing 'Cluster_id' as categorical\n",
      "... storing 'Ages' as categorical\n",
      "... storing 'Development_stage' as categorical\n",
      "... storing 'Method' as categorical\n",
      "... storing 'Gender' as categorical\n",
      "... storing 'Source' as categorical\n",
      "... storing 'Biomaterial' as categorical\n",
      "... storing 'Name' as categorical\n",
      "... storing 'Celltype' as categorical\n"
     ]
    },
    {
     "name": "stdout",
     "output_type": "stream",
     "text": [
      "Fetal-Brain3_rmbatchdge\n"
     ]
    },
    {
     "name": "stderr",
     "output_type": "stream",
     "text": [
      "... storing 'Sample' as categorical\n",
      "... storing 'Batch' as categorical\n",
      "... storing 'Cluster_id' as categorical\n",
      "... storing 'Ages' as categorical\n",
      "... storing 'Development_stage' as categorical\n",
      "... storing 'Method' as categorical\n",
      "... storing 'Gender' as categorical\n",
      "... storing 'Source' as categorical\n",
      "... storing 'Biomaterial' as categorical\n",
      "... storing 'Name' as categorical\n",
      "... storing 'Celltype' as categorical\n"
     ]
    },
    {
     "name": "stdout",
     "output_type": "stream",
     "text": [
      "Fetal-Heart1_rmbatchdge\n"
     ]
    },
    {
     "name": "stderr",
     "output_type": "stream",
     "text": [
      "... storing 'Sample' as categorical\n",
      "... storing 'Batch' as categorical\n",
      "... storing 'Cluster_id' as categorical\n",
      "... storing 'Ages' as categorical\n",
      "... storing 'Development_stage' as categorical\n",
      "... storing 'Method' as categorical\n",
      "... storing 'Gender' as categorical\n",
      "... storing 'Source' as categorical\n",
      "... storing 'Biomaterial' as categorical\n",
      "... storing 'Name' as categorical\n",
      "... storing 'Celltype' as categorical\n"
     ]
    },
    {
     "name": "stdout",
     "output_type": "stream",
     "text": [
      "Adult-Stomach2_rmbatchdge\n"
     ]
    },
    {
     "name": "stderr",
     "output_type": "stream",
     "text": [
      "... storing 'Sample' as categorical\n",
      "... storing 'Batch' as categorical\n",
      "... storing 'Cluster_id' as categorical\n",
      "... storing 'Ages' as categorical\n",
      "... storing 'Development_stage' as categorical\n",
      "... storing 'Method' as categorical\n",
      "... storing 'Gender' as categorical\n",
      "... storing 'Source' as categorical\n",
      "... storing 'Biomaterial' as categorical\n",
      "... storing 'Name' as categorical\n",
      "... storing 'Celltype' as categorical\n"
     ]
    },
    {
     "name": "stdout",
     "output_type": "stream",
     "text": [
      "Cord-Blood2_rmbatchdge\n"
     ]
    },
    {
     "name": "stderr",
     "output_type": "stream",
     "text": [
      "... storing 'Sample' as categorical\n",
      "... storing 'Batch' as categorical\n",
      "... storing 'Cluster_id' as categorical\n",
      "... storing 'Development_stage' as categorical\n",
      "... storing 'Method' as categorical\n",
      "... storing 'Gender' as categorical\n",
      "... storing 'Source' as categorical\n",
      "... storing 'Biomaterial' as categorical\n",
      "... storing 'Name' as categorical\n",
      "... storing 'Celltype' as categorical\n"
     ]
    },
    {
     "name": "stdout",
     "output_type": "stream",
     "text": [
      "Adult-Heart2_rmbatchdge\n"
     ]
    },
    {
     "name": "stderr",
     "output_type": "stream",
     "text": [
      "... storing 'Sample' as categorical\n",
      "... storing 'Batch' as categorical\n",
      "... storing 'Cluster_id' as categorical\n",
      "... storing 'Ages' as categorical\n",
      "... storing 'Development_stage' as categorical\n",
      "... storing 'Method' as categorical\n",
      "... storing 'Gender' as categorical\n",
      "... storing 'Source' as categorical\n",
      "... storing 'Biomaterial' as categorical\n",
      "... storing 'Name' as categorical\n",
      "... storing 'Celltype' as categorical\n"
     ]
    },
    {
     "name": "stdout",
     "output_type": "stream",
     "text": [
      "Adult-Gallbladder1_rmbatchdge\n"
     ]
    },
    {
     "name": "stderr",
     "output_type": "stream",
     "text": [
      "... storing 'Sample' as categorical\n",
      "... storing 'Batch' as categorical\n",
      "... storing 'Cluster_id' as categorical\n",
      "... storing 'Ages' as categorical\n",
      "... storing 'Development_stage' as categorical\n",
      "... storing 'Method' as categorical\n",
      "... storing 'Gender' as categorical\n",
      "... storing 'Source' as categorical\n",
      "... storing 'Biomaterial' as categorical\n",
      "... storing 'Name' as categorical\n",
      "... storing 'Celltype' as categorical\n"
     ]
    },
    {
     "name": "stdout",
     "output_type": "stream",
     "text": [
      "Fetal-Pancreas2_rmbatchdge\n"
     ]
    },
    {
     "name": "stderr",
     "output_type": "stream",
     "text": [
      "... storing 'Sample' as categorical\n",
      "... storing 'Batch' as categorical\n",
      "... storing 'Cluster_id' as categorical\n",
      "... storing 'Ages' as categorical\n",
      "... storing 'Development_stage' as categorical\n",
      "... storing 'Method' as categorical\n",
      "... storing 'Gender' as categorical\n",
      "... storing 'Source' as categorical\n",
      "... storing 'Biomaterial' as categorical\n",
      "... storing 'Name' as categorical\n",
      "... storing 'Celltype' as categorical\n"
     ]
    },
    {
     "name": "stdout",
     "output_type": "stream",
     "text": [
      "Fetal-Intestine1_rmbatchdge\n"
     ]
    },
    {
     "name": "stderr",
     "output_type": "stream",
     "text": [
      "... storing 'Sample' as categorical\n",
      "... storing 'Batch' as categorical\n",
      "... storing 'Cluster_id' as categorical\n",
      "... storing 'Ages' as categorical\n",
      "... storing 'Development_stage' as categorical\n",
      "... storing 'Method' as categorical\n",
      "... storing 'Gender' as categorical\n",
      "... storing 'Source' as categorical\n",
      "... storing 'Biomaterial' as categorical\n",
      "... storing 'Name' as categorical\n",
      "... storing 'Celltype' as categorical\n"
     ]
    },
    {
     "name": "stdout",
     "output_type": "stream",
     "text": [
      "Adult-Sigmoid-Colon1_rmbatchdge\n"
     ]
    },
    {
     "name": "stderr",
     "output_type": "stream",
     "text": [
      "... storing 'Sample' as categorical\n",
      "... storing 'Batch' as categorical\n",
      "... storing 'Cluster_id' as categorical\n",
      "... storing 'Ages' as categorical\n",
      "... storing 'Development_stage' as categorical\n",
      "... storing 'Method' as categorical\n",
      "... storing 'Gender' as categorical\n",
      "... storing 'Source' as categorical\n",
      "... storing 'Biomaterial' as categorical\n",
      "... storing 'Name' as categorical\n",
      "... storing 'Celltype' as categorical\n"
     ]
    },
    {
     "name": "stdout",
     "output_type": "stream",
     "text": [
      "Neonatal-Adrenal-Gland1_rmbatchdge\n"
     ]
    },
    {
     "name": "stderr",
     "output_type": "stream",
     "text": [
      "... storing 'Sample' as categorical\n",
      "... storing 'Batch' as categorical\n",
      "... storing 'Cluster_id' as categorical\n",
      "... storing 'Ages' as categorical\n",
      "... storing 'Development_stage' as categorical\n",
      "... storing 'Method' as categorical\n",
      "... storing 'Gender' as categorical\n",
      "... storing 'Source' as categorical\n",
      "... storing 'Biomaterial' as categorical\n",
      "... storing 'Name' as categorical\n",
      "... storing 'Celltype' as categorical\n"
     ]
    },
    {
     "name": "stdout",
     "output_type": "stream",
     "text": [
      "Adult-Temporal-Lobe1_rmbatchdge\n"
     ]
    },
    {
     "name": "stderr",
     "output_type": "stream",
     "text": [
      "... storing 'Sample' as categorical\n",
      "... storing 'Batch' as categorical\n",
      "... storing 'Cluster_id' as categorical\n",
      "... storing 'Ages' as categorical\n",
      "... storing 'Development_stage' as categorical\n",
      "... storing 'Method' as categorical\n",
      "... storing 'Gender' as categorical\n",
      "... storing 'Source' as categorical\n",
      "... storing 'Biomaterial' as categorical\n",
      "... storing 'Name' as categorical\n",
      "... storing 'Celltype' as categorical\n"
     ]
    },
    {
     "name": "stdout",
     "output_type": "stream",
     "text": [
      "Adult-Liver1_rmbatchdge\n"
     ]
    },
    {
     "name": "stderr",
     "output_type": "stream",
     "text": [
      "... storing 'Sample' as categorical\n",
      "... storing 'Batch' as categorical\n",
      "... storing 'Cluster_id' as categorical\n",
      "... storing 'Ages' as categorical\n",
      "... storing 'Development_stage' as categorical\n",
      "... storing 'Method' as categorical\n",
      "... storing 'Gender' as categorical\n",
      "... storing 'Source' as categorical\n",
      "... storing 'Biomaterial' as categorical\n",
      "... storing 'Name' as categorical\n",
      "... storing 'Celltype' as categorical\n"
     ]
    },
    {
     "name": "stdout",
     "output_type": "stream",
     "text": [
      "Adult-Adrenal-Gland3_rmbatchdge\n"
     ]
    },
    {
     "name": "stderr",
     "output_type": "stream",
     "text": [
      "... storing 'Sample' as categorical\n",
      "... storing 'Batch' as categorical\n",
      "... storing 'Cluster_id' as categorical\n",
      "... storing 'Ages' as categorical\n",
      "... storing 'Development_stage' as categorical\n",
      "... storing 'Method' as categorical\n",
      "... storing 'Gender' as categorical\n",
      "... storing 'Source' as categorical\n",
      "... storing 'Biomaterial' as categorical\n",
      "... storing 'Name' as categorical\n",
      "... storing 'Celltype' as categorical\n"
     ]
    },
    {
     "name": "stdout",
     "output_type": "stream",
     "text": [
      "Fetal-Adrenal-Gland4_rmbatchdge\n"
     ]
    },
    {
     "name": "stderr",
     "output_type": "stream",
     "text": [
      "... storing 'Sample' as categorical\n",
      "... storing 'Batch' as categorical\n",
      "... storing 'Cluster_id' as categorical\n",
      "... storing 'Ages' as categorical\n",
      "... storing 'Development_stage' as categorical\n",
      "... storing 'Method' as categorical\n",
      "... storing 'Gender' as categorical\n",
      "... storing 'Source' as categorical\n",
      "... storing 'Biomaterial' as categorical\n",
      "... storing 'Name' as categorical\n",
      "... storing 'Celltype' as categorical\n"
     ]
    },
    {
     "name": "stdout",
     "output_type": "stream",
     "text": [
      "Fetal-Pancreas3_rmbatchdge\n"
     ]
    },
    {
     "name": "stderr",
     "output_type": "stream",
     "text": [
      "... storing 'Sample' as categorical\n",
      "... storing 'Batch' as categorical\n",
      "... storing 'Cluster_id' as categorical\n",
      "... storing 'Ages' as categorical\n",
      "... storing 'Development_stage' as categorical\n",
      "... storing 'Method' as categorical\n",
      "... storing 'Gender' as categorical\n",
      "... storing 'Source' as categorical\n",
      "... storing 'Biomaterial' as categorical\n",
      "... storing 'Name' as categorical\n",
      "... storing 'Celltype' as categorical\n"
     ]
    },
    {
     "name": "stdout",
     "output_type": "stream",
     "text": [
      "Fetal-Female-Gonad2_rmbatchdge\n"
     ]
    },
    {
     "name": "stderr",
     "output_type": "stream",
     "text": [
      "... storing 'Sample' as categorical\n",
      "... storing 'Batch' as categorical\n",
      "... storing 'Cluster_id' as categorical\n",
      "... storing 'Ages' as categorical\n",
      "... storing 'Development_stage' as categorical\n",
      "... storing 'Method' as categorical\n",
      "... storing 'Gender' as categorical\n",
      "... storing 'Source' as categorical\n",
      "... storing 'Biomaterial' as categorical\n",
      "... storing 'Name' as categorical\n",
      "... storing 'Celltype' as categorical\n"
     ]
    },
    {
     "name": "stdout",
     "output_type": "stream",
     "text": [
      "Fetal-Lung2_rmbatchdge\n"
     ]
    },
    {
     "name": "stderr",
     "output_type": "stream",
     "text": [
      "... storing 'Sample' as categorical\n",
      "... storing 'Batch' as categorical\n",
      "... storing 'Cluster_id' as categorical\n",
      "... storing 'Ages' as categorical\n",
      "... storing 'Development_stage' as categorical\n",
      "... storing 'Method' as categorical\n",
      "... storing 'Gender' as categorical\n",
      "... storing 'Source' as categorical\n",
      "... storing 'Biomaterial' as categorical\n",
      "... storing 'Name' as categorical\n",
      "... storing 'Celltype' as categorical\n"
     ]
    },
    {
     "name": "stdout",
     "output_type": "stream",
     "text": [
      "Adult-Liver2_rmbatchdge\n"
     ]
    },
    {
     "name": "stderr",
     "output_type": "stream",
     "text": [
      "... storing 'Sample' as categorical\n",
      "... storing 'Batch' as categorical\n",
      "... storing 'Cluster_id' as categorical\n",
      "... storing 'Ages' as categorical\n",
      "... storing 'Development_stage' as categorical\n",
      "... storing 'Method' as categorical\n",
      "... storing 'Gender' as categorical\n",
      "... storing 'Source' as categorical\n",
      "... storing 'Biomaterial' as categorical\n",
      "... storing 'Name' as categorical\n",
      "... storing 'Celltype' as categorical\n"
     ]
    },
    {
     "name": "stdout",
     "output_type": "stream",
     "text": [
      "Adult-Omentum2_rmbatchdge\n"
     ]
    },
    {
     "name": "stderr",
     "output_type": "stream",
     "text": [
      "... storing 'Sample' as categorical\n",
      "... storing 'Batch' as categorical\n",
      "... storing 'Cluster_id' as categorical\n",
      "... storing 'Ages' as categorical\n",
      "... storing 'Development_stage' as categorical\n",
      "... storing 'Method' as categorical\n",
      "... storing 'Gender' as categorical\n",
      "... storing 'Source' as categorical\n",
      "... storing 'Biomaterial' as categorical\n",
      "... storing 'Name' as categorical\n",
      "... storing 'Celltype' as categorical\n"
     ]
    },
    {
     "name": "stdout",
     "output_type": "stream",
     "text": [
      "Adult-Transverse-Colon2_rmbatchdge\n"
     ]
    },
    {
     "name": "stderr",
     "output_type": "stream",
     "text": [
      "... storing 'Sample' as categorical\n",
      "... storing 'Batch' as categorical\n",
      "... storing 'Cluster_id' as categorical\n",
      "... storing 'Ages' as categorical\n",
      "... storing 'Development_stage' as categorical\n",
      "... storing 'Method' as categorical\n",
      "... storing 'Gender' as categorical\n",
      "... storing 'Source' as categorical\n",
      "... storing 'Biomaterial' as categorical\n",
      "... storing 'Name' as categorical\n",
      "... storing 'Celltype' as categorical\n"
     ]
    },
    {
     "name": "stdout",
     "output_type": "stream",
     "text": [
      "Cord-Blood-CD34P2_rmbatchdge\n"
     ]
    },
    {
     "name": "stderr",
     "output_type": "stream",
     "text": [
      "... storing 'Sample' as categorical\n",
      "... storing 'Batch' as categorical\n",
      "... storing 'Cluster_id' as categorical\n",
      "... storing 'Development_stage' as categorical\n",
      "... storing 'Method' as categorical\n",
      "... storing 'Gender' as categorical\n",
      "... storing 'Source' as categorical\n",
      "... storing 'Biomaterial' as categorical\n",
      "... storing 'Name' as categorical\n",
      "... storing 'Celltype' as categorical\n"
     ]
    },
    {
     "name": "stdout",
     "output_type": "stream",
     "text": [
      "Adult-Heart1_rmbatchdge\n"
     ]
    },
    {
     "name": "stderr",
     "output_type": "stream",
     "text": [
      "... storing 'Sample' as categorical\n",
      "... storing 'Batch' as categorical\n",
      "... storing 'Cluster_id' as categorical\n",
      "... storing 'Ages' as categorical\n",
      "... storing 'Development_stage' as categorical\n",
      "... storing 'Method' as categorical\n",
      "... storing 'Gender' as categorical\n",
      "... storing 'Source' as categorical\n",
      "... storing 'Biomaterial' as categorical\n",
      "... storing 'Name' as categorical\n",
      "... storing 'Celltype' as categorical\n"
     ]
    },
    {
     "name": "stdout",
     "output_type": "stream",
     "text": [
      "Fetal-Skin2_rmbatchdge\n"
     ]
    },
    {
     "name": "stderr",
     "output_type": "stream",
     "text": [
      "... storing 'Sample' as categorical\n",
      "... storing 'Batch' as categorical\n",
      "... storing 'Cluster_id' as categorical\n",
      "... storing 'Ages' as categorical\n",
      "... storing 'Development_stage' as categorical\n",
      "... storing 'Method' as categorical\n",
      "... storing 'Gender' as categorical\n",
      "... storing 'Source' as categorical\n",
      "... storing 'Biomaterial' as categorical\n",
      "... storing 'Name' as categorical\n",
      "... storing 'Celltype' as categorical\n"
     ]
    },
    {
     "name": "stdout",
     "output_type": "stream",
     "text": [
      "Adult-Omentum1_rmbatchdge\n"
     ]
    },
    {
     "name": "stderr",
     "output_type": "stream",
     "text": [
      "... storing 'Sample' as categorical\n",
      "... storing 'Batch' as categorical\n",
      "... storing 'Cluster_id' as categorical\n",
      "... storing 'Ages' as categorical\n",
      "... storing 'Development_stage' as categorical\n",
      "... storing 'Method' as categorical\n",
      "... storing 'Gender' as categorical\n",
      "... storing 'Source' as categorical\n",
      "... storing 'Biomaterial' as categorical\n",
      "... storing 'Name' as categorical\n",
      "... storing 'Celltype' as categorical\n"
     ]
    }
   ],
   "source": [
    "for i in f_dic.keys():\n",
    "     print(i)\n",
    "     if (type(f_dic[i]) == sc.AnnData):\n",
    "        print(f\"{i} is already adata\")\n",
    "        continue\n",
    "     if i == '':\n",
    "        continue\n",
    "     else:\n",
    "         f_dic[i] = f_dic[i].loc[f_file_anot[i.split(\"_\")[0]+'_rmbatchAnno'][\"Cell_id\"]]\n",
    "         var_names = list(f_dic[i].columns)\n",
    "         f_dic[i] = sc.AnnData(X=csr_matrix(f_dic[i].to_numpy()), obs=f_file_anot[i.split(\"_\")[0]+'_rmbatchAnno'])\n",
    "         f_dic[i].X = csr_matrix(f_dic[i].X)\n",
    "         f_dic[i].var_names = var_names\n",
    "         f_dic[i].write(f\"./data/hcl_adata/{i}.h5ad\")\n"
   ]
  },
  {
   "cell_type": "code",
   "execution_count": null,
   "metadata": {},
   "outputs": [],
   "source": []
  }
 ],
 "metadata": {
  "kernelspec": {
   "display_name": "Python 3",
   "language": "python",
   "name": "python3"
  },
  "language_info": {
   "codemirror_mode": {
    "name": "ipython",
    "version": 3
   },
   "file_extension": ".py",
   "mimetype": "text/x-python",
   "name": "python",
   "nbconvert_exporter": "python",
   "pygments_lexer": "ipython3",
   "version": "3.6.8"
  }
 },
 "nbformat": 4,
 "nbformat_minor": 4
}
