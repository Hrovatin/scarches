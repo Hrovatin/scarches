{
 "cells": [
  {
   "cell_type": "code",
   "execution_count": 2,
   "metadata": {},
   "outputs": [],
   "source": [
    "import os\n",
    "os.chdir(\"../../\")"
   ]
  },
  {
   "cell_type": "code",
   "execution_count": 3,
   "metadata": {},
   "outputs": [],
   "source": [
    "import warnings\n",
    "warnings.filterwarnings('ignore')"
   ]
  },
  {
   "cell_type": "code",
   "execution_count": 4,
   "metadata": {},
   "outputs": [
    {
     "name": "stderr",
     "output_type": "stream",
     "text": [
      "Using TensorFlow backend.\n"
     ]
    }
   ],
   "source": [
    "import surgeon as sg\n",
    "import scanpy as sc\n",
    "import numpy as np"
   ]
  },
  {
   "cell_type": "code",
   "execution_count": 10,
   "metadata": {},
   "outputs": [],
   "source": [
    "def subsample_selection(adata, study_key, frac=0.1, specific_cell_types=None, cell_type_key=None):\n",
    "    studies = adata.obs[study_key].unique().tolist()\n",
    "    if specific_cell_types and cell_type_key:\n",
    "        subsampled_adata = adata[adata.obs[cell_type_key].isin(specific_cell_types)]\n",
    "        other_adata = adata[~adata.obs[cell_type_key].isin(specific_cell_types)]\n",
    "    else:\n",
    "        subsampled_adata = None\n",
    "    for study in studies:\n",
    "        study_adata = other_adata[other_adata.obs[study_key] == study]\n",
    "        n_samples = study_adata.shape[0]\n",
    "        print(study, n_samples)\n",
    "        subsample_idx = np.random.choice(n_samples, int(frac * n_samples), replace=False)\n",
    "        study_adata_subsampled = study_adata[subsample_idx, :]\n",
    "        subsampled_adata = study_adata_subsampled if subsampled_adata is None else subsampled_adata.concatenate(study_adata_subsampled)\n",
    "    return subsampled_adata"
   ]
  },
  {
   "cell_type": "code",
   "execution_count": 6,
   "metadata": {},
   "outputs": [
    {
     "data": {
      "text/plain": [
       "AnnData object with n_obs × n_vars = 978734 × 2000 \n",
       "    obs: 'Age', 'Subclass', 'Taxonomy_group', 'Tissue', 'age', 'batch', 'cell_ontology_class', 'cell_ontology_id', 'cell_type', 'class', 'cluster', 'cluster_id', 'louvain', 'reason', 'refined_class', 'region', 'region_subcluster', 'sample_type', 'study', 'subcluster'\n",
       "    var: 'highly_variable', 'means', 'dispersions', 'dispersions_norm', 'highly_variable_nbatches', 'highly_variable_intersection'"
      ]
     },
     "execution_count": 6,
     "metadata": {},
     "output_type": "execute_result"
    }
   ],
   "source": [
    "adata = sc.read(\"./data/mouse_brain/mouse_brain_normalized_hvg_all.h5ad\")\n",
    "adata"
   ]
  },
  {
   "cell_type": "code",
   "execution_count": 8,
   "metadata": {},
   "outputs": [
    {
     "data": {
      "text/plain": [
       "Saunders        691489\n",
       "Zeisel          145954\n",
       "Rosenberg       133435\n",
       "Tabula_muris      7856\n",
       "Name: study, dtype: int64"
      ]
     },
     "execution_count": 8,
     "metadata": {},
     "output_type": "execute_result"
    }
   ],
   "source": [
    "adata.obs['study'].value_counts()"
   ]
  },
  {
   "cell_type": "code",
   "execution_count": 9,
   "metadata": {},
   "outputs": [
    {
     "data": {
      "text/plain": [
       "neuron                            628235\n",
       "oligodendrocyte                   144260\n",
       "astrocyte                          88530\n",
       "endothelial cell                   55031\n",
       "brain pericyte                     18692\n",
       "oligodendrocyte precursor cell     18150\n",
       "microglial cell                    15855\n",
       "ependymal cell                      3851\n",
       "macrophage                          3844\n",
       "olfactory ensheathing cell          2286\n",
       "Name: cell_type, dtype: int64"
      ]
     },
     "execution_count": 9,
     "metadata": {},
     "output_type": "execute_result"
    }
   ],
   "source": [
    "adata.obs['cell_type'].value_counts()"
   ]
  },
  {
   "cell_type": "code",
   "execution_count": 10,
   "metadata": {},
   "outputs": [
    {
     "data": {
      "text/plain": [
       "cell_type                       study       \n",
       "astrocyte                       Rosenberg        10683\n",
       "                                Saunders         56915\n",
       "                                Tabula_muris       472\n",
       "                                Zeisel           20460\n",
       "brain pericyte                  Rosenberg         1188\n",
       "                                Saunders         12135\n",
       "                                Tabula_muris       156\n",
       "                                Zeisel            5213\n",
       "endothelial cell                Rosenberg          474\n",
       "                                Saunders         46455\n",
       "                                Tabula_muris       715\n",
       "                                Zeisel            7387\n",
       "ependymal cell                  Rosenberg          400\n",
       "                                Saunders          2083\n",
       "                                Zeisel            1368\n",
       "macrophage                      Rosenberg           53\n",
       "                                Saunders          1701\n",
       "                                Tabula_muris        61\n",
       "                                Zeisel            2029\n",
       "microglial cell                 Rosenberg          485\n",
       "                                Saunders          5551\n",
       "                                Tabula_muris      4394\n",
       "                                Zeisel            5425\n",
       "neuron                          Rosenberg       113829\n",
       "                                Saunders        443157\n",
       "                                Tabula_muris       281\n",
       "                                Zeisel           70968\n",
       "olfactory ensheathing cell      Rosenberg          255\n",
       "                                Zeisel            2031\n",
       "oligodendrocyte                 Rosenberg         1566\n",
       "                                Saunders        110867\n",
       "                                Tabula_muris      1574\n",
       "                                Zeisel           30253\n",
       "oligodendrocyte precursor cell  Rosenberg         4502\n",
       "                                Saunders         12625\n",
       "                                Tabula_muris       203\n",
       "                                Zeisel             820\n",
       "dtype: int64"
      ]
     },
     "execution_count": 10,
     "metadata": {},
     "output_type": "execute_result"
    }
   ],
   "source": [
    "adata.obs.groupby(['cell_type', 'study']).size()"
   ]
  },
  {
   "cell_type": "code",
   "execution_count": 7,
   "metadata": {},
   "outputs": [
    {
     "data": {
      "text/plain": [
       "View of AnnData object with n_obs × n_vars = 824924 × 2000 \n",
       "    obs: 'Age', 'Subclass', 'Taxonomy_group', 'Tissue', 'age', 'batch', 'cell_ontology_class', 'cell_ontology_id', 'cell_type', 'class', 'cluster', 'cluster_id', 'louvain', 'reason', 'refined_class', 'region', 'region_subcluster', 'sample_type', 'study', 'subcluster'\n",
       "    var: 'highly_variable', 'means', 'dispersions', 'dispersions_norm', 'highly_variable_nbatches', 'highly_variable_intersection'"
      ]
     },
     "execution_count": 7,
     "metadata": {},
     "output_type": "execute_result"
    }
   ],
   "source": [
    "pretrain_adata = adata[adata.obs['study'].isin(['Saunders', 'Rosenberg'])]\n",
    "pretrain_adata"
   ]
  },
  {
   "cell_type": "code",
   "execution_count": 14,
   "metadata": {},
   "outputs": [],
   "source": [
    "cell_types_to_keep = ['olfactory ensheathing cell', 'macrophage', 'ependymal cell']"
   ]
  },
  {
   "cell_type": "code",
   "execution_count": 15,
   "metadata": {},
   "outputs": [
    {
     "name": "stdout",
     "output_type": "stream",
     "text": [
      "Saunders 687705\n",
      "Rosenberg 132727\n"
     ]
    },
    {
     "data": {
      "text/plain": [
       "AnnData object with n_obs × n_vars = 414707 × 2000 \n",
       "    obs: 'Age', 'Subclass', 'Taxonomy_group', 'Tissue', 'age', 'batch', 'cell_ontology_class', 'cell_ontology_id', 'cell_type', 'class', 'cluster', 'cluster_id', 'louvain', 'reason', 'refined_class', 'region', 'region_subcluster', 'sample_type', 'study', 'subcluster'\n",
       "    var: 'highly_variable', 'means', 'dispersions', 'dispersions_norm', 'highly_variable_nbatches', 'highly_variable_intersection'"
      ]
     },
     "execution_count": 15,
     "metadata": {},
     "output_type": "execute_result"
    }
   ],
   "source": [
    "subsampled_adata = subsample_selection(pretrain_adata, 'study', 0.5, cell_types_to_keep, 'cell_type')\n",
    "subsampled_adata"
   ]
  },
  {
   "cell_type": "code",
   "execution_count": 16,
   "metadata": {},
   "outputs": [
    {
     "data": {
      "text/plain": [
       "neuron                            278659\n",
       "oligodendrocyte                    56016\n",
       "astrocyte                          33834\n",
       "endothelial cell                   23463\n",
       "oligodendrocyte precursor cell      8478\n",
       "brain pericyte                      6696\n",
       "microglial cell                     3069\n",
       "ependymal cell                      2483\n",
       "macrophage                          1754\n",
       "olfactory ensheathing cell           255\n",
       "Name: cell_type, dtype: int64"
      ]
     },
     "execution_count": 16,
     "metadata": {},
     "output_type": "execute_result"
    }
   ],
   "source": [
    "subsampled_adata.obs['cell_type'].value_counts()"
   ]
  },
  {
   "cell_type": "code",
   "execution_count": 17,
   "metadata": {},
   "outputs": [],
   "source": [
    "out_of_sample_adata = adata[~adata.obs['study'].isin(['Saunders', 'Rosenberg'])]"
   ]
  },
  {
   "cell_type": "code",
   "execution_count": 19,
   "metadata": {},
   "outputs": [
    {
     "data": {
      "text/plain": [
       "View of AnnData object with n_obs × n_vars = 153810 × 2000 \n",
       "    obs: 'Age', 'Subclass', 'Taxonomy_group', 'Tissue', 'age', 'batch', 'cell_ontology_class', 'cell_ontology_id', 'cell_type', 'class', 'cluster', 'cluster_id', 'louvain', 'reason', 'refined_class', 'region', 'region_subcluster', 'sample_type', 'study', 'subcluster'\n",
       "    var: 'highly_variable', 'means', 'dispersions', 'dispersions_norm', 'highly_variable_nbatches', 'highly_variable_intersection'"
      ]
     },
     "execution_count": 19,
     "metadata": {},
     "output_type": "execute_result"
    }
   ],
   "source": [
    "out_of_sample_adata"
   ]
  },
  {
   "cell_type": "code",
   "execution_count": 21,
   "metadata": {},
   "outputs": [
    {
     "name": "stderr",
     "output_type": "stream",
     "text": [
      "... storing 'Age' as categorical\n",
      "... storing 'Subclass' as categorical\n",
      "... storing 'Taxonomy_group' as categorical\n",
      "... storing 'Tissue' as categorical\n",
      "... storing 'age' as categorical\n",
      "... storing 'cell_ontology_class' as categorical\n",
      "... storing 'cell_ontology_id' as categorical\n",
      "... storing 'cell_type' as categorical\n",
      "... storing 'class' as categorical\n",
      "... storing 'cluster' as categorical\n",
      "... storing 'cluster_id' as categorical\n",
      "... storing 'louvain' as categorical\n",
      "... storing 'reason' as categorical\n",
      "... storing 'refined_class' as categorical\n",
      "... storing 'region' as categorical\n",
      "... storing 'region_subcluster' as categorical\n",
      "... storing 'sample_type' as categorical\n",
      "... storing 'study' as categorical\n",
      "... storing 'subcluster' as categorical\n"
     ]
    }
   ],
   "source": [
    "subsampled_adata.concatenate(out_of_sample_adata).write_h5ad(\"./data/mouse_brain/mouse_brain_normalized_hvg_subsampled.h5ad\")"
   ]
  },
  {
   "cell_type": "code",
   "execution_count": null,
   "metadata": {},
   "outputs": [],
   "source": []
  }
 ],
 "metadata": {
  "kernelspec": {
   "display_name": "Python 3",
   "language": "python",
   "name": "python3"
  },
  "language_info": {
   "codemirror_mode": {
    "name": "ipython",
    "version": 3
   },
   "file_extension": ".py",
   "mimetype": "text/x-python",
   "name": "python",
   "nbconvert_exporter": "python",
   "pygments_lexer": "ipython3",
   "version": "3.7.6"
  }
 },
 "nbformat": 4,
 "nbformat_minor": 4
}
