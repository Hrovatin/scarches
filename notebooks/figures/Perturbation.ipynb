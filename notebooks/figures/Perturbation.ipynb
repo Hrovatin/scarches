{
 "cells": [
  {
   "cell_type": "code",
   "execution_count": 1,
   "metadata": {},
   "outputs": [],
   "source": [
    "import os\n",
    "os.chdir(\"../../\")"
   ]
  },
  {
   "cell_type": "code",
   "execution_count": 2,
   "metadata": {},
   "outputs": [
    {
     "name": "stderr",
     "output_type": "stream",
     "text": [
      "Using TensorFlow backend.\n",
      "/home/mohsen/miniconda3/envs/venv/lib/python3.6/site-packages/tensorflow/python/framework/dtypes.py:526: FutureWarning: Passing (type, 1) or '1type' as a synonym of type is deprecated; in a future version of numpy, it will be understood as (type, (1,)) / '(1,)type'.\n",
      "  _np_qint8 = np.dtype([(\"qint8\", np.int8, 1)])\n",
      "/home/mohsen/miniconda3/envs/venv/lib/python3.6/site-packages/tensorflow/python/framework/dtypes.py:527: FutureWarning: Passing (type, 1) or '1type' as a synonym of type is deprecated; in a future version of numpy, it will be understood as (type, (1,)) / '(1,)type'.\n",
      "  _np_quint8 = np.dtype([(\"quint8\", np.uint8, 1)])\n",
      "/home/mohsen/miniconda3/envs/venv/lib/python3.6/site-packages/tensorflow/python/framework/dtypes.py:528: FutureWarning: Passing (type, 1) or '1type' as a synonym of type is deprecated; in a future version of numpy, it will be understood as (type, (1,)) / '(1,)type'.\n",
      "  _np_qint16 = np.dtype([(\"qint16\", np.int16, 1)])\n",
      "/home/mohsen/miniconda3/envs/venv/lib/python3.6/site-packages/tensorflow/python/framework/dtypes.py:529: FutureWarning: Passing (type, 1) or '1type' as a synonym of type is deprecated; in a future version of numpy, it will be understood as (type, (1,)) / '(1,)type'.\n",
      "  _np_quint16 = np.dtype([(\"quint16\", np.uint16, 1)])\n",
      "/home/mohsen/miniconda3/envs/venv/lib/python3.6/site-packages/tensorflow/python/framework/dtypes.py:530: FutureWarning: Passing (type, 1) or '1type' as a synonym of type is deprecated; in a future version of numpy, it will be understood as (type, (1,)) / '(1,)type'.\n",
      "  _np_qint32 = np.dtype([(\"qint32\", np.int32, 1)])\n",
      "/home/mohsen/miniconda3/envs/venv/lib/python3.6/site-packages/tensorflow/python/framework/dtypes.py:535: FutureWarning: Passing (type, 1) or '1type' as a synonym of type is deprecated; in a future version of numpy, it will be understood as (type, (1,)) / '(1,)type'.\n",
      "  np_resource = np.dtype([(\"resource\", np.ubyte, 1)])\n"
     ]
    }
   ],
   "source": [
    "import surgeon\n",
    "import scanpy as sc\n",
    "import seaborn\n",
    "import numpy as np\n",
    "from scipy.stats import linregress"
   ]
  },
  {
   "cell_type": "code",
   "execution_count": 6,
   "metadata": {},
   "outputs": [],
   "source": [
    "cell_type = \"NK\"\n",
    "target_condition = \"stimulated\"\n",
    "source_condition = \"control\"\n",
    "target_dataset = \"Kang\""
   ]
  },
  {
   "cell_type": "code",
   "execution_count": 19,
   "metadata": {},
   "outputs": [
    {
     "data": {
      "text/plain": [
       "AnnData object with n_obs × n_vars = 298 × 1966 \n",
       "    obs: 'batch', 'cell_type', 'condition', 'integrated_snn_res.0.5', 'nCount_RNA', 'nFeature_RNA', 'n_counts', 'orig.ident', 'seurat_annotations', 'seurat_clusters', 'size_factors', 'stim', 'study'"
      ]
     },
     "execution_count": 19,
     "metadata": {},
     "output_type": "execute_result"
    }
   ],
   "source": [
    "reconstructed_adata = sc.read(\"./results/perturbation/reconstructed-1-mse.h5ad\")\n",
    "reconstructed_adata"
   ]
  },
  {
   "cell_type": "code",
   "execution_count": 20,
   "metadata": {},
   "outputs": [
    {
     "data": {
      "text/plain": [
       "AnnData object with n_obs × n_vars = 21742 × 1966 \n",
       "    obs: 'batch', 'cell_type', 'condition', 'integrated_snn_res.0.5', 'nCount_RNA', 'nFeature_RNA', 'n_counts', 'orig.ident', 'seurat_annotations', 'seurat_clusters', 'size_factors', 'stim', 'study'\n",
       "    var: 'highly_variable-0', 'means-0', 'dispersions-0', 'dispersions_norm-0'"
      ]
     },
     "execution_count": 20,
     "metadata": {},
     "output_type": "execute_result"
    }
   ],
   "source": [
    "adata = sc.read(\"./data/pbmc_perturb/pbmc_perturb_normalized.h5ad\")\n",
    "adata"
   ]
  },
  {
   "cell_type": "code",
   "execution_count": 21,
   "metadata": {},
   "outputs": [
    {
     "data": {
      "text/plain": [
       "View of AnnData object with n_obs × n_vars = 13576 × 1966 \n",
       "    obs: 'batch', 'cell_type', 'condition', 'integrated_snn_res.0.5', 'nCount_RNA', 'nFeature_RNA', 'n_counts', 'orig.ident', 'seurat_annotations', 'seurat_clusters', 'size_factors', 'stim', 'study'\n",
       "    var: 'highly_variable-0', 'means-0', 'dispersions-0', 'dispersions_norm-0'"
      ]
     },
     "execution_count": 21,
     "metadata": {},
     "output_type": "execute_result"
    }
   ],
   "source": [
    "kang = adata[adata.obs['study'] == 'Kang']\n",
    "kang"
   ]
  },
  {
   "cell_type": "code",
   "execution_count": 22,
   "metadata": {},
   "outputs": [
    {
     "data": {
      "text/plain": [
       "View of AnnData object with n_obs × n_vars = 619 × 1966 \n",
       "    obs: 'batch', 'cell_type', 'condition', 'integrated_snn_res.0.5', 'nCount_RNA', 'nFeature_RNA', 'n_counts', 'orig.ident', 'seurat_annotations', 'seurat_clusters', 'size_factors', 'stim', 'study'\n",
       "    var: 'highly_variable-0', 'means-0', 'dispersions-0', 'dispersions_norm-0'"
      ]
     },
     "execution_count": 22,
     "metadata": {},
     "output_type": "execute_result"
    }
   ],
   "source": [
    "cell_type_adata = kang[kang.obs['cell_type'] == 'NK']\n",
    "cell_type_adata"
   ]
  },
  {
   "cell_type": "code",
   "execution_count": 23,
   "metadata": {},
   "outputs": [],
   "source": [
    "target_adata = cell_type_adata[cell_type_adata.obs['condition'] == target_condition]\n",
    "source_adata = cell_type_adata[cell_type_adata.obs['condition'] == source_condition]"
   ]
  },
  {
   "cell_type": "code",
   "execution_count": 24,
   "metadata": {},
   "outputs": [],
   "source": [
    "pred_adata = reconstructed_adata"
   ]
  },
  {
   "cell_type": "code",
   "execution_count": 25,
   "metadata": {},
   "outputs": [],
   "source": [
    "x_mean = np.mean(pred_adata.X, axis=0)\n",
    "y_mean = np.mean(target_adata.X, axis=0)\n",
    "z_mean = np.mean(source_adata.X, axis=0)"
   ]
  },
  {
   "cell_type": "code",
   "execution_count": 26,
   "metadata": {},
   "outputs": [],
   "source": [
    "x_var = np.var(pred_adata.X, axis=0)\n",
    "y_var = np.var(target_adata.X, axis=0)\n",
    "z_var = np.var(source_adata.X, axis=0)"
   ]
  },
  {
   "cell_type": "code",
   "execution_count": 27,
   "metadata": {},
   "outputs": [
    {
     "name": "stderr",
     "output_type": "stream",
     "text": [
      "/home/mohsen/miniconda3/envs/venv/lib/python3.6/site-packages/scipy/stats/_stats_mstats_common.py:130: RuntimeWarning: invalid value encountered in double_scalars\n",
      "  slope = r_num / ssxm\n",
      "/home/mohsen/miniconda3/envs/venv/lib/python3.6/site-packages/scipy/stats/_stats_mstats_common.py:142: RuntimeWarning: divide by zero encountered in double_scalars\n",
      "  sterrest = np.sqrt((1 - r**2) * ssym / ssxm / df)\n"
     ]
    },
    {
     "data": {
      "text/plain": [
       "LinregressResult(slope=nan, intercept=nan, rvalue=0.0, pvalue=1.0, stderr=inf)"
      ]
     },
     "execution_count": 27,
     "metadata": {},
     "output_type": "execute_result"
    }
   ],
   "source": [
    "linregress(x_mean, y_mean)"
   ]
  },
  {
   "cell_type": "code",
   "execution_count": 41,
   "metadata": {},
   "outputs": [
    {
     "data": {
      "text/plain": [
       "LinregressResult(slope=1.2876575082223012, intercept=0.02777786234684889, rvalue=0.7236400732793239, pvalue=1.30212e-318, stderr=0.027711998035996395)"
      ]
     },
     "execution_count": 41,
     "metadata": {},
     "output_type": "execute_result"
    }
   ],
   "source": [
    "linregress(x_var, y_var)"
   ]
  },
  {
   "cell_type": "code",
   "execution_count": 42,
   "metadata": {},
   "outputs": [
    {
     "data": {
      "text/plain": [
       "stimulated    321\n",
       "Name: condition, dtype: int64"
      ]
     },
     "execution_count": 42,
     "metadata": {},
     "output_type": "execute_result"
    }
   ],
   "source": [
    "target_adata.obs['condition'].value_counts()"
   ]
  },
  {
   "cell_type": "code",
   "execution_count": 43,
   "metadata": {},
   "outputs": [],
   "source": [
    "pred_adata.obs['condition'] = \"pred_stimulated\""
   ]
  },
  {
   "cell_type": "code",
   "execution_count": 44,
   "metadata": {},
   "outputs": [
    {
     "data": {
      "text/plain": [
       "AnnData object with n_obs × n_vars = 619 × 1966 \n",
       "    obs: 'batch', 'cell_type', 'condition', 'integrated_snn_res.0.5', 'nCount_RNA', 'nFeature_RNA', 'n_counts', 'orig.ident', 'seurat_annotations', 'seurat_clusters', 'size_factors', 'stim', 'study'\n",
       "    var: 'highly_variable-0-1', 'means-0-1', 'dispersions-0-1', 'dispersions_norm-0-1'"
      ]
     },
     "execution_count": 44,
     "metadata": {},
     "output_type": "execute_result"
    }
   ],
   "source": [
    "adata_pred = pred_adata.concatenate(target_adata)\n",
    "adata_pred"
   ]
  },
  {
   "cell_type": "code",
   "execution_count": 45,
   "metadata": {},
   "outputs": [
    {
     "name": "stdout",
     "output_type": "stream",
     "text": [
      "reg_mean_all: 0.8104346313706633\n"
     ]
    },
    {
     "data": {
      "image/png": "[encoded data removed]",
      "text/plain": [
       "<Figure size 432x288 with 1 Axes>"
      ]
     },
     "metadata": {},
     "output_type": "display_data"
    }
   ],
   "source": [
    "surgeon.pl.reg_mean_plot(adata_pred,\n",
    "                         top_100_genes=None,\n",
    "                         gene_list=None,\n",
    "                         condition_key=\"condition\",\n",
    "                         axis_keys={'x': \"pred_stimulated\", 'y': \"stimulated\"},\n",
    "                         labels={'x': \"pred_stimulated\", 'y': \"stimulated\"},\n",
    "                         path_to_save=None,\n",
    "                         legend=False,\n",
    "                         show=True,\n",
    "                         x_coeff=1.0,\n",
    "                         y_coeff=0.0)"
   ]
  },
  {
   "cell_type": "code",
   "execution_count": 46,
   "metadata": {},
   "outputs": [
    {
     "name": "stdout",
     "output_type": "stream",
     "text": [
      "reg_var_all: 0.5236549556557053\n"
     ]
    },
    {
     "data": {
      "image/png": "[encoded data removed]",
      "text/plain": [
       "<Figure size 432x288 with 1 Axes>"
      ]
     },
     "metadata": {},
     "output_type": "display_data"
    }
   ],
   "source": [
    "surgeon.pl.reg_var_plot(adata_pred,\n",
    "                         top_100_genes=None,\n",
    "                         gene_list=None,\n",
    "                         condition_key=\"condition\",\n",
    "                         axis_keys={'x': \"pred_stimulated\", 'y': \"stimulated\"},\n",
    "                         labels={'x': \"pred_stimulated\", 'y': \"stimulated\"},\n",
    "                         path_to_save=None,\n",
    "                         legend=False,\n",
    "                         show=True,\n",
    "                         x_coeff=1.0,\n",
    "                         y_coeff=0.0)"
   ]
  },
  {
   "cell_type": "code",
   "execution_count": 3,
   "metadata": {},
   "outputs": [
    {
     "data": {
      "text/plain": [
       "AnnData object with n_obs × n_vars = 21742 × 1966 \n",
       "    obs: 'batch', 'cell_type', 'condition', 'integrated_snn_res.0.5', 'nCount_RNA', 'nFeature_RNA', 'n_counts', 'orig.ident', 'seurat_annotations', 'seurat_clusters', 'size_factors', 'stim', 'study'\n",
       "    var: 'highly_variable-0', 'means-0', 'dispersions-0', 'dispersions_norm-0'"
      ]
     },
     "execution_count": 3,
     "metadata": {},
     "output_type": "execute_result"
    }
   ],
   "source": [
    "adata = sc.read(\"./data/pbmc_perturb/pbmc_perturb_normalized.h5ad\")\n",
    "adata"
   ]
  },
  {
   "cell_type": "code",
   "execution_count": null,
   "metadata": {},
   "outputs": [],
   "source": []
  }
 ],
 "metadata": {
  "kernelspec": {
   "display_name": "Python 3",
   "language": "python",
   "name": "python3"
  },
  "language_info": {
   "codemirror_mode": {
    "name": "ipython",
    "version": 3
   },
   "file_extension": ".py",
   "mimetype": "text/x-python",
   "name": "python",
   "nbconvert_exporter": "python",
   "pygments_lexer": "ipython3",
   "version": "3.6.8"
  }
 },
 "nbformat": 4,
 "nbformat_minor": 2
}
