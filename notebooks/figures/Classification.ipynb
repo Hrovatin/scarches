{
 "cells": [
  {
   "cell_type": "code",
   "execution_count": 1,
   "metadata": {},
   "outputs": [],
   "source": [
    "import os\n",
    "os.chdir(\"../../\")"
   ]
  },
  {
   "cell_type": "code",
   "execution_count": 2,
   "metadata": {},
   "outputs": [
    {
     "name": "stderr",
     "output_type": "stream",
     "text": [
      "Using TensorFlow backend.\n",
      "/home/mohsen/miniconda3/envs/venv/lib/python3.6/site-packages/tensorflow/python/framework/dtypes.py:526: FutureWarning: Passing (type, 1) or '1type' as a synonym of type is deprecated; in a future version of numpy, it will be understood as (type, (1,)) / '(1,)type'.\n",
      "  _np_qint8 = np.dtype([(\"qint8\", np.int8, 1)])\n",
      "/home/mohsen/miniconda3/envs/venv/lib/python3.6/site-packages/tensorflow/python/framework/dtypes.py:527: FutureWarning: Passing (type, 1) or '1type' as a synonym of type is deprecated; in a future version of numpy, it will be understood as (type, (1,)) / '(1,)type'.\n",
      "  _np_quint8 = np.dtype([(\"quint8\", np.uint8, 1)])\n",
      "/home/mohsen/miniconda3/envs/venv/lib/python3.6/site-packages/tensorflow/python/framework/dtypes.py:528: FutureWarning: Passing (type, 1) or '1type' as a synonym of type is deprecated; in a future version of numpy, it will be understood as (type, (1,)) / '(1,)type'.\n",
      "  _np_qint16 = np.dtype([(\"qint16\", np.int16, 1)])\n",
      "/home/mohsen/miniconda3/envs/venv/lib/python3.6/site-packages/tensorflow/python/framework/dtypes.py:529: FutureWarning: Passing (type, 1) or '1type' as a synonym of type is deprecated; in a future version of numpy, it will be understood as (type, (1,)) / '(1,)type'.\n",
      "  _np_quint16 = np.dtype([(\"quint16\", np.uint16, 1)])\n",
      "/home/mohsen/miniconda3/envs/venv/lib/python3.6/site-packages/tensorflow/python/framework/dtypes.py:530: FutureWarning: Passing (type, 1) or '1type' as a synonym of type is deprecated; in a future version of numpy, it will be understood as (type, (1,)) / '(1,)type'.\n",
      "  _np_qint32 = np.dtype([(\"qint32\", np.int32, 1)])\n",
      "/home/mohsen/miniconda3/envs/venv/lib/python3.6/site-packages/tensorflow/python/framework/dtypes.py:535: FutureWarning: Passing (type, 1) or '1type' as a synonym of type is deprecated; in a future version of numpy, it will be understood as (type, (1,)) / '(1,)type'.\n",
      "  np_resource = np.dtype([(\"resource\", np.ubyte, 1)])\n"
     ]
    }
   ],
   "source": [
    "import scanpy as sc\n",
    "import surgeon\n",
    "from matplotlib import pyplot as plt\n",
    "from sklearn.metrics import classification_report, confusion_matrix, accuracy_score\n",
    "import seaborn as sns\n",
    "import pandas as pd"
   ]
  },
  {
   "cell_type": "code",
   "execution_count": 13,
   "metadata": {},
   "outputs": [
    {
     "data": {
      "text/plain": [
       "AnnData object with n_obs × n_vars = 24552 × 2000 \n",
       "    obs: 'batch', 'cell_type', 'study', 'n_counts', 'size_factors'\n",
       "    var: 'highly_variable', 'means', 'dispersions', 'dispersions_norm'"
      ]
     },
     "execution_count": 13,
     "metadata": {},
     "output_type": "execute_result"
    }
   ],
   "source": [
    "adata = sc.read(\"./data/panorama/panorama_normalized.h5ad\")\n",
    "adata"
   ]
  },
  {
   "cell_type": "code",
   "execution_count": 15,
   "metadata": {},
   "outputs": [
    {
     "data": {
      "text/plain": [
       "Macrophage                  6596\n",
       "PBMC T cells                3576\n",
       "PBMC CD4 T cells            2140\n",
       "Jurkat                      1846\n",
       "Neuron                      1806\n",
       "PBMC CD56+ NK               1390\n",
       "PBMC CD14+ monocyte          999\n",
       "Pancreas Alpha               971\n",
       "Pancreas Beta                936\n",
       "293t                         896\n",
       "PBMC CD8 T cells             798\n",
       "PBMC CD19+ B cells           690\n",
       "Pancreas Ductal              389\n",
       "Hsc MEP                      260\n",
       "Hsc GMP                      237\n",
       "Pancreas Delta               233\n",
       "Pancreas Endothelial         161\n",
       "Pancreas Acinar              136\n",
       "Hsc CMP                      135\n",
       "Pancreas Gamma               120\n",
       "Pancreas Stellate            114\n",
       "Pancreas Unkonwn              61\n",
       "Pancreas Beta(ER stress)      60\n",
       "Hsc Unknown                    2\n",
       "Name: cell_type, dtype: int64"
      ]
     },
     "execution_count": 15,
     "metadata": {},
     "output_type": "execute_result"
    }
   ],
   "source": [
    "adata.obs['cell_type'].value_counts()"
   ]
  },
  {
   "cell_type": "code",
   "execution_count": 14,
   "metadata": {},
   "outputs": [
    {
     "data": {
      "text/plain": [
       "study                   cell_type               \n",
       "293t                    293t                         577\n",
       "B Cells                 PBMC CD19+ B cells           452\n",
       "CD4 T Helper            PBMC CD4 T cells             742\n",
       "CD14 Monocytes          PBMC CD14+ monocyte           59\n",
       "CD56 NK                 PBMC CD56+ NK               1331\n",
       "Cytotoxic T Cells       PBMC CD8 T cells             798\n",
       "HSC Mars                Hsc CMP                       63\n",
       "                        Hsc GMP                      217\n",
       "                        Hsc MEP                      200\n",
       "HSC SS2                 Hsc CMP                       72\n",
       "                        Hsc GMP                       20\n",
       "                        Hsc MEP                       60\n",
       "                        Hsc Unknown                    2\n",
       "Jurkat                  Jurkat                       651\n",
       "Jurkat 293t 50:50       293t                         319\n",
       "                        Jurkat                       358\n",
       "Jurkat 293t 99:1        Jurkat                       837\n",
       "Macrophage Infected     Macrophage                  2397\n",
       "Macrophage Mixed        Macrophage                   434\n",
       "Macrophage Uninfected   Macrophage                  3626\n",
       "Macrophage Uninfected2  Macrophage                   139\n",
       "Memory T Cells          PBMC CD4 T cells             725\n",
       "Neuron9K                Neuron                      1806\n",
       "PBMC 10X                PBMC CD14+ monocyte          114\n",
       "                        PBMC CD19+ B cells            44\n",
       "                        PBMC CD56+ NK                  2\n",
       "                        PBMC T cells                 298\n",
       "PBMC 68K                PBMC CD14+ monocyte          321\n",
       "                        PBMC CD19+ B cells           193\n",
       "                        PBMC CD56+ NK                 57\n",
       "                                                    ... \n",
       "Pancreas Celseq         Pancreas Stellate              2\n",
       "                        Pancreas Unkonwn               3\n",
       "Pancreas Fluidigm C1    Pancreas Alpha                55\n",
       "                        Pancreas Beta                 57\n",
       "                        Pancreas Ductal                6\n",
       "                        Pancreas Endothelial           1\n",
       "                        Pancreas Gamma                 3\n",
       "                        Pancreas Stellate              2\n",
       "                        Pancreas Unkonwn               3\n",
       "Pancreas SS2            Pancreas Acinar               20\n",
       "                        Pancreas Alpha               227\n",
       "                        Pancreas Beta                150\n",
       "                        Pancreas Beta(ER stress)       3\n",
       "                        Pancreas Delta                34\n",
       "                        Pancreas Ductal               82\n",
       "                        Pancreas Endothelial          11\n",
       "                        Pancreas Gamma                47\n",
       "                        Pancreas Stellate             18\n",
       "                        Pancreas Unkonwn               5\n",
       "Pancreas inDrop         Pancreas Acinar               50\n",
       "                        Pancreas Alpha               472\n",
       "                        Pancreas Beta                552\n",
       "                        Pancreas Beta(ER stress)      41\n",
       "                        Pancreas Delta               141\n",
       "                        Pancreas Ductal              165\n",
       "                        Pancreas Endothelial         135\n",
       "                        Pancreas Gamma                42\n",
       "                        Pancreas Stellate             70\n",
       "                        Pancreas Unkonwn              45\n",
       "Regulatory T Cells      PBMC CD4 T cells             673\n",
       "Length: 82, dtype: int64"
      ]
     },
     "execution_count": 14,
     "metadata": {},
     "output_type": "execute_result"
    }
   ],
   "source": [
    "adata.obs.groupby(['study', 'cell_type']).size()"
   ]
  },
  {
   "cell_type": "code",
   "execution_count": 35,
   "metadata": {},
   "outputs": [
    {
     "data": {
      "text/plain": [
       "PBMC 68K            3601\n",
       "Pancreas inDrop     1713\n",
       "Jurkat               651\n",
       "Macrophage Mixed     434\n",
       "Name: study, dtype: int64"
      ]
     },
     "execution_count": 35,
     "metadata": {},
     "output_type": "execute_result"
    }
   ],
   "source": [
    "sc.read(\"./results/classification/predictions-1-mse.h5ad\").obs['study'].value_counts()"
   ]
  },
  {
   "cell_type": "code",
   "execution_count": 36,
   "metadata": {},
   "outputs": [],
   "source": [
    "results_df = sc.read(\"./results/classification/predictions-1-mse.h5ad\").obs"
   ]
  },
  {
   "cell_type": "code",
   "execution_count": 37,
   "metadata": {},
   "outputs": [],
   "source": [
    "true_labels = results_df['cell_type']\n",
    "pred_labels = results_df['predicted_TF']\n",
    "pred_sc_labels = results_df['predicted_scratch']\n",
    "knn_labels = results_df['predicted_KNN']"
   ]
  },
  {
   "cell_type": "code",
   "execution_count": 38,
   "metadata": {},
   "outputs": [],
   "source": [
    "cell_types = results_df['cell_type'].unique().tolist()"
   ]
  },
  {
   "cell_type": "code",
   "execution_count": 39,
   "metadata": {},
   "outputs": [],
   "source": [
    "cell_type_accuracies = {\"MLP - scratch\": {}, \n",
    "                        \"MLP - TF\" : {},\n",
    "                        \"KNN\": {}}"
   ]
  },
  {
   "cell_type": "code",
   "execution_count": 40,
   "metadata": {},
   "outputs": [],
   "source": [
    "for cell_type in cell_types:\n",
    "    cell_type_df = results_df[results_df['cell_type'] == cell_type]\n",
    "    cell_type_true_labels = true_labels[true_labels == cell_type]\n",
    "    cell_type_pred_labels_sc = pred_sc_labels[cell_type_true_labels.index]\n",
    "    cell_type_pred_labels_tf = pred_labels[cell_type_true_labels.index]\n",
    "    cell_type_pred_labels_knn = knn_labels[cell_type_true_labels.index]\n",
    "    cell_type_accuracies['MLP - scratch'][cell_type] = accuracy_score(cell_type_true_labels, cell_type_pred_labels_sc)\n",
    "    cell_type_accuracies['MLP - TF'][cell_type] = accuracy_score(cell_type_true_labels, cell_type_pred_labels_tf)\n",
    "    cell_type_accuracies['KNN'][cell_type] = accuracy_score(cell_type_true_labels, cell_type_pred_labels_knn)"
   ]
  },
  {
   "cell_type": "code",
   "execution_count": 41,
   "metadata": {},
   "outputs": [
    {
     "data": {
      "text/html": [
       "<div>\n",
       "<style scoped>\n",
       "    .dataframe tbody tr th:only-of-type {\n",
       "        vertical-align: middle;\n",
       "    }\n",
       "\n",
       "    .dataframe tbody tr th {\n",
       "        vertical-align: top;\n",
       "    }\n",
       "\n",
       "    .dataframe thead th {\n",
       "        text-align: right;\n",
       "    }\n",
       "</style>\n",
       "<table border=\"1\" class=\"dataframe\">\n",
       "  <thead>\n",
       "    <tr style=\"text-align: right;\">\n",
       "      <th></th>\n",
       "      <th>cell_type</th>\n",
       "      <th>MLP - scratch</th>\n",
       "      <th>MLP - TF</th>\n",
       "      <th>KNN</th>\n",
       "    </tr>\n",
       "  </thead>\n",
       "  <tbody>\n",
       "    <tr>\n",
       "      <th>0</th>\n",
       "      <td>Jurkat</td>\n",
       "      <td>1.000000</td>\n",
       "      <td>1.000000</td>\n",
       "      <td>0.998464</td>\n",
       "    </tr>\n",
       "    <tr>\n",
       "      <th>1</th>\n",
       "      <td>Macrophage</td>\n",
       "      <td>1.000000</td>\n",
       "      <td>1.000000</td>\n",
       "      <td>0.995392</td>\n",
       "    </tr>\n",
       "    <tr>\n",
       "      <th>2</th>\n",
       "      <td>Pancreas Beta</td>\n",
       "      <td>0.974638</td>\n",
       "      <td>0.972826</td>\n",
       "      <td>0.847826</td>\n",
       "    </tr>\n",
       "    <tr>\n",
       "      <th>3</th>\n",
       "      <td>Pancreas Alpha</td>\n",
       "      <td>1.000000</td>\n",
       "      <td>0.985169</td>\n",
       "      <td>0.938559</td>\n",
       "    </tr>\n",
       "    <tr>\n",
       "      <th>4</th>\n",
       "      <td>Pancreas Ductal</td>\n",
       "      <td>0.969697</td>\n",
       "      <td>0.987879</td>\n",
       "      <td>0.878788</td>\n",
       "    </tr>\n",
       "  </tbody>\n",
       "</table>\n",
       "</div>"
      ],
      "text/plain": [
       "         cell_type  MLP - scratch  MLP - TF       KNN\n",
       "0           Jurkat       1.000000  1.000000  0.998464\n",
       "1       Macrophage       1.000000  1.000000  0.995392\n",
       "2    Pancreas Beta       0.974638  0.972826  0.847826\n",
       "3   Pancreas Alpha       1.000000  0.985169  0.938559\n",
       "4  Pancreas Ductal       0.969697  0.987879  0.878788"
      ]
     },
     "execution_count": 41,
     "metadata": {},
     "output_type": "execute_result"
    }
   ],
   "source": [
    "acc_df = pd.DataFrame({\"cell_type\": cell_types, \"MLP - scratch\": list(cell_type_accuracies[\"MLP - scratch\"].values()), \"MLP - TF\": list(cell_type_accuracies['MLP - TF'].values()), \"KNN\": list(cell_type_accuracies['KNN'].values())})\n",
    "acc_df.head()"
   ]
  },
  {
   "cell_type": "code",
   "execution_count": 42,
   "metadata": {},
   "outputs": [
    {
     "data": {
      "text/html": [
       "<div>\n",
       "<style scoped>\n",
       "    .dataframe tbody tr th:only-of-type {\n",
       "        vertical-align: middle;\n",
       "    }\n",
       "\n",
       "    .dataframe tbody tr th {\n",
       "        vertical-align: top;\n",
       "    }\n",
       "\n",
       "    .dataframe thead th {\n",
       "        text-align: right;\n",
       "    }\n",
       "</style>\n",
       "<table border=\"1\" class=\"dataframe\">\n",
       "  <thead>\n",
       "    <tr style=\"text-align: right;\">\n",
       "      <th></th>\n",
       "      <th>cell_type</th>\n",
       "      <th>Method</th>\n",
       "      <th>acc</th>\n",
       "    </tr>\n",
       "  </thead>\n",
       "  <tbody>\n",
       "    <tr>\n",
       "      <th>0</th>\n",
       "      <td>Jurkat</td>\n",
       "      <td>MLP - scratch</td>\n",
       "      <td>1.000000</td>\n",
       "    </tr>\n",
       "    <tr>\n",
       "      <th>1</th>\n",
       "      <td>Macrophage</td>\n",
       "      <td>MLP - scratch</td>\n",
       "      <td>1.000000</td>\n",
       "    </tr>\n",
       "    <tr>\n",
       "      <th>2</th>\n",
       "      <td>Pancreas Beta</td>\n",
       "      <td>MLP - scratch</td>\n",
       "      <td>0.974638</td>\n",
       "    </tr>\n",
       "    <tr>\n",
       "      <th>3</th>\n",
       "      <td>Pancreas Alpha</td>\n",
       "      <td>MLP - scratch</td>\n",
       "      <td>1.000000</td>\n",
       "    </tr>\n",
       "    <tr>\n",
       "      <th>4</th>\n",
       "      <td>Pancreas Ductal</td>\n",
       "      <td>MLP - scratch</td>\n",
       "      <td>0.969697</td>\n",
       "    </tr>\n",
       "  </tbody>\n",
       "</table>\n",
       "</div>"
      ],
      "text/plain": [
       "         cell_type         Method       acc\n",
       "0           Jurkat  MLP - scratch  1.000000\n",
       "1       Macrophage  MLP - scratch  1.000000\n",
       "2    Pancreas Beta  MLP - scratch  0.974638\n",
       "3   Pancreas Alpha  MLP - scratch  1.000000\n",
       "4  Pancreas Ductal  MLP - scratch  0.969697"
      ]
     },
     "execution_count": 42,
     "metadata": {},
     "output_type": "execute_result"
    }
   ],
   "source": [
    "plot_acc_df = pd.melt(acc_df, id_vars=['cell_type'], var_name=['Method'], value_name='acc')\n",
    "plot_acc_df.head()"
   ]
  },
  {
   "cell_type": "code",
   "execution_count": 44,
   "metadata": {},
   "outputs": [],
   "source": [
    "cell_types_to_remove = ['Pancreas Beta', 'Pancreas Alpha', 'Pancreas Beta(ER stress)', \n",
    "                        'Pancreas Endothelial', 'Pancreas Unknown', 'PBMC CD56+ NK']"
   ]
  },
  {
   "cell_type": "code",
   "execution_count": 45,
   "metadata": {},
   "outputs": [],
   "source": [
    "plt_acc_df_subset = plot_acc_df[~plot_acc_df['cell_type'].isin(cell_types_to_remove)]"
   ]
  },
  {
   "cell_type": "code",
   "execution_count": 50,
   "metadata": {},
   "outputs": [
    {
     "data": {
      "text/plain": [
       "<function seaborn.rcmod.set(context='notebook', style='darkgrid', palette='deep', font='sans-serif', font_scale=1, color_codes=True, rc=None)>"
      ]
     },
     "execution_count": 50,
     "metadata": {},
     "output_type": "execute_result"
    }
   ],
   "source": [
    "sns.set"
   ]
  },
  {
   "cell_type": "code",
   "execution_count": 51,
   "metadata": {},
   "outputs": [],
   "source": [
    "import matplotlib\n",
    "font = {'family' : 'Arial',\n",
    "        'size'   : 14}\n",
    "\n",
    "matplotlib.rc('font', **font)\n",
    "matplotlib.rc('ytick', labelsize=22)\n",
    "matplotlib.rc('xtick', labelsize=22)"
   ]
  },
  {
   "cell_type": "code",
   "execution_count": 52,
   "metadata": {},
   "outputs": [
    {
     "data": {
      "text/plain": [
       "<Figure size 1080x360 with 0 Axes>"
      ]
     },
     "metadata": {},
     "output_type": "display_data"
    },
    {
     "data": {
      "image/png": "[encoded data removed]",
      "text/plain": [
       "<Figure size 1224x720 with 1 Axes>"
      ]
     },
     "metadata": {
      "needs_background": "light"
     },
     "output_type": "display_data"
    }
   ],
   "source": [
    "plt.close(\"all\")\n",
    "plt.figure(figsize=(15, 5))\n",
    "g = sns.catplot(x=\"cell_type\", y=\"acc\",\n",
    "                 hue=\"Method\", legend=False,\n",
    "                 data=plt_acc_df_subset, kind=\"bar\",\n",
    "                 height=10, aspect=1.7);\n",
    "plt.xlabel('', fontsize=22)\n",
    "plt.ylabel(\"\", fontsize=22)\n",
    "plt.xticks(rotation=90)\n",
    "plt.legend(bbox_to_anchor=(1.05,0.5), borderaxespad=0, loc='center left', prop={'size': 18})\n",
    "plt.tight_layout()\n",
    "plt.savefig(\"./results/classification/accuracies_barplot.pdf\", dpi=300)\n",
    "plt.show()"
   ]
  },
  {
   "cell_type": "code",
   "execution_count": null,
   "metadata": {},
   "outputs": [],
   "source": []
  }
 ],
 "metadata": {
  "kernelspec": {
   "display_name": "Python 3",
   "language": "python",
   "name": "python3"
  },
  "language_info": {
   "codemirror_mode": {
    "name": "ipython",
    "version": 3
   },
   "file_extension": ".py",
   "mimetype": "text/x-python",
   "name": "python",
   "nbconvert_exporter": "python",
   "pygments_lexer": "ipython3",
   "version": "3.6.8"
  }
 },
 "nbformat": 4,
 "nbformat_minor": 2
}
