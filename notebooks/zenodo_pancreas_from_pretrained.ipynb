{
 "cells": [
  {
   "cell_type": "markdown",
   "metadata": {},
   "source": [
    "# Train scNet on 2 Pancreas datasets from pre-trained scNet"
   ]
  },
  {
   "cell_type": "markdown",
   "metadata": {},
   "source": [
    "In this notebook, we are going to use train scNet on 5 different pancreas datasets. \n",
    "\n",
    "Please note that, architecture surgery is going to be performed inside `create_scNet_from_pre_trained_task` function. This is a tutorial for training scNet on a new task and share the trained network with Zenodo."
   ]
  },
  {
   "cell_type": "code",
   "execution_count": 2,
   "metadata": {},
   "outputs": [],
   "source": [
    "import os\n",
    "os.chdir(\"../../\")"
   ]
  },
  {
   "cell_type": "code",
   "execution_count": 3,
   "metadata": {},
   "outputs": [],
   "source": [
    "os.environ['CUDA_VISIBLE_DEVICES'] = '0'"
   ]
  },
  {
   "cell_type": "code",
   "execution_count": 4,
   "metadata": {},
   "outputs": [],
   "source": [
    "import scnet as sn\n",
    "import scanpy as sc"
   ]
  },
  {
   "cell_type": "code",
   "execution_count": 5,
   "metadata": {},
   "outputs": [],
   "source": [
    "sc.settings.set_figure_params(dpi=200)"
   ]
  },
  {
   "cell_type": "code",
   "execution_count": 6,
   "metadata": {},
   "outputs": [],
   "source": [
    "condition_key = \"study\"\n",
    "cell_type_key = \"cell_type\"\n",
    "target_conditions = ['Pancreas CelSeq2', 'Pancreas SS2']"
   ]
  },
  {
   "cell_type": "markdown",
   "metadata": {},
   "source": [
    "## Loading 5 pancreas datasets"
   ]
  },
  {
   "cell_type": "code",
   "execution_count": 7,
   "metadata": {},
   "outputs": [
    {
     "data": {
      "text/plain": [
       "AnnData object with n_obs × n_vars = 15681 × 1000 \n",
       "    obs: 'batch', 'study', 'cell_type', 'size_factors'"
      ]
     },
     "execution_count": 7,
     "metadata": {},
     "output_type": "execute_result"
    }
   ],
   "source": [
    "adata = sn.data.read(\"/home/mohsen/data/pancreas/pancreas_normalized.h5ad\")\n",
    "adata"
   ]
  },
  {
   "cell_type": "markdown",
   "metadata": {},
   "source": [
    "## Keep 2 target datasets"
   ]
  },
  {
   "cell_type": "code",
   "execution_count": 8,
   "metadata": {},
   "outputs": [
    {
     "data": {
      "text/plain": [
       "View of AnnData object with n_obs × n_vars = 5387 × 1000 \n",
       "    obs: 'batch', 'study', 'cell_type', 'size_factors'"
      ]
     },
     "execution_count": 8,
     "metadata": {},
     "output_type": "execute_result"
    }
   ],
   "source": [
    "adata = adata[adata.obs[condition_key].isin(target_conditions)]\n",
    "adata"
   ]
  },
  {
   "cell_type": "markdown",
   "metadata": {},
   "source": [
    "## Train/Test split "
   ]
  },
  {
   "cell_type": "code",
   "execution_count": 10,
   "metadata": {},
   "outputs": [
    {
     "data": {
      "text/plain": [
       "((4309, 1000), (1078, 1000))"
      ]
     },
     "execution_count": 10,
     "metadata": {},
     "output_type": "execute_result"
    }
   ],
   "source": [
    "train_adata, valid_adata = sn.utils.train_test_split(adata, 0.80)\n",
    "train_adata.shape, valid_adata.shape"
   ]
  },
  {
   "cell_type": "markdown",
   "metadata": {},
   "source": [
    "## Calculating number of conditions (n = 2)"
   ]
  },
  {
   "cell_type": "code",
   "execution_count": 11,
   "metadata": {},
   "outputs": [
    {
     "data": {
      "text/plain": [
       "2"
      ]
     },
     "execution_count": 11,
     "metadata": {},
     "output_type": "execute_result"
    }
   ],
   "source": [
    "n_conditions = len(train_adata.obs[condition_key].unique().tolist())\n",
    "n_conditions"
   ]
  },
  {
   "cell_type": "markdown",
   "metadata": {},
   "source": [
    "## Create scNet network from pre-trained task "
   ]
  },
  {
   "cell_type": "markdown",
   "metadata": {},
   "source": [
    "There are some parameters that worth to be mentioned here:\n",
    "\n",
    "- __path_or_link__: Path to downloaded zip file of scNet's model or a direct downloadable link.\n",
    "- __filename__: If `path_or_link` is a link, `filename` is used for the name of downloaded file.\n",
    "- __model_path__: path to save downloaded file from link and new trained scNet's model.\n",
    "- __new_task__: name of the new task to be solved.\n",
    "- __target_conditions__: list of target conditions(batches or domains) used to append to scNet's `condition_encoder`.\n",
    "- __version__: Version of scNet to be used. Can be one of `scNet`, `scNet v1`, and `scNet v2`."
   ]
  },
  {
   "cell_type": "code",
   "execution_count": 10,
   "metadata": {},
   "outputs": [],
   "source": [
    "link = \"https://zenodo.org/record/3834803/files/scNet-pancreas-inDropCelSeqFluidigmC1.zip?download=1\""
   ]
  },
  {
   "cell_type": "code",
   "execution_count": 11,
   "metadata": {},
   "outputs": [
    {
     "name": "stdout",
     "output_type": "stream",
     "text": [
      "File already exists!\n",
      "WARNING:tensorflow:From /home/mohsen/anaconda3/envs/mohsen/lib/python3.7/site-packages/tensorflow/python/framework/op_def_library.py:263: colocate_with (from tensorflow.python.framework.ops) is deprecated and will be removed in a future version.\n",
      "Instructions for updating:\n",
      "Colocations handled automatically by placer.\n",
      "WARNING:tensorflow:From /home/mohsen/anaconda3/envs/mohsen/lib/python3.7/site-packages/keras/backend/tensorflow_backend.py:3445: calling dropout (from tensorflow.python.ops.nn_ops) with keep_prob is deprecated and will be removed in a future version.\n",
      "Instructions for updating:\n",
      "Please use `rate` instead of `keep_prob`. Rate should be set to `rate = 1 - keep_prob`.\n",
      "scNet's network has been successfully constructed!\n",
      "scNet's network has been successfully compiled!\n",
      "scNet's network has been successfully constructed!\n",
      "scNet's network has been successfully compiled!\n",
      "scNet's network has been successfully compiled!\n"
     ]
    }
   ],
   "source": [
    "network = sn.create_scNet_from_pre_trained_task(\n",
    "    path_or_link=link,\n",
    "    filename='pancreas-inDropCelSeqFC1.zip',\n",
    "    model_path=\"./models/scNet/pancreas/\",\n",
    "    new_task=\"pancreas-CelSeq2,SS2\",\n",
    "    target_conditions=target_conditions,\n",
    "    version='scNet',\n",
    ")"
   ]
  },
  {
   "cell_type": "markdown",
   "metadata": {},
   "source": [
    "## Fine-tune pre-trained scNet "
   ]
  },
  {
   "cell_type": "markdown",
   "metadata": {},
   "source": [
    "You can train scNet with `scNet.train` function with the following parameters:\n",
    "\n",
    "1. __train_adata__: Annotated dataset used for training scNet.\n",
    "2. __valid_adata__: Annotated dataset used for validating scNet.\n",
    "3. __condition_key__: name of the column in `obs` matrix in `train_adata` and `valid_adata` which contains the conditions for each sample.\n",
    "4. __n_epochs__: number of epochs used to train scNet.\n",
    "5. __batch_size__: number of sample used to sample as mini-batches in order to optmize scNet. \n",
    "6. __early_stop_limit__: number of epochs used for EarlyStopping's patience.\n",
    "7. __lr_reducer__: number of epochs used for LRReduceOnPlateau's patience.\n",
    "8. __save__: whether to save scNet's model and configs after training phase or not. \n",
    "9. __retrain__: if `False` and scNet's pretrained model exists in `model_path`, will restore scNet's weights. Otherwise will train and validate scNet on `train_data` and `valid_adata` respectively. "
   ]
  },
  {
   "cell_type": "code",
   "execution_count": 12,
   "metadata": {},
   "outputs": [
    {
     "name": "stdout",
     "output_type": "stream",
     "text": [
      "WARNING:tensorflow:From /home/mohsen/anaconda3/envs/mohsen/lib/python3.7/site-packages/tensorflow/python/ops/math_ops.py:3066: to_int32 (from tensorflow.python.ops.math_ops) is deprecated and will be removed in a future version.\n",
      "Instructions for updating:\n",
      "Use tf.cast instead.\n",
      " |███████████---------| 56.7%  - loss: 3000.4598 - reconstruction_loss: 2994.0160 - mmd_loss: 6.4439 - val_loss: 3033.6113 - val_reconstruction_loss: 3024.9799 - val_mmd_loss: 8.63146\n",
      "scNet has been successfully saved in ./models/scNet/pancreas/after/.\n"
     ]
    }
   ],
   "source": [
    "network.train(train_adata,\n",
    "              valid_adata, \n",
    "              condition_key=condition_key,\n",
    "              n_epochs=1000,\n",
    "              batch_size=512, \n",
    "              early_stop_limit=10,\n",
    "              lr_reducer=8, \n",
    "              save=True, \n",
    "              retrain=True)"
   ]
  },
  {
   "cell_type": "markdown",
   "metadata": {},
   "source": [
    "## Shared Your Trained scNet with other Researchers using [Zenodo](https://zenodo.org/)"
   ]
  },
  {
   "cell_type": "markdown",
   "metadata": {},
   "source": [
    "You can easily get TOKEN by signing up in [**Zenodo**](https://zenodo.org/) Website and creating an app in the settings. You just have to following these steps for creating a new TOKEN: \n",
    "\n",
    "1. Sign in/Register in [__Zenodo__](https://zenodo.org/)\n",
    "2. Go to __Applications__ page.\n",
    "3. Click on __new_token__ in __Personal access tokens__ panel.\n",
    "4. Give it access for `deposit:actions` and `deposit:write`.\n",
    "\n",
    "__NOTE__: Zenodo will show the created TOKEN only once so be careful in preserving it. If you lost your TOKEN you have to create new one."
   ]
  },
  {
   "cell_type": "code",
   "execution_count": 13,
   "metadata": {},
   "outputs": [],
   "source": [
    "ACCESS_TOKEN = \"PX2vU2sfJVwgnCC1Qq6o9Ca6o5ygw64Kn7P5PEUFFg9yciEZbWIZR3wpc7BK\""
   ]
  },
  {
   "cell_type": "markdown",
   "metadata": {},
   "source": [
    "### 1. Create a Deposition in your zenodo account"
   ]
  },
  {
   "cell_type": "markdown",
   "metadata": {},
   "source": [
    "You can use wrapper functions in `zenodo` module in scNet package to interact with your depositions and uploaded files in Zenodo. In Zenodo, A deposition is a cloud space for a publication, poster, etc which contains multiple files."
   ]
  },
  {
   "cell_type": "markdown",
   "metadata": {},
   "source": [
    "In order to create a deposition in Zenodo, You can call our `create_deposition` function with the following parameters:\n",
    "\n",
    "-  __access_token__: Your access token\n",
    "-  __upload_type__: Type of the deposition, has to be one of the following types defined in [here](https://developers.zenodo.org/#representation).\n",
    "-  __title__: Title of the deposition.\n",
    "-  __description__: Description of the deposition.\n",
    "-  __creators__: List of creators of this deposition. Each item in the list has to be in the following form:\n",
    "\n",
    "```\n",
    "{\n",
    "    \"name\": \"LASTNAME, FIRSTNAME\", (Has to be in this format)\n",
    "    \"affiliation\": \"AFFILIATION\", (Optional)\n",
    "    \"orcid\": \"ORCID\" (Optional, has to be a valid ORCID)\n",
    "}\n",
    "```\n",
    "\n",
    "\n",
    "\n"
   ]
  },
  {
   "cell_type": "code",
   "execution_count": 14,
   "metadata": {},
   "outputs": [
    {
     "name": "stdout",
     "output_type": "stream",
     "text": [
      "New Deposition has been successfully created!\n"
     ]
    }
   ],
   "source": [
    "deposition_id = sn.zenodo.create_deposition(ACCESS_TOKEN, \n",
    "                                            upload_type=\"other\", \n",
    "                                            title='scNet-pancreasCelSeq2,SS2',\n",
    "                                            description='pre-trained scNet on CelSeq2, SmartSeq2',                                            \n",
    "                                            creators=[\n",
    "                                                {\"name\": \"Naghipourfar, Mohsen\", \"affiliation\": \"SUT\"},\n",
    "                                            ],\n",
    "                                            )"
   ]
  },
  {
   "cell_type": "markdown",
   "metadata": {},
   "source": [
    "### 2. Upload scNet to your deposition"
   ]
  },
  {
   "cell_type": "markdown",
   "metadata": {},
   "source": [
    "After creating a deposition, you can easily upload your pre-trained scNet model using `upload_model` function in `zenodo` module. This function accepts the following parameters:\n",
    "\n",
    "- __model__: Instance of scNet's class which is trained on your task\n",
    "- __deposition_id__: ID of the deposition you want to upload the model in.\n",
    "- __access_token__: Your TOKEN.\n",
    "\n",
    "The function will return the generated `download_link` in order to use and provide other "
   ]
  },
  {
   "cell_type": "code",
   "execution_count": 15,
   "metadata": {},
   "outputs": [
    {
     "name": "stdout",
     "output_type": "stream",
     "text": [
      "Model has been successfully uploaded\n"
     ]
    }
   ],
   "source": [
    "download_link = sn.zenodo.upload_model(network, \n",
    "                                       deposition_id=deposition_id, \n",
    "                                       access_token=ACCESS_TOKEN)"
   ]
  },
  {
   "cell_type": "code",
   "execution_count": 16,
   "metadata": {},
   "outputs": [
    {
     "data": {
      "text/plain": [
       "'https://zenodo.org/record/3834843/files/scNet-pancreas-CelSeq2SS2.zip?download=1'"
      ]
     },
     "execution_count": 16,
     "metadata": {},
     "output_type": "execute_result"
    }
   ],
   "source": [
    "download_link"
   ]
  },
  {
   "cell_type": "markdown",
   "metadata": {},
   "source": [
    "### 3. Publish the created deposition"
   ]
  },
  {
   "cell_type": "code",
   "execution_count": 17,
   "metadata": {},
   "outputs": [
    {
     "name": "stdout",
     "output_type": "stream",
     "text": [
      "Deposition with id = 3834843 has been successfully published!\n"
     ]
    }
   ],
   "source": [
    "sn.zenodo.publish_deposition(deposition_id, ACCESS_TOKEN)"
   ]
  },
  {
   "cell_type": "markdown",
   "metadata": {},
   "source": [
    "## Congrats! Your model is ready to be downloaded by others researchers!"
   ]
  },
  {
   "cell_type": "markdown",
   "metadata": {},
   "source": [
    "Now you can download model directly with `download_link` variable.\n",
    "You can also share your `download_link` with a title and a description of your task with scNet repository by sending pull requests. \n",
    "\n",
    "In order to do so, You have to do the following steps:\n",
    "\n",
    "- Fork [scNet](https://github.com/theislab/scNet) repository\n",
    "- Clone the forked repository using the following command:\n",
    "\n",
    "```bash\n",
    "git clone https://github.com/<YourUserName>/scNet\n",
    "cd scNet\n",
    "```\n",
    "\n",
    "- Create a new branch with: \n",
    "\n",
    "```bash\n",
    "git checkout -b NEW_BRANCH\n",
    "```\n",
    "\n",
    "- Create a new remote for the upstream repo with the command:\n",
    "\n",
    "```bash\n",
    "git remote add upstream https://github.com/theislab/scNet\n",
    "```\n",
    "\n",
    "```bash\n",
    "git checkout -b new_branch\n",
    "```\n",
    "\n",
    "- modify the `pretrained_models.md` file by adding a row to the table in the file.\n",
    "- commit and push your changes by the following command:\n",
    "\n",
    "```bash\n",
    "git commit pretrained_models.md -m \"added YOUR_MODEL\"\n",
    "git push -u origin NEW_BRANCH\n",
    "```\n",
    "\n",
    "- Finally, Once you push the changes to your repo, the Compare & pull request button will appear in your Github repo page "
   ]
  }
 ],
 "metadata": {
  "kernelspec": {
   "display_name": "Python 3",
   "language": "python",
   "name": "python3"
  },
  "language_info": {
   "codemirror_mode": {
    "name": "ipython",
    "version": 3
   },
   "file_extension": ".py",
   "mimetype": "text/x-python",
   "name": "python",
   "nbconvert_exporter": "python",
   "pygments_lexer": "ipython3",
   "version": "3.7.6"
  }
 },
 "nbformat": 4,
 "nbformat_minor": 4
}
