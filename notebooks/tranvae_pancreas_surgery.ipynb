{
 "cells": [
  {
   "cell_type": "code",
   "execution_count": 1,
   "metadata": {},
   "outputs": [],
   "source": [
    "import os\n",
    "import sys\n",
    "module_path = os.path.abspath(os.path.join('..'))\n",
    "if module_path not in sys.path:\n",
    "    sys.path.append(module_path)\n",
    "import warnings\n",
    "warnings.simplefilter(action='ignore', category=FutureWarning)\n",
    "warnings.simplefilter(action='ignore', category=UserWarning)"
   ]
  },
  {
   "cell_type": "code",
   "execution_count": 2,
   "metadata": {},
   "outputs": [],
   "source": [
    "import scanpy as sc\n",
    "import torch\n",
    "import scarches\n",
    "from scarches.models import TRANVAE\n",
    "from scarches.dataset import remove_sparsity\n",
    "import matplotlib.pyplot as plt\n",
    "import numpy as np"
   ]
  },
  {
   "cell_type": "code",
   "execution_count": 3,
   "metadata": {},
   "outputs": [],
   "source": [
    "sc.settings.set_figure_params(dpi=200, frameon=False)\n",
    "sc.set_figure_params(dpi=200)\n",
    "sc.set_figure_params(figsize=(4, 4))\n",
    "torch.set_printoptions(precision=3, sci_mode=False, edgeitems=7)"
   ]
  },
  {
   "cell_type": "code",
   "execution_count": 4,
   "metadata": {},
   "outputs": [],
   "source": [
    "label_ratio = 0"
   ]
  },
  {
   "cell_type": "code",
   "execution_count": 5,
   "metadata": {},
   "outputs": [],
   "source": [
    "condition_key = 'study'\n",
    "cell_type_key = 'cell_type'\n",
    "\n",
    "\n",
    "tranvae_epochs = 500\n",
    "target_conditions = ['Pancreas CelSeq2', 'Pancreas SS2']\n",
    "\n",
    "early_stopping_kwargs = {\n",
    "    \"early_stopping_metric\": \"val_unweighted_loss\",\n",
    "    \"threshold\": 0,\n",
    "    \"patience\": 20,\n",
    "    \"reduce_lr\": True,\n",
    "    \"lr_patience\": 13,\n",
    "    \"lr_factor\": 0.1,\n",
    "}"
   ]
  },
  {
   "cell_type": "code",
   "execution_count": 6,
   "metadata": {},
   "outputs": [],
   "source": [
    "adata_all = sc.read(os.path.expanduser(f'~/Documents/benchmarking_datasets/pancreas_normalized.h5ad'))\n",
    "adata = adata_all.raw.to_adata()\n",
    "adata = remove_sparsity(adata)\n",
    "source_adata = adata[~adata.obs[condition_key].isin(target_conditions)].copy()\n",
    "target_adata = adata[adata.obs[condition_key].isin(target_conditions)].copy()"
   ]
  },
  {
   "cell_type": "code",
   "execution_count": 7,
   "metadata": {},
   "outputs": [],
   "source": [
    "idx = np.arange(len(target_adata))\n",
    "np.random.shuffle(idx)\n",
    "n_labeled = int(label_ratio*len(target_adata))\n",
    "labeled_ind = idx[:n_labeled]"
   ]
  },
  {
   "cell_type": "code",
   "execution_count": 8,
   "metadata": {},
   "outputs": [
    {
     "name": "stdout",
     "output_type": "stream",
     "text": [
      "[]\n",
      "[]\n",
      "[]\n",
      "[]\n"
     ]
    }
   ],
   "source": [
    "print(target_adata.obs[condition_key][labeled_ind].unique().tolist())\n",
    "print(target_adata.obs[condition_key][~labeled_ind].unique().tolist())\n",
    "print(target_adata.obs[cell_type_key][labeled_ind].unique().tolist())\n",
    "print(target_adata.obs[cell_type_key][~labeled_ind].unique().tolist())"
   ]
  },
  {
   "cell_type": "code",
   "execution_count": 9,
   "metadata": {},
   "outputs": [
    {
     "name": "stdout",
     "output_type": "stream",
     "text": [
      "\n",
      "INITIALIZING NEW NETWORK..............\n",
      "Encoder Architecture:\n",
      "\tInput Layer in, out and cond: 1000 128 5\n",
      "\tHidden Layer 1 in/out: 128 128\n",
      "\tMean/Var Layer in/out: 128 10\n",
      "Decoder Architecture:\n",
      "\tFirst Layer in, out and cond:  10 128 5\n",
      "\tHidden Layer 1 in/out: 128 128\n",
      "\tOutput Layer in/out:  128 1000 \n",
      "\n"
     ]
    }
   ],
   "source": [
    "load_path = os.path.expanduser(f'~/Documents/aaa_dev_mars/pancreas_testing/reference_03/')\n",
    "tranvae = scarches.models.TRANVAE.load_query_data(\n",
    "    adata=target_adata,\n",
    "    reference_model = f'{load_path}reference_model/',\n",
    "    labeled_indices=labeled_ind,\n",
    ")"
   ]
  },
  {
   "cell_type": "code",
   "execution_count": 10,
   "metadata": {},
   "outputs": [
    {
     "data": {
      "text/plain": [
       "{'Pancreas inDrop': 0,\n",
       " 'Pancreas CelSeq': 1,\n",
       " 'Pancreas Fluidigm C1': 2,\n",
       " 'Pancreas CelSeq2': 3,\n",
       " 'Pancreas SS2': 4}"
      ]
     },
     "execution_count": 10,
     "metadata": {},
     "output_type": "execute_result"
    }
   ],
   "source": [
    "tranvae.model.condition_encoder"
   ]
  },
  {
   "cell_type": "code",
   "execution_count": 34,
   "metadata": {},
   "outputs": [
    {
     "name": "stdout",
     "output_type": "stream",
     "text": [
      "torch.Size([0, 2, 5])\n"
     ]
    }
   ],
   "source": [
    "unique_labels = []\n",
    "for key in tranvae.model.cell_type_encoder:\n",
    "    unique_labels.append(tranvae.model.cell_type_encoder[key])\n",
    "tensor_l = torch.unique(torch.tensor(unique_labels, requires_grad=False))\n",
    "x = torch.randn([30,5])\n",
    "indices = x.eq().nonzero()\n",
    "y = x[indices]\n",
    "y.mean(0)\n",
    "print(y.size())"
   ]
  },
  {
   "cell_type": "code",
   "execution_count": 12,
   "metadata": {},
   "outputs": [
    {
     "name": "stdout",
     "output_type": "stream",
     "text": [
      "[[-0.34  0.05 -0.23 -1.03  0.56 -0.03  0.01 -0.1  -0.34 -0.16]\n",
      " [-0.33  0.04 -0.23 -1.01  0.55 -0.04  0.01 -0.11 -0.38 -0.17]\n",
      " [-0.19 -0.05 -0.24  0.55  0.71  1.04 -0.59  0.37 -0.14  0.41]\n",
      " [-0.25  0.08 -0.24 -0.35 -0.33  0.77  0.34  1.72 -0.34  0.52]\n",
      " [-0.35  0.1  -0.11 -0.99  0.58 -0.01  0.04 -0.09 -0.36 -0.19]\n",
      " [-0.23  0.02 -0.2   0.03  0.31 -0.19 -0.05  0.37 -0.25  0.25]\n",
      " [-0.33  0.11 -0.23  0.05  0.32 -1.08  1.69  0.53 -0.21  0.76]\n",
      " [-0.1   0.02 -0.23 -0.31  1.19  0.8   1.28  0.47 -0.11  1.44]]\n",
      "[[-0.34  0.03 -0.17  0.18 -0.6   0.68  0.8  -0.57 -0.32  0.92]\n",
      " [-0.08  0.03 -0.23 -0.32  1.22  0.85  1.3   0.47 -0.11  1.48]\n",
      " [-0.19  0.02 -0.21  0.32 -0.26 -1.51 -0.32  0.64 -0.32  0.24]\n",
      " [-0.23  0.08 -0.24 -0.36 -0.35  0.79  0.35  1.77 -0.33  0.52]\n",
      " [-0.32  0.04 -0.31 -0.43  0.33 -0.58 -0.6   0.34 -0.21  1.96]\n",
      " [-0.19 -0.07 -0.23  0.59  0.72  1.08 -0.61  0.37 -0.13  0.41]\n",
      " [-0.33  0.07 -0.2  -1.05  0.57 -0.03  0.02 -0.12 -0.37 -0.19]\n",
      " [-0.33  0.11 -0.23  0.06  0.32 -1.09  1.71  0.53 -0.21  0.76]]\n"
     ]
    }
   ],
   "source": [
    "print(tranvae.model.landmarks_labeled)\n",
    "print(tranvae.model.landmarks_unlabeled)"
   ]
  },
  {
   "cell_type": "code",
   "execution_count": 13,
   "metadata": {},
   "outputs": [
    {
     "name": "stdout",
     "output_type": "stream",
     "text": [
      "[]\n"
     ]
    }
   ],
   "source": [
    "print(tranvae.labeled_indices_)"
   ]
  },
  {
   "cell_type": "code",
   "execution_count": null,
   "metadata": {},
   "outputs": [],
   "source": []
  },
  {
   "cell_type": "code",
   "execution_count": null,
   "metadata": {},
   "outputs": [],
   "source": []
  },
  {
   "cell_type": "code",
   "execution_count": null,
   "metadata": {},
   "outputs": [],
   "source": []
  },
  {
   "cell_type": "code",
   "execution_count": null,
   "metadata": {},
   "outputs": [],
   "source": []
  },
  {
   "cell_type": "code",
   "execution_count": null,
   "metadata": {},
   "outputs": [],
   "source": []
  },
  {
   "cell_type": "code",
   "execution_count": null,
   "metadata": {},
   "outputs": [],
   "source": []
  },
  {
   "cell_type": "code",
   "execution_count": null,
   "metadata": {},
   "outputs": [],
   "source": []
  },
  {
   "cell_type": "code",
   "execution_count": null,
   "metadata": {},
   "outputs": [],
   "source": []
  },
  {
   "cell_type": "code",
   "execution_count": null,
   "metadata": {},
   "outputs": [],
   "source": []
  },
  {
   "cell_type": "code",
   "execution_count": null,
   "metadata": {},
   "outputs": [],
   "source": []
  },
  {
   "cell_type": "code",
   "execution_count": null,
   "metadata": {},
   "outputs": [],
   "source": []
  },
  {
   "cell_type": "code",
   "execution_count": null,
   "metadata": {},
   "outputs": [],
   "source": []
  },
  {
   "cell_type": "code",
   "execution_count": null,
   "metadata": {},
   "outputs": [],
   "source": []
  },
  {
   "cell_type": "code",
   "execution_count": null,
   "metadata": {},
   "outputs": [],
   "source": []
  }
 ],
 "metadata": {
  "kernelspec": {
   "display_name": "scarches",
   "language": "python",
   "name": "scarches_testing"
  },
  "language_info": {
   "codemirror_mode": {
    "name": "ipython",
    "version": 3
   },
   "file_extension": ".py",
   "mimetype": "text/x-python",
   "name": "python",
   "nbconvert_exporter": "python",
   "pygments_lexer": "ipython3",
   "version": "3.7.7"
  }
 },
 "nbformat": 4,
 "nbformat_minor": 4
}
