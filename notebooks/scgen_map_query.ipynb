{
 "cells": [
  {
   "cell_type": "markdown",
   "metadata": {},
   "source": [
    "# Map query data"
   ]
  },
  {
   "cell_type": "code",
   "execution_count": 1,
   "metadata": {},
   "outputs": [],
   "source": [
    "import os\n",
    "import sys\n",
    "sys.path.insert(0, \"../\")\n",
    "\n",
    "import warnings\n",
    "warnings.simplefilter(action='ignore', category=FutureWarning)\n",
    "warnings.simplefilter(action='ignore', category=UserWarning)"
   ]
  },
  {
   "cell_type": "code",
   "execution_count": 2,
   "metadata": {},
   "outputs": [],
   "source": [
    "import scanpy as sc\n",
    "import scarches as sca\n",
    "from scarches.dataset.trvae.data_handling import remove_sparsity\n",
    "import matplotlib.pyplot as plt\n",
    "import numpy as np\n",
    "import gdown"
   ]
  },
  {
   "cell_type": "code",
   "execution_count": 3,
   "metadata": {},
   "outputs": [],
   "source": [
    "sc.settings.set_figure_params(dpi=200, frameon=False)\n",
    "sc.set_figure_params(dpi=200)\n",
    "sc.set_figure_params(figsize=(4, 4))"
   ]
  },
  {
   "cell_type": "markdown",
   "metadata": {},
   "source": [
    "### set relevant anndata.obs labels and training hyperparameters\n"
   ]
  },
  {
   "cell_type": "code",
   "execution_count": 4,
   "metadata": {},
   "outputs": [],
   "source": [
    "condition_key = 'study'\n",
    "cell_type_key = 'cell_type'\n",
    "target_conditions = ['Pancreas CelSeq2', 'Pancreas SS2']\n",
    "\n",
    "\n",
    "epoch = 100\n",
    "\n",
    "early_stopping_kwargs = {\n",
    "    \"early_stopping_metric\": \"val_loss\",\n",
    "    \"patience\": 20,\n",
    "    \"threshold\": 0,\n",
    "    \"reduce_lr\": True,\n",
    "    \"lr_patience\": 13,\n",
    "    \"lr_factor\": 0.1,\n",
    "}"
   ]
  },
  {
   "cell_type": "markdown",
   "metadata": {},
   "source": [
    "### Download Dataset and split into reference dataset and query dataset"
   ]
  },
  {
   "cell_type": "code",
   "execution_count": 5,
   "metadata": {},
   "outputs": [],
   "source": [
    "#url = 'https://drive.google.com/uc?id=1ehxgfHTsMZXy6YzlFKGJOsBKQ5rrvMnd'\n",
    "#output = 'pancreas.h5ad'\n",
    "#gdown.download(url, output, quiet=False)"
   ]
  },
  {
   "cell_type": "markdown",
   "metadata": {},
   "source": [
    "**Imortant note : scGen requires normalized and log-transformed data in `adata.X`**"
   ]
  },
  {
   "cell_type": "code",
   "execution_count": 6,
   "metadata": {},
   "outputs": [],
   "source": [
    "adata = sc.read('pancreas.h5ad')"
   ]
  },
  {
   "cell_type": "markdown",
   "metadata": {},
   "source": [
    "Here we use the CelSeq2 and SS2 studies as query data and the other 3 studies as reference atlas. We strongly suggest to use earlystopping to avoid over-fitting."
   ]
  },
  {
   "cell_type": "code",
   "execution_count": 7,
   "metadata": {},
   "outputs": [],
   "source": [
    "adata = remove_sparsity(adata) # remove sparsity \n",
    "source_adata = adata[~adata.obs[condition_key].isin(target_conditions)].copy()\n",
    "target_adata = adata[adata.obs[condition_key].isin(target_conditions)].copy()"
   ]
  },
  {
   "cell_type": "markdown",
   "metadata": {},
   "source": [
    "### Create scGen model and train it on reference dataset"
   ]
  },
  {
   "cell_type": "markdown",
   "metadata": {},
   "source": [
    "Create the scgen model instance"
   ]
  },
  {
   "cell_type": "code",
   "execution_count": 8,
   "metadata": {},
   "outputs": [
    {
     "name": "stdout",
     "output_type": "stream",
     "text": [
      "\n",
      "INITIALIZING NEW NETWORK..............\n",
      "Encoder Architecture:\n",
      "\tInput Layer in, out: 1000 256\n",
      "\tHidden Layer 1 in/out: 256 128\n",
      "\tMean/Var Layer in/out: 128 10\n",
      "Decoder Architecture:\n",
      "\tFirst Layer in, out 10 128\n",
      "\tHidden Layer 1 in/out: 128 256\n",
      "\tOutput Layer in/out:  256 1000 \n",
      "\n"
     ]
    }
   ],
   "source": [
    "network = sca.models.scgen(adata = source_adata, \n",
    "                           hidden_layer_sizes=[256,128])"
   ]
  },
  {
   "cell_type": "code",
   "execution_count": null,
   "metadata": {},
   "outputs": [
    {
     "name": "stdout",
     "output_type": "stream",
     "text": [
      " |██████████████████--| 94.0%  - epoch_loss: 1.9395432530 - val_loss: 1.8975884662"
     ]
    }
   ],
   "source": [
    "network.train(n_epochs=epoch, early_stopping_kwargs = early_stopping_kwargs)"
   ]
  },
  {
   "cell_type": "code",
   "execution_count": null,
   "metadata": {},
   "outputs": [],
   "source": [
    "#network = sca.models.scgen.load(dir_path = 'ref_model/', adata = source_adata)"
   ]
  },
  {
   "cell_type": "markdown",
   "metadata": {},
   "source": [
    "### uncorrected reference data latent representation"
   ]
  },
  {
   "cell_type": "code",
   "execution_count": null,
   "metadata": {},
   "outputs": [],
   "source": [
    "reference_latent = sc.AnnData(network.get_latent())\n",
    "reference_latent.obs[\"cell_type\"] = source_adata.obs[cell_type_key].tolist()\n",
    "reference_latent.obs[\"batch\"] = source_adata.obs[condition_key].tolist()"
   ]
  },
  {
   "cell_type": "code",
   "execution_count": null,
   "metadata": {},
   "outputs": [],
   "source": [
    "sc.pp.neighbors(reference_latent)\n",
    "sc.tl.umap(reference_latent)"
   ]
  },
  {
   "cell_type": "code",
   "execution_count": null,
   "metadata": {},
   "outputs": [],
   "source": [
    "sc.pl.umap(reference_latent,\n",
    "           color=['batch', 'cell_type'],\n",
    "           frameon=False,save=\"ref.pdf\", wspace=0.6)"
   ]
  },
  {
   "cell_type": "markdown",
   "metadata": {},
   "source": [
    "### correct batches in reference data"
   ]
  },
  {
   "cell_type": "markdown",
   "metadata": {},
   "source": [
    "This function returns corrected gene expression in `adata.X`, raw uncorrected data in `adata.obsm[\"original_data\"]`. Also it returns uncorrected data in `adata.layers[\"original_data\"]`.\n",
    "\n",
    "You can set `return_latent=True` and then it returns low-dimensional corrected latent space in `adata.obsm[\"latent_corrected\"]`"
   ]
  },
  {
   "cell_type": "code",
   "execution_count": null,
   "metadata": {},
   "outputs": [],
   "source": [
    "corrected_reference_adata = network.batch_removal(source_adata, batch_key=\"study\", cell_label_key=\"cell_type\",return_latent=True)"
   ]
  },
  {
   "cell_type": "code",
   "execution_count": null,
   "metadata": {},
   "outputs": [],
   "source": [
    "sc.pp.neighbors(corrected_reference_adata)\n",
    "sc.tl.umap(corrected_reference_adata)\n",
    "sc.pl.umap(corrected_reference_adata, color=[\"study\", \"cell_type\"], wspace=.5, frameon=False)"
   ]
  },
  {
   "cell_type": "markdown",
   "metadata": {},
   "source": [
    "### corrected reference data in latent representation"
   ]
  },
  {
   "cell_type": "code",
   "execution_count": null,
   "metadata": {},
   "outputs": [],
   "source": [
    "sc.pp.neighbors(corrected_reference_adata, use_rep=\"latent_corrected\")\n",
    "sc.tl.umap(corrected_reference_adata)\n",
    "sc.pl.umap(corrected_reference_adata,\n",
    "           color=['study', 'cell_type'],\n",
    "           frameon=False,\n",
    "           wspace=0.6,\n",
    "           )"
   ]
  },
  {
   "cell_type": "markdown",
   "metadata": {},
   "source": [
    "After pretraining the model can be saved for later use"
   ]
  },
  {
   "cell_type": "code",
   "execution_count": null,
   "metadata": {},
   "outputs": [],
   "source": [
    "ref_path = 'ref_model/'\n",
    "network.save(ref_path, overwrite=True)"
   ]
  },
  {
   "cell_type": "markdown",
   "metadata": {},
   "source": [
    "### Project query on top of the reference"
   ]
  },
  {
   "cell_type": "markdown",
   "metadata": {},
   "source": [
    "query data needs to be preprocessed same way as reference data with same genes"
   ]
  },
  {
   "cell_type": "markdown",
   "metadata": {},
   "source": [
    "This function need pretrained reference model, corrected gene expression from reference data and  incorrected query data "
   ]
  },
  {
   "cell_type": "code",
   "execution_count": null,
   "metadata": {},
   "outputs": [],
   "source": [
    "integrated_query = sca.models.scgen.map_query_data(reference_model = ref_path,\n",
    "                                                   corrected_reference = corrected_reference_adata,\n",
    "                                                   query = target_adata, \n",
    "                                                   return_latent=True)"
   ]
  },
  {
   "cell_type": "markdown",
   "metadata": {},
   "source": [
    "### Plot latent space of integrated_query and reference"
   ]
  },
  {
   "cell_type": "code",
   "execution_count": null,
   "metadata": {},
   "outputs": [],
   "source": [
    "sc.pp.neighbors(integrated_query, use_rep=\"latent_corrected\")\n",
    "sc.tl.umap(integrated_query)\n",
    "sc.pl.umap(\n",
    "    integrated_query,\n",
    "    color=[\"study\", \"cell_type\"],\n",
    "    frameon=False,\n",
    "    wspace=0.6)"
   ]
  },
  {
   "cell_type": "markdown",
   "metadata": {},
   "source": [
    "### Plot gene expression space of integrated_query and reference"
   ]
  },
  {
   "cell_type": "code",
   "execution_count": null,
   "metadata": {},
   "outputs": [],
   "source": [
    "sc.pp.neighbors(integrated_query)\n",
    "sc.tl.umap(integrated_query)\n",
    "sc.pl.umap(\n",
    "    integrated_query,\n",
    "    color=[\"study\", \"cell_type\"],\n",
    "    frameon=False,\n",
    "    wspace=0.6)"
   ]
  },
  {
   "cell_type": "code",
   "execution_count": null,
   "metadata": {},
   "outputs": [],
   "source": []
  }
 ],
 "metadata": {
  "kernelspec": {
   "display_name": "scgen_env",
   "language": "python",
   "name": "scgen_env"
  },
  "language_info": {
   "codemirror_mode": {
    "name": "ipython",
    "version": 3
   },
   "file_extension": ".py",
   "mimetype": "text/x-python",
   "name": "python",
   "nbconvert_exporter": "python",
   "pygments_lexer": "ipython3",
   "version": "3.7.6"
  }
 },
 "nbformat": 4,
 "nbformat_minor": 4
}
