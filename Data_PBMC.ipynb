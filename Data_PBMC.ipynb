{
 "cells": [
  {
   "cell_type": "code",
   "execution_count": 115,
   "metadata": {},
   "outputs": [],
   "source": [
    "import scanpy as sc\n",
    "import surgeon\n",
    "import numpy as np\n",
    "sc.settings.set_figure_params(dpi=200, frameon=False)"
   ]
  },
  {
   "cell_type": "code",
   "execution_count": 116,
   "metadata": {},
   "outputs": [],
   "source": [
    "condition_key = \"Method\"\n",
    "cell_type_key = 'CellType'\n",
    "target_condition = \"Drop-seq\""
   ]
  },
  {
   "cell_type": "code",
   "execution_count": 117,
   "metadata": {},
   "outputs": [
    {
     "name": "stderr",
     "output_type": "stream",
     "text": [
      "Observation names are not unique. To make them unique, call `.obs_names_make_unique`.\n"
     ]
    }
   ],
   "source": [
    "adata_broad = sc.read(\"./data/PBMC/broad_pbmc_count.h5ad\")\n",
    "adata_pbmc_bbknn = sc.read(\"./data/PBMC/bbknn_pbmc_raw.h5ad\")\n",
    "adata_pbmc_68k = sc.read(\"./data/PBMC/pbmc_68k.h5ad\")\n",
    "adata_small_3k = sc.read(\"./data/PBMC/pbmc3k.h5ad\")"
   ]
  },
  {
   "cell_type": "code",
   "execution_count": 118,
   "metadata": {},
   "outputs": [
    {
     "data": {
      "text/plain": [
       "CD4 T                1153\n",
       "CD14+ Monocytes       480\n",
       "B                     341\n",
       "CD8 T                 303\n",
       "NK                    157\n",
       "FCGR3A+ Monocytes     153\n",
       "Dendritic              36\n",
       "Megakaryocytes         15\n",
       "Name: CellType, dtype: int64"
      ]
     },
     "execution_count": 118,
     "metadata": {},
     "output_type": "execute_result"
    }
   ],
   "source": [
    "adata_small_3k.obs[cell_type_key] = adata_small_3k.obs['louvain']\n",
    "adata_small_3k.obs[cell_type_key].value_counts()"
   ]
  },
  {
   "cell_type": "code",
   "execution_count": 119,
   "metadata": {},
   "outputs": [
    {
     "data": {
      "text/plain": [
       "CD4+T               1153\n",
       "CD14+Monocyte        480\n",
       "B                    341\n",
       "CD8+T                303\n",
       "NK                   157\n",
       "FCGR3A+Monocytes     153\n",
       "Dendritic             36\n",
       "Megakaryocyte         15\n",
       "Name: CellType, dtype: int64"
      ]
     },
     "execution_count": 119,
     "metadata": {},
     "output_type": "execute_result"
    }
   ],
   "source": [
    "new_categories = ['CD4+T', 'CD14+Monocyte', 'B', 'CD8+T', 'NK', 'FCGR3A+Monocytes',\n",
    "       'Dendritic', 'Megakaryocyte']\n",
    "adata_small_3k.rename_categories(cell_type_key, new_categories)\n",
    "adata_small_3k.obs[cell_type_key].value_counts()"
   ]
  },
  {
   "cell_type": "code",
   "execution_count": 120,
   "metadata": {},
   "outputs": [],
   "source": [
    "adata_small_3k.obs[condition_key] = 'Small 3K'"
   ]
  },
  {
   "cell_type": "code",
   "execution_count": 121,
   "metadata": {},
   "outputs": [
    {
     "data": {
      "text/plain": [
       "Cytotoxic T cell               6094\n",
       "CD4+ T cell                    4867\n",
       "CD14+ monocyte                 3501\n",
       "B cell                         3269\n",
       "Natural killer cell            1147\n",
       "CD16+ monocyte                  653\n",
       "Megakaryocyte                   634\n",
       "Dendritic cell                  282\n",
       "Plasmacytoid dendritic cell     108\n",
       "Name: CellType, dtype: int64"
      ]
     },
     "execution_count": 121,
     "metadata": {},
     "output_type": "execute_result"
    }
   ],
   "source": [
    "adata_broad.obs[cell_type_key].value_counts()"
   ]
  },
  {
   "cell_type": "code",
   "execution_count": 122,
   "metadata": {},
   "outputs": [
    {
     "data": {
      "text/plain": [
       "Cytotoxic+T               6094\n",
       "CD4+T                     4867\n",
       "CD14+Monocyte             3501\n",
       "B                         3269\n",
       "NK                        1147\n",
       "CD16+Monocyte              653\n",
       "Megakaryocyte              634\n",
       "Dendritic                  282\n",
       "Plasmacytoid dendritic     108\n",
       "Name: CellType, dtype: int64"
      ]
     },
     "execution_count": 122,
     "metadata": {},
     "output_type": "execute_result"
    }
   ],
   "source": [
    "new_categories = ['B', 'CD4+T', 'CD14+Monocyte', 'CD16+Monocyte',\n",
    "       'Cytotoxic+T', 'Dendritic', 'Megakaryocyte',\n",
    "       'NK', 'Plasmacytoid dendritic']\n",
    "adata_broad.rename_categories(cell_type_key, new_categories)\n",
    "adata_broad.obs[cell_type_key].value_counts()"
   ]
  },
  {
   "cell_type": "code",
   "execution_count": 123,
   "metadata": {},
   "outputs": [
    {
     "data": {
      "text/plain": [
       "CD8+/CD45RA+ Naive Cytotoxic    21975\n",
       "CD4+/CD25 T Reg                 14112\n",
       "CD8+ Cytotoxic T                11445\n",
       "CD56+ NK                         5859\n",
       "CD19+ B                          3817\n",
       "CD14+ Monocyte                   3306\n",
       "CD4+/CD45RO+ Memory              3126\n",
       "CD4+/CD45RA+/CD25- Naive T       2793\n",
       "Dendritic                        1865\n",
       "CD34+                             262\n",
       "CD4+ T Helper2                     19\n",
       "Name: CellType, dtype: int64"
      ]
     },
     "execution_count": 123,
     "metadata": {},
     "output_type": "execute_result"
    }
   ],
   "source": [
    "adata_pbmc_68k.obs[cell_type_key] = adata_pbmc_68k.obs['bulk_labels']\n",
    "adata_pbmc_68k.obs[cell_type_key].value_counts()"
   ]
  },
  {
   "cell_type": "code",
   "execution_count": 124,
   "metadata": {},
   "outputs": [
    {
     "data": {
      "text/plain": [
       "CD8+/CD45RA+Naive Cytotoxic    21975\n",
       "CD4+/CD25+T                    14112\n",
       "CD8+Cytotoxic T                11445\n",
       "CD56+NK                         5859\n",
       "CD19+B                          3817\n",
       "CD14+Monocyte                   3306\n",
       "CD4+/CD45RO+Memory              3126\n",
       "CD4+/CD45RA+/CD25-Naive T       2793\n",
       "Dendritic                       1865\n",
       "CD34+                            262\n",
       "CD4+T                             19\n",
       "Name: CellType, dtype: int64"
      ]
     },
     "execution_count": 124,
     "metadata": {},
     "output_type": "execute_result"
    }
   ],
   "source": [
    "new_categories = ['CD4+T', 'CD4+/CD25+T', 'CD4+/CD45RA+/CD25-Naive T',\n",
    "       'CD4+/CD45RO+Memory', 'CD8+Cytotoxic T',\n",
    "       'CD8+/CD45RA+Naive Cytotoxic', 'CD14+Monocyte', 'CD19+B', 'CD34+',\n",
    "       'CD56+NK', 'Dendritic']\n",
    "adata_pbmc_68k.rename_categories(cell_type_key, new_categories)\n",
    "adata_pbmc_68k.obs[cell_type_key].value_counts()"
   ]
  },
  {
   "cell_type": "code",
   "execution_count": 125,
   "metadata": {},
   "outputs": [],
   "source": [
    "adata_pbmc_68k.obs[condition_key] = '68K'"
   ]
  },
  {
   "cell_type": "code",
   "execution_count": 126,
   "metadata": {},
   "outputs": [],
   "source": [
    "adata_small_3k = sc.AnnData(adata_small_3k.raw.X, var=adata_small_3k.raw.var, obs=adata_small_3k.obs) "
   ]
  },
  {
   "cell_type": "code",
   "execution_count": 127,
   "metadata": {},
   "outputs": [
    {
     "data": {
      "text/plain": [
       "(0.0, 157681.0)"
      ]
     },
     "execution_count": 127,
     "metadata": {},
     "output_type": "execute_result"
    }
   ],
   "source": [
    "adata_broad.X.min(), adata_broad.X.max() # Count"
   ]
  },
  {
   "cell_type": "code",
   "execution_count": 128,
   "metadata": {},
   "outputs": [
    {
     "data": {
      "text/plain": [
       "(0.0, 8.5225315)"
      ]
     },
     "execution_count": 128,
     "metadata": {},
     "output_type": "execute_result"
    }
   ],
   "source": [
    "adata_pbmc_bbknn.X.min(), adata_pbmc_bbknn.X.max() # Normalized"
   ]
  },
  {
   "cell_type": "code",
   "execution_count": 129,
   "metadata": {},
   "outputs": [
    {
     "data": {
      "text/plain": [
       "(0.0, 260.0)"
      ]
     },
     "execution_count": 129,
     "metadata": {},
     "output_type": "execute_result"
    }
   ],
   "source": [
    "adata_pbmc_68k.X.min(), adata_pbmc_68k.X.max() # Count"
   ]
  },
  {
   "cell_type": "code",
   "execution_count": 130,
   "metadata": {},
   "outputs": [
    {
     "data": {
      "text/plain": [
       "(0.0, 7.4695992)"
      ]
     },
     "execution_count": 130,
     "metadata": {},
     "output_type": "execute_result"
    }
   ],
   "source": [
    "adata_small_3k.X.min(), adata_small_3k.X.max() # Normalized"
   ]
  },
  {
   "cell_type": "markdown",
   "metadata": {},
   "source": [
    "## Normalize Broad & 68K adata"
   ]
  },
  {
   "cell_type": "code",
   "execution_count": 131,
   "metadata": {},
   "outputs": [
    {
     "name": "stderr",
     "output_type": "stream",
     "text": [
      "Observation names are not unique. To make them unique, call `.obs_names_make_unique`.\n",
      "Observation names are not unique. To make them unique, call `.obs_names_make_unique`.\n"
     ]
    }
   ],
   "source": [
    "sc.pp.normalize_per_cell(adata_broad)\n",
    "sc.pp.log1p(adata_broad)"
   ]
  },
  {
   "cell_type": "code",
   "execution_count": 132,
   "metadata": {},
   "outputs": [],
   "source": [
    "sc.pp.normalize_per_cell(adata_pbmc_68k)\n",
    "sc.pp.log1p(adata_pbmc_68k)"
   ]
  },
  {
   "cell_type": "code",
   "execution_count": 133,
   "metadata": {},
   "outputs": [
    {
     "data": {
      "text/plain": [
       "(0.0, 9.3747)"
      ]
     },
     "execution_count": 133,
     "metadata": {},
     "output_type": "execute_result"
    }
   ],
   "source": [
    "adata_broad.X.min(), adata_broad.X.max() "
   ]
  },
  {
   "cell_type": "code",
   "execution_count": 134,
   "metadata": {},
   "outputs": [
    {
     "data": {
      "text/plain": [
       "(0.0, 5.483166)"
      ]
     },
     "execution_count": 134,
     "metadata": {},
     "output_type": "execute_result"
    }
   ],
   "source": [
    "adata_pbmc_68k.X.min(), adata_pbmc_68k.X.max()"
   ]
  },
  {
   "cell_type": "code",
   "execution_count": 135,
   "metadata": {},
   "outputs": [],
   "source": [
    "adata_pbmc_68k.X = adata_pbmc_68k.X.A"
   ]
  },
  {
   "cell_type": "code",
   "execution_count": 136,
   "metadata": {},
   "outputs": [],
   "source": [
    "adata_small_3k.X = adata_small_3k.X.A"
   ]
  },
  {
   "cell_type": "code",
   "execution_count": 137,
   "metadata": {},
   "outputs": [
    {
     "name": "stderr",
     "output_type": "stream",
     "text": [
      "Observation names are not unique. To make them unique, call `.obs_names_make_unique`.\n",
      "Or pass `index_unique!=None` to `.concatenate`.\n"
     ]
    },
    {
     "data": {
      "text/plain": [
       "AnnData object with n_obs × n_vars = 91772 × 13157 \n",
       "    obs: 'CBC', 'CellType', 'Experiment', 'Method', 'batch', 'bulk_labels', 'louvain', 'n_counts', 'n_genes', 'percent_mito'\n",
       "    var: 'ENS-0', 'Name-0', 'n_counts-1', 'gene_ids-2', 'n_cells-2'"
      ]
     },
     "execution_count": 137,
     "metadata": {},
     "output_type": "execute_result"
    }
   ],
   "source": [
    "pbmc = adata_broad.concatenate(adata_pbmc_68k, adata_small_3k)\n",
    "pbmc"
   ]
  },
  {
   "cell_type": "code",
   "execution_count": 138,
   "metadata": {},
   "outputs": [
    {
     "data": {
      "text/plain": [
       "CD8+/CD45RA+Naive Cytotoxic    21975\n",
       "CD4+/CD25+T                    14112\n",
       "CD8+Cytotoxic T                11445\n",
       "CD14+Monocyte                   7287\n",
       "Cytotoxic+T                     6094\n",
       "CD4+T                           6039\n",
       "CD56+NK                         5859\n",
       "CD19+B                          3817\n",
       "B                               3610\n",
       "CD4+/CD45RO+Memory              3126\n",
       "CD4+/CD45RA+/CD25-Naive T       2793\n",
       "Dendritic                       2183\n",
       "NK                              1304\n",
       "CD16+Monocyte                    653\n",
       "Megakaryocyte                    649\n",
       "CD8+T                            303\n",
       "CD34+                            262\n",
       "FCGR3A+Monocytes                 153\n",
       "Plasmacytoid dendritic           108\n",
       "Name: CellType, dtype: int64"
      ]
     },
     "execution_count": 138,
     "metadata": {},
     "output_type": "execute_result"
    }
   ],
   "source": [
    "pbmc.obs[cell_type_key].value_counts()"
   ]
  },
  {
   "cell_type": "code",
   "execution_count": 139,
   "metadata": {},
   "outputs": [
    {
     "data": {
      "text/plain": [
       "68K                  68579\n",
       "Drop-seq              6584\n",
       "inDrops               6584\n",
       "10x Chromium V2 A     3222\n",
       "10x Chromium V2 B     3222\n",
       "Small 3K              2638\n",
       "Smart-seq2             526\n",
       "CEL-Seq2               417\n",
       "Name: Method, dtype: int64"
      ]
     },
     "execution_count": 139,
     "metadata": {},
     "output_type": "execute_result"
    }
   ],
   "source": [
    "pbmc.obs[condition_key].value_counts()"
   ]
  },
  {
   "cell_type": "markdown",
   "metadata": {},
   "source": [
    "## Select Highly Variable Genes"
   ]
  },
  {
   "cell_type": "code",
   "execution_count": 140,
   "metadata": {},
   "outputs": [],
   "source": [
    "sc.pp.highly_variable_genes(pbmc, n_top_genes=2000)"
   ]
  },
  {
   "cell_type": "code",
   "execution_count": 141,
   "metadata": {},
   "outputs": [
    {
     "data": {
      "text/plain": [
       "View of AnnData object with n_obs × n_vars = 91772 × 2000 \n",
       "    obs: 'CBC', 'CellType', 'Experiment', 'Method', 'batch', 'bulk_labels', 'louvain', 'n_counts', 'n_genes', 'percent_mito'\n",
       "    var: 'ENS-0', 'Name-0', 'n_counts-1', 'gene_ids-2', 'n_cells-2', 'highly_variable', 'means', 'dispersions', 'dispersions_norm'"
      ]
     },
     "execution_count": 141,
     "metadata": {},
     "output_type": "execute_result"
    }
   ],
   "source": [
    "pbmc = pbmc[:, pbmc.var['highly_variable']]\n",
    "pbmc"
   ]
  },
  {
   "cell_type": "code",
   "execution_count": 142,
   "metadata": {},
   "outputs": [
    {
     "data": {
      "text/plain": [
       "(ArrayView(0., dtype=float32), ArrayView(9.3747, dtype=float32))"
      ]
     },
     "execution_count": 142,
     "metadata": {},
     "output_type": "execute_result"
    }
   ],
   "source": [
    "pbmc.X.min(), pbmc.X.max()"
   ]
  },
  {
   "cell_type": "code",
   "execution_count": 143,
   "metadata": {},
   "outputs": [
    {
     "data": {
      "text/plain": [
       "68K                  68579\n",
       "Drop-seq              6584\n",
       "inDrops               6584\n",
       "10x Chromium V2 A     3222\n",
       "10x Chromium V2 B     3222\n",
       "Small 3K              2638\n",
       "Smart-seq2             526\n",
       "CEL-Seq2               417\n",
       "Name: Method, dtype: int64"
      ]
     },
     "execution_count": 143,
     "metadata": {},
     "output_type": "execute_result"
    }
   ],
   "source": [
    "pbmc.obs[condition_key].value_counts()"
   ]
  },
  {
   "cell_type": "code",
   "execution_count": 144,
   "metadata": {},
   "outputs": [
    {
     "data": {
      "text/plain": [
       "CD8+/CD45RA+Naive Cytotoxic    21975\n",
       "CD4+/CD25+T                    14112\n",
       "CD8+Cytotoxic T                11445\n",
       "CD14+Monocyte                   7287\n",
       "Cytotoxic+T                     6094\n",
       "CD4+T                           6039\n",
       "CD56+NK                         5859\n",
       "CD19+B                          3817\n",
       "B                               3610\n",
       "CD4+/CD45RO+Memory              3126\n",
       "CD4+/CD45RA+/CD25-Naive T       2793\n",
       "Dendritic                       2183\n",
       "NK                              1304\n",
       "CD16+Monocyte                    653\n",
       "Megakaryocyte                    649\n",
       "CD8+T                            303\n",
       "CD34+                            262\n",
       "FCGR3A+Monocytes                 153\n",
       "Plasmacytoid dendritic           108\n",
       "Name: CellType, dtype: int64"
      ]
     },
     "execution_count": 144,
     "metadata": {},
     "output_type": "execute_result"
    }
   ],
   "source": [
    "pbmc.obs[cell_type_key].value_counts()"
   ]
  },
  {
   "cell_type": "code",
   "execution_count": 145,
   "metadata": {},
   "outputs": [],
   "source": [
    "pbmc.obs_names_make_unique()"
   ]
  },
  {
   "cell_type": "code",
   "execution_count": 146,
   "metadata": {},
   "outputs": [
    {
     "name": "stderr",
     "output_type": "stream",
     "text": [
      "Trying to set attribute `.obs` of view, making a copy.\n",
      "... storing 'CBC' as categorical\n",
      "Trying to set attribute `.obs` of view, making a copy.\n",
      "... storing 'CellType' as categorical\n",
      "Trying to set attribute `.obs` of view, making a copy.\n",
      "... storing 'Experiment' as categorical\n",
      "Trying to set attribute `.obs` of view, making a copy.\n",
      "... storing 'Method' as categorical\n",
      "Trying to set attribute `.obs` of view, making a copy.\n",
      "... storing 'bulk_labels' as categorical\n",
      "Trying to set attribute `.obs` of view, making a copy.\n",
      "... storing 'louvain' as categorical\n"
     ]
    }
   ],
   "source": [
    "pbmc.write_h5ad(\"./data/pbmc/pbmc.h5ad\")"
   ]
  },
  {
   "cell_type": "code",
   "execution_count": 111,
   "metadata": {},
   "outputs": [],
   "source": []
  }
 ],
 "metadata": {
  "kernelspec": {
   "display_name": "Python 3",
   "language": "python",
   "name": "python3"
  },
  "language_info": {
   "codemirror_mode": {
    "name": "ipython",
    "version": 3
   },
   "file_extension": ".py",
   "mimetype": "text/x-python",
   "name": "python",
   "nbconvert_exporter": "python",
   "pygments_lexer": "ipython3",
   "version": "3.6.8"
  }
 },
 "nbformat": 4,
 "nbformat_minor": 2
}
